{
 "cells": [
  {
   "cell_type": "markdown",
   "metadata": {},
   "source": [
    "# 🖥️ Laptop Price Prediction 💰  \n",
    "### 🔍 A Machine Learning Approach to Estimating Laptop Prices  \n",
    "\n",
    "## 📌 Project Overview  \n",
    "This project aims to predict laptop prices based on hardware and software specifications using machine learning techniques. The dataset contains **1,303 entries** with **12 features**, including brand, processor, RAM, storage, GPU, and operating system, which influence a laptop's price.  \n",
    "\n",
    "## 🔗 Dataset Link  \n",
    "📂 You can access the dataset here: **[GitHub Dataset Link]** (Paste the link here after uploading)  \n",
    "\n",
    "## 🗄️ Dataset Description  \n",
    "The dataset consists of the following columns:  \n",
    "- **Company** (*Categorical*) – Laptop brand (e.g., Dell, Acer, HP)  \n",
    "- **TypeName** (*Categorical*) – Category (e.g., Gaming, Notebook, Convertible)  \n",
    "- **Inches** (*Numerical*) – Screen size in inches  \n",
    "- **ScreenResolution** (*Categorical*) – Display resolution & panel type  \n",
    "- **Cpu** (*Categorical*) – Processor details (model & speed)  \n",
    "- **Ram** (*Categorical → Converted to Numerical*) – RAM size  \n",
    "- **Memory** (*Categorical → Feature Engineered*) – Storage type and capacity  \n",
    "- **Gpu** (*Categorical*) – Graphics card model  \n",
    "- **OpSys** (*Categorical*) – Operating system  \n",
    "- **Weight** (*Categorical → Converted to Numerical*) – Laptop weight  \n",
    "- **Price** (*Numerical → Normalized*) – Target variable for prediction  \n",
    "\n",
    "**Note:** The `Unnamed: 0` column is dropped as it's unnecessary.  \n",
    "\n",
    "## 🛠️ Data Preprocessing Steps  \n",
    "Before applying machine learning models, we clean and transform the data:  \n",
    "✔ Convert data types where necessary  \n",
    "✔ Extract multiple details from **ScreenResolution** and **Memory**  \n",
    "✔ Remove unnecessary text (e.g., 'GB' from RAM, 'kg' from Weight)  \n",
    "✔ Encode categorical features using **One-Hot Encoding**  \n",
    "✔ Normalize the **Price** column to reduce variance impact and improve model interpretability  \n",
    "\n",
    "## 🤖 Machine Learning Models Used  \n",
    "To find the best-performing model, we experiment with:  \n",
    "- **Linear Regression**  \n",
    "- **Ridge & Lasso Regression**  \n",
    "- **Decision Tree & Random Forest**  \n",
    "- **K-Nearest Neighbors Regression**  \n",
    "- **Gradient Boosting, AdaBoost, Extra Trees Regression**  \n",
    "- **Support Vector Regression (SVR)**  \n",
    "- **Voting & Stacking Regressors**  \n",
    "\n",
    "**Observations:**  \n",
    "- **Voting Regressor & Stacking** were expected to improve results by **2-3%**, but the improvement was marginal, indicating ensembling limitations.  \n",
    "\n",
    "## 📊 Evaluation Metrics  \n",
    "To assess model performance, we use:  \n",
    "- **R² Score**: Measures how well the model explains price variance.  \n",
    "- **Mean Absolute Error (MAE)**: Measures the average deviation of predictions from actual prices, making it useful for real-world pricing accuracy.  \n",
    "\n",
    "## 🌍 Web Application (Streamlit)  \n",
    "A **Streamlit** web app is built, allowing users to input laptop specifications and receive a real-time predicted price.  \n",
    "\n",
    "## 🚀 Deployment (Heroku)  \n",
    "The application is deployed on **Heroku**, making it accessible online for user interaction.  \n",
    "\n",
    "🎯 **This project covers data preprocessing, machine learning model experimentation, performance evaluation, and a fully functional web-based prediction tool.**  \n"
   ]
  },
  {
   "cell_type": "code",
   "metadata": {
    "ExecuteTime": {
     "end_time": "2025-04-04T14:41:15.693946Z",
     "start_time": "2025-04-04T14:41:15.684841Z"
    }
   },
   "source": [
    "import numpy as np\n",
    "import pandas as pd\n",
    "import seaborn as sns\n",
    "import matplotlib.pyplot as plt"
   ],
   "outputs": [],
   "execution_count": 2
  },
  {
   "cell_type": "code",
   "metadata": {
    "ExecuteTime": {
     "end_time": "2025-04-04T14:41:20.242789Z",
     "start_time": "2025-04-04T14:41:20.176270Z"
    }
   },
   "source": [
    "df = pd.read_csv('laptop_data.csv')"
   ],
   "outputs": [],
   "execution_count": 3
  },
  {
   "cell_type": "code",
   "execution_count": 29,
   "metadata": {},
   "outputs": [
    {
     "data": {
      "text/html": [
       "<div>\n",
       "<style scoped>\n",
       "    .dataframe tbody tr th:only-of-type {\n",
       "        vertical-align: middle;\n",
       "    }\n",
       "\n",
       "    .dataframe tbody tr th {\n",
       "        vertical-align: top;\n",
       "    }\n",
       "\n",
       "    .dataframe thead th {\n",
       "        text-align: right;\n",
       "    }\n",
       "</style>\n",
       "<table border=\"1\" class=\"dataframe\">\n",
       "  <thead>\n",
       "    <tr style=\"text-align: right;\">\n",
       "      <th></th>\n",
       "      <th>Unnamed: 0</th>\n",
       "      <th>Company</th>\n",
       "      <th>TypeName</th>\n",
       "      <th>Inches</th>\n",
       "      <th>ScreenResolution</th>\n",
       "      <th>Cpu</th>\n",
       "      <th>Ram</th>\n",
       "      <th>Memory</th>\n",
       "      <th>Gpu</th>\n",
       "      <th>OpSys</th>\n",
       "      <th>Weight</th>\n",
       "      <th>Price</th>\n",
       "    </tr>\n",
       "  </thead>\n",
       "  <tbody>\n",
       "    <tr>\n",
       "      <th>730</th>\n",
       "      <td>730</td>\n",
       "      <td>Acer</td>\n",
       "      <td>Gaming</td>\n",
       "      <td>17.3</td>\n",
       "      <td>IPS Panel Full HD 1920x1080</td>\n",
       "      <td>Intel Core i7 6700HQ 2.6GHz</td>\n",
       "      <td>16GB</td>\n",
       "      <td>128GB SSD +  1TB HDD</td>\n",
       "      <td>Nvidia GeForce GTX 1060</td>\n",
       "      <td>Windows 10</td>\n",
       "      <td>4.2kg</td>\n",
       "      <td>103096.80</td>\n",
       "    </tr>\n",
       "    <tr>\n",
       "      <th>235</th>\n",
       "      <td>235</td>\n",
       "      <td>Dell</td>\n",
       "      <td>Notebook</td>\n",
       "      <td>15.6</td>\n",
       "      <td>Full HD 1920x1080</td>\n",
       "      <td>Intel Core i7 7500U 2.7GHz</td>\n",
       "      <td>16GB</td>\n",
       "      <td>256GB SSD</td>\n",
       "      <td>AMD Radeon R7 M445</td>\n",
       "      <td>Linux</td>\n",
       "      <td>2.36kg</td>\n",
       "      <td>47898.72</td>\n",
       "    </tr>\n",
       "    <tr>\n",
       "      <th>44</th>\n",
       "      <td>44</td>\n",
       "      <td>Dell</td>\n",
       "      <td>2 in 1 Convertible</td>\n",
       "      <td>17.3</td>\n",
       "      <td>Full HD / Touchscreen 1920x1080</td>\n",
       "      <td>Intel Core i5 8250U 1.6GHz</td>\n",
       "      <td>12GB</td>\n",
       "      <td>1TB HDD</td>\n",
       "      <td>Nvidia GeForce 150MX</td>\n",
       "      <td>Windows 10</td>\n",
       "      <td>2.77kg</td>\n",
       "      <td>53226.72</td>\n",
       "    </tr>\n",
       "    <tr>\n",
       "      <th>701</th>\n",
       "      <td>701</td>\n",
       "      <td>Lenovo</td>\n",
       "      <td>Notebook</td>\n",
       "      <td>15.6</td>\n",
       "      <td>Full HD 1920x1080</td>\n",
       "      <td>AMD A9-Series 9420 2.9GHz</td>\n",
       "      <td>4GB</td>\n",
       "      <td>256GB SSD</td>\n",
       "      <td>AMD Radeon 530</td>\n",
       "      <td>Windows 10</td>\n",
       "      <td>2.2kg</td>\n",
       "      <td>21258.72</td>\n",
       "    </tr>\n",
       "    <tr>\n",
       "      <th>711</th>\n",
       "      <td>711</td>\n",
       "      <td>Dell</td>\n",
       "      <td>Notebook</td>\n",
       "      <td>14.0</td>\n",
       "      <td>Full HD 1920x1080</td>\n",
       "      <td>Intel Core i5 7440HQ 2.8GHz</td>\n",
       "      <td>8GB</td>\n",
       "      <td>256GB SSD</td>\n",
       "      <td>Nvidia GeForce 930MX</td>\n",
       "      <td>Linux</td>\n",
       "      <td>1.64kg</td>\n",
       "      <td>58021.92</td>\n",
       "    </tr>\n",
       "  </tbody>\n",
       "</table>\n",
       "</div>"
      ],
      "text/plain": [
       "     Unnamed: 0 Company            TypeName  Inches  \\\n",
       "730         730    Acer              Gaming    17.3   \n",
       "235         235    Dell            Notebook    15.6   \n",
       "44           44    Dell  2 in 1 Convertible    17.3   \n",
       "701         701  Lenovo            Notebook    15.6   \n",
       "711         711    Dell            Notebook    14.0   \n",
       "\n",
       "                    ScreenResolution                          Cpu   Ram  \\\n",
       "730      IPS Panel Full HD 1920x1080  Intel Core i7 6700HQ 2.6GHz  16GB   \n",
       "235                Full HD 1920x1080   Intel Core i7 7500U 2.7GHz  16GB   \n",
       "44   Full HD / Touchscreen 1920x1080   Intel Core i5 8250U 1.6GHz  12GB   \n",
       "701                Full HD 1920x1080    AMD A9-Series 9420 2.9GHz   4GB   \n",
       "711                Full HD 1920x1080  Intel Core i5 7440HQ 2.8GHz   8GB   \n",
       "\n",
       "                   Memory                      Gpu       OpSys  Weight  \\\n",
       "730  128GB SSD +  1TB HDD  Nvidia GeForce GTX 1060  Windows 10   4.2kg   \n",
       "235             256GB SSD       AMD Radeon R7 M445       Linux  2.36kg   \n",
       "44                1TB HDD     Nvidia GeForce 150MX  Windows 10  2.77kg   \n",
       "701             256GB SSD           AMD Radeon 530  Windows 10   2.2kg   \n",
       "711             256GB SSD     Nvidia GeForce 930MX       Linux  1.64kg   \n",
       "\n",
       "         Price  \n",
       "730  103096.80  \n",
       "235   47898.72  \n",
       "44    53226.72  \n",
       "701   21258.72  \n",
       "711   58021.92  "
      ]
     },
     "execution_count": 29,
     "metadata": {},
     "output_type": "execute_result"
    }
   ],
   "source": [
    "df.sample(5)"
   ]
  },
  {
   "cell_type": "markdown",
   "metadata": {},
   "source": [
    "## 🔍 Data Quality Assessment & Preprocessing  \n",
    "\n",
    "### ✅ Data Integrity  \n",
    "1. **No duplicate values** exist in the dataset.  \n",
    "2. **No missing (null) values** are present.  \n",
    "\n",
    "### 🔧 Data Cleaning & Feature Engineering  \n",
    "3. The **'Unnamed: 0'** column is redundant and will be **removed**.  \n",
    "4. **'ScreenResolution'** contains multiple attributes; we will **extract relevant details** and then **drop** this column.  \n",
    "5. Extracting **CPU brand & model** from the **'Cpu'** column.  \n",
    "6. **Standardizing RAM values** by removing the **'GB'** unit and converting it to **integer type**.  \n",
    "7. **Decomposing 'Memory' column** into separate attributes: **HDD, SSD, Hybrid, and Flash Storage**, each representing the respective storage capacity.  \n",
    "8. Extracting the **GPU brand** from the **'Gpu'** column.  \n",
    "9. **Optimizing the 'OpSys' column** by grouping similar operating systems into broader categories.  \n",
    "10. Cleaning the **'Weight' column** by removing **'kg'** and converting it to **float type**.  \n",
    "11. **Converting 'Price' from float to int** for **faster computation, optimized storage, and improved readability** of the predicted price.  \n"
   ]
  },
  {
   "cell_type": "code",
   "execution_count": null,
   "metadata": {},
   "outputs": [
    {
     "data": {
      "text/plain": [
       "(1303, 12)"
      ]
     },
     "execution_count": 4,
     "metadata": {},
     "output_type": "execute_result"
    }
   ],
   "source": [
    "df.shape"
   ]
  },
  {
   "cell_type": "code",
   "execution_count": null,
   "metadata": {},
   "outputs": [
    {
     "name": "stdout",
     "output_type": "stream",
     "text": [
      "<class 'pandas.core.frame.DataFrame'>\n",
      "RangeIndex: 1303 entries, 0 to 1302\n",
      "Data columns (total 12 columns):\n",
      " #   Column            Non-Null Count  Dtype  \n",
      "---  ------            --------------  -----  \n",
      " 0   Unnamed: 0        1303 non-null   int64  \n",
      " 1   Company           1303 non-null   object \n",
      " 2   TypeName          1303 non-null   object \n",
      " 3   Inches            1303 non-null   float64\n",
      " 4   ScreenResolution  1303 non-null   object \n",
      " 5   Cpu               1303 non-null   object \n",
      " 6   Ram               1303 non-null   object \n",
      " 7   Memory            1303 non-null   object \n",
      " 8   Gpu               1303 non-null   object \n",
      " 9   OpSys             1303 non-null   object \n",
      " 10  Weight            1303 non-null   object \n",
      " 11  Price             1303 non-null   float64\n",
      "dtypes: float64(2), int64(1), object(9)\n",
      "memory usage: 122.3+ KB\n"
     ]
    }
   ],
   "source": [
    "# weight column contains kg, will remove kg and then converting to float\n",
    "# We will convert price from float to int.\n",
    "df.info()"
   ]
  },
  {
   "cell_type": "code",
   "execution_count": 5,
   "metadata": {},
   "outputs": [
    {
     "data": {
      "text/plain": [
       "np.int64(0)"
      ]
     },
     "execution_count": 5,
     "metadata": {},
     "output_type": "execute_result"
    }
   ],
   "source": [
    "# No duplicate value\n",
    "df.duplicated().sum()"
   ]
  },
  {
   "cell_type": "code",
   "execution_count": 9,
   "metadata": {},
   "outputs": [
    {
     "data": {
      "text/plain": [
       "Unnamed: 0          0\n",
       "Company             0\n",
       "TypeName            0\n",
       "Inches              0\n",
       "ScreenResolution    0\n",
       "Cpu                 0\n",
       "Ram                 0\n",
       "Memory              0\n",
       "Gpu                 0\n",
       "OpSys               0\n",
       "Weight              0\n",
       "Price               0\n",
       "dtype: int64"
      ]
     },
     "execution_count": 9,
     "metadata": {},
     "output_type": "execute_result"
    }
   ],
   "source": [
    "# No null value\n",
    "df.isnull().sum()"
   ]
  },
  {
   "cell_type": "code",
   "metadata": {
    "ExecuteTime": {
     "end_time": "2025-04-04T14:41:31.184653Z",
     "start_time": "2025-04-04T14:41:31.169665Z"
    }
   },
   "source": [
    "df.drop(columns= ['Unnamed: 0'], inplace=True)"
   ],
   "outputs": [],
   "execution_count": 4
  },
  {
   "cell_type": "code",
   "execution_count": 12,
   "metadata": {},
   "outputs": [
    {
     "data": {
      "text/html": [
       "<div>\n",
       "<style scoped>\n",
       "    .dataframe tbody tr th:only-of-type {\n",
       "        vertical-align: middle;\n",
       "    }\n",
       "\n",
       "    .dataframe tbody tr th {\n",
       "        vertical-align: top;\n",
       "    }\n",
       "\n",
       "    .dataframe thead th {\n",
       "        text-align: right;\n",
       "    }\n",
       "</style>\n",
       "<table border=\"1\" class=\"dataframe\">\n",
       "  <thead>\n",
       "    <tr style=\"text-align: right;\">\n",
       "      <th></th>\n",
       "      <th>Company</th>\n",
       "      <th>TypeName</th>\n",
       "      <th>Inches</th>\n",
       "      <th>ScreenResolution</th>\n",
       "      <th>Cpu</th>\n",
       "      <th>Ram</th>\n",
       "      <th>Memory</th>\n",
       "      <th>Gpu</th>\n",
       "      <th>OpSys</th>\n",
       "      <th>Weight</th>\n",
       "      <th>Price</th>\n",
       "    </tr>\n",
       "  </thead>\n",
       "  <tbody>\n",
       "    <tr>\n",
       "      <th>1234</th>\n",
       "      <td>Apple</td>\n",
       "      <td>Ultrabook</td>\n",
       "      <td>11.6</td>\n",
       "      <td>1366x768</td>\n",
       "      <td>Intel Core i5 1.6GHz</td>\n",
       "      <td>4GB</td>\n",
       "      <td>256GB Flash Storage</td>\n",
       "      <td>Intel HD Graphics 6000</td>\n",
       "      <td>Mac OS X</td>\n",
       "      <td>1.08kg</td>\n",
       "      <td>51095.52</td>\n",
       "    </tr>\n",
       "  </tbody>\n",
       "</table>\n",
       "</div>"
      ],
      "text/plain": [
       "     Company   TypeName  Inches ScreenResolution                   Cpu  Ram  \\\n",
       "1234   Apple  Ultrabook    11.6         1366x768  Intel Core i5 1.6GHz  4GB   \n",
       "\n",
       "                   Memory                     Gpu     OpSys  Weight     Price  \n",
       "1234  256GB Flash Storage  Intel HD Graphics 6000  Mac OS X  1.08kg  51095.52  "
      ]
     },
     "execution_count": 12,
     "metadata": {},
     "output_type": "execute_result"
    }
   ],
   "source": [
    "df.sample()"
   ]
  },
  {
   "cell_type": "code",
   "execution_count": 16,
   "metadata": {},
   "outputs": [
    {
     "data": {
      "text/plain": [
       "ScreenResolution\n",
       "Full HD 1920x1080                                507\n",
       "1366x768                                         281\n",
       "IPS Panel Full HD 1920x1080                      230\n",
       "IPS Panel Full HD / Touchscreen 1920x1080         53\n",
       "Full HD / Touchscreen 1920x1080                   47\n",
       "1600x900                                          23\n",
       "Touchscreen 1366x768                              16\n",
       "Quad HD+ / Touchscreen 3200x1800                  15\n",
       "IPS Panel 4K Ultra HD 3840x2160                   12\n",
       "IPS Panel 4K Ultra HD / Touchscreen 3840x2160     11\n",
       "4K Ultra HD / Touchscreen 3840x2160               10\n",
       "IPS Panel 1366x768                                 7\n",
       "Touchscreen 2560x1440                              7\n",
       "4K Ultra HD 3840x2160                              7\n",
       "IPS Panel Retina Display 2304x1440                 6\n",
       "IPS Panel Retina Display 2560x1600                 6\n",
       "Touchscreen 2256x1504                              6\n",
       "IPS Panel Quad HD+ / Touchscreen 3200x1800         6\n",
       "IPS Panel Touchscreen 2560x1440                    5\n",
       "IPS Panel Retina Display 2880x1800                 4\n",
       "1440x900                                           4\n",
       "IPS Panel Touchscreen 1920x1200                    4\n",
       "IPS Panel 2560x1440                                4\n",
       "IPS Panel Quad HD+ 2560x1440                       3\n",
       "IPS Panel Touchscreen 1366x768                     3\n",
       "Quad HD+ 3200x1800                                 3\n",
       "1920x1080                                          3\n",
       "2560x1440                                          3\n",
       "Touchscreen 2400x1600                              3\n",
       "IPS Panel Quad HD+ 3200x1800                       2\n",
       "IPS Panel Full HD 2160x1440                        2\n",
       "IPS Panel Touchscreen / 4K Ultra HD 3840x2160      2\n",
       "IPS Panel Full HD 1366x768                         1\n",
       "Touchscreen / Quad HD+ 3200x1800                   1\n",
       "IPS Panel Retina Display 2736x1824                 1\n",
       "IPS Panel Full HD 2560x1440                        1\n",
       "IPS Panel Full HD 1920x1200                        1\n",
       "Touchscreen / Full HD 1920x1080                    1\n",
       "Touchscreen / 4K Ultra HD 3840x2160                1\n",
       "IPS Panel Touchscreen 2400x1600                    1\n",
       "Name: count, dtype: int64"
      ]
     },
     "execution_count": 16,
     "metadata": {},
     "output_type": "execute_result"
    }
   ],
   "source": [
    "df['ScreenResolution'].value_counts()"
   ]
  },
  {
   "cell_type": "code",
   "metadata": {
    "ExecuteTime": {
     "end_time": "2025-04-04T14:41:40.061352Z",
     "start_time": "2025-04-04T14:41:40.041132Z"
    }
   },
   "source": [
    "df['Touchscreen'] = df['ScreenResolution'].apply(lambda x: 1 if 'Touchscreen' in x else 0)"
   ],
   "outputs": [],
   "execution_count": 5
  },
  {
   "cell_type": "code",
   "execution_count": 21,
   "metadata": {},
   "outputs": [
    {
     "data": {
      "text/html": [
       "<div>\n",
       "<style scoped>\n",
       "    .dataframe tbody tr th:only-of-type {\n",
       "        vertical-align: middle;\n",
       "    }\n",
       "\n",
       "    .dataframe tbody tr th {\n",
       "        vertical-align: top;\n",
       "    }\n",
       "\n",
       "    .dataframe thead th {\n",
       "        text-align: right;\n",
       "    }\n",
       "</style>\n",
       "<table border=\"1\" class=\"dataframe\">\n",
       "  <thead>\n",
       "    <tr style=\"text-align: right;\">\n",
       "      <th></th>\n",
       "      <th>Company</th>\n",
       "      <th>TypeName</th>\n",
       "      <th>Inches</th>\n",
       "      <th>ScreenResolution</th>\n",
       "      <th>Cpu</th>\n",
       "      <th>Ram</th>\n",
       "      <th>Memory</th>\n",
       "      <th>Gpu</th>\n",
       "      <th>OpSys</th>\n",
       "      <th>Weight</th>\n",
       "      <th>Price</th>\n",
       "      <th>Touchscreen</th>\n",
       "    </tr>\n",
       "  </thead>\n",
       "  <tbody>\n",
       "    <tr>\n",
       "      <th>186</th>\n",
       "      <td>Dell</td>\n",
       "      <td>Notebook</td>\n",
       "      <td>15.6</td>\n",
       "      <td>4K Ultra HD / Touchscreen 3840x2160</td>\n",
       "      <td>Intel Core i7 7700HQ 2.8GHz</td>\n",
       "      <td>16GB</td>\n",
       "      <td>512GB SSD</td>\n",
       "      <td>Nvidia GeForce GTX 1050</td>\n",
       "      <td>Windows 10</td>\n",
       "      <td>2.06kg</td>\n",
       "      <td>127712.1600</td>\n",
       "      <td>1</td>\n",
       "    </tr>\n",
       "    <tr>\n",
       "      <th>888</th>\n",
       "      <td>Acer</td>\n",
       "      <td>Netbook</td>\n",
       "      <td>11.6</td>\n",
       "      <td>IPS Panel 1366x768</td>\n",
       "      <td>Intel Celeron Dual Core N3060 1.6GHz</td>\n",
       "      <td>4GB</td>\n",
       "      <td>32GB Flash Storage</td>\n",
       "      <td>Intel HD Graphics 400</td>\n",
       "      <td>Chrome OS</td>\n",
       "      <td>1.25kg</td>\n",
       "      <td>15824.1600</td>\n",
       "      <td>0</td>\n",
       "    </tr>\n",
       "    <tr>\n",
       "      <th>115</th>\n",
       "      <td>HP</td>\n",
       "      <td>2 in 1 Convertible</td>\n",
       "      <td>13.3</td>\n",
       "      <td>IPS Panel Full HD / Touchscreen 1920x1080</td>\n",
       "      <td>Intel Core i5 8250U 1.6GHz</td>\n",
       "      <td>8GB</td>\n",
       "      <td>256GB SSD</td>\n",
       "      <td>Intel UHD Graphics 620</td>\n",
       "      <td>Windows 10</td>\n",
       "      <td>1.26kg</td>\n",
       "      <td>74538.1872</td>\n",
       "      <td>1</td>\n",
       "    </tr>\n",
       "    <tr>\n",
       "      <th>656</th>\n",
       "      <td>Dell</td>\n",
       "      <td>Notebook</td>\n",
       "      <td>15.6</td>\n",
       "      <td>Full HD 1920x1080</td>\n",
       "      <td>Intel Core i7 8550U 1.8GHz</td>\n",
       "      <td>8GB</td>\n",
       "      <td>256GB SSD</td>\n",
       "      <td>AMD Radeon 530</td>\n",
       "      <td>Windows 10</td>\n",
       "      <td>2.2kg</td>\n",
       "      <td>48964.3200</td>\n",
       "      <td>0</td>\n",
       "    </tr>\n",
       "    <tr>\n",
       "      <th>910</th>\n",
       "      <td>Dell</td>\n",
       "      <td>Notebook</td>\n",
       "      <td>14.0</td>\n",
       "      <td>Full HD 1920x1080</td>\n",
       "      <td>Intel Core i5 7440HQ 2.8GHz</td>\n",
       "      <td>8GB</td>\n",
       "      <td>256GB SSD</td>\n",
       "      <td>Intel HD Graphics 620</td>\n",
       "      <td>Windows 10</td>\n",
       "      <td>1.6kg</td>\n",
       "      <td>64202.4000</td>\n",
       "      <td>0</td>\n",
       "    </tr>\n",
       "  </tbody>\n",
       "</table>\n",
       "</div>"
      ],
      "text/plain": [
       "    Company            TypeName  Inches  \\\n",
       "186    Dell            Notebook    15.6   \n",
       "888    Acer             Netbook    11.6   \n",
       "115      HP  2 in 1 Convertible    13.3   \n",
       "656    Dell            Notebook    15.6   \n",
       "910    Dell            Notebook    14.0   \n",
       "\n",
       "                              ScreenResolution  \\\n",
       "186        4K Ultra HD / Touchscreen 3840x2160   \n",
       "888                         IPS Panel 1366x768   \n",
       "115  IPS Panel Full HD / Touchscreen 1920x1080   \n",
       "656                          Full HD 1920x1080   \n",
       "910                          Full HD 1920x1080   \n",
       "\n",
       "                                      Cpu   Ram              Memory  \\\n",
       "186           Intel Core i7 7700HQ 2.8GHz  16GB           512GB SSD   \n",
       "888  Intel Celeron Dual Core N3060 1.6GHz   4GB  32GB Flash Storage   \n",
       "115            Intel Core i5 8250U 1.6GHz   8GB           256GB SSD   \n",
       "656            Intel Core i7 8550U 1.8GHz   8GB           256GB SSD   \n",
       "910           Intel Core i5 7440HQ 2.8GHz   8GB           256GB SSD   \n",
       "\n",
       "                         Gpu       OpSys  Weight        Price  Touchscreen  \n",
       "186  Nvidia GeForce GTX 1050  Windows 10  2.06kg  127712.1600            1  \n",
       "888    Intel HD Graphics 400   Chrome OS  1.25kg   15824.1600            0  \n",
       "115   Intel UHD Graphics 620  Windows 10  1.26kg   74538.1872            1  \n",
       "656           AMD Radeon 530  Windows 10   2.2kg   48964.3200            0  \n",
       "910    Intel HD Graphics 620  Windows 10   1.6kg   64202.4000            0  "
      ]
     },
     "execution_count": 21,
     "metadata": {},
     "output_type": "execute_result"
    }
   ],
   "source": [
    "df.sample(5)"
   ]
  },
  {
   "cell_type": "code",
   "execution_count": 20,
   "metadata": {},
   "outputs": [
    {
     "data": {
      "text/plain": [
       "Touchscreen\n",
       "0    1111\n",
       "1     192\n",
       "Name: count, dtype: int64"
      ]
     },
     "execution_count": 20,
     "metadata": {},
     "output_type": "execute_result"
    }
   ],
   "source": [
    "df['Touchscreen'].value_counts()"
   ]
  },
  {
   "cell_type": "code",
   "metadata": {
    "ExecuteTime": {
     "end_time": "2025-04-04T14:41:47.505556Z",
     "start_time": "2025-04-04T14:41:47.494233Z"
    }
   },
   "source": [
    "df['IPS'] = df['ScreenResolution'].apply(lambda x : 1 if 'IPS' in x else 0)"
   ],
   "outputs": [],
   "execution_count": 6
  },
  {
   "cell_type": "code",
   "execution_count": 23,
   "metadata": {},
   "outputs": [
    {
     "data": {
      "text/html": [
       "<div>\n",
       "<style scoped>\n",
       "    .dataframe tbody tr th:only-of-type {\n",
       "        vertical-align: middle;\n",
       "    }\n",
       "\n",
       "    .dataframe tbody tr th {\n",
       "        vertical-align: top;\n",
       "    }\n",
       "\n",
       "    .dataframe thead th {\n",
       "        text-align: right;\n",
       "    }\n",
       "</style>\n",
       "<table border=\"1\" class=\"dataframe\">\n",
       "  <thead>\n",
       "    <tr style=\"text-align: right;\">\n",
       "      <th></th>\n",
       "      <th>Company</th>\n",
       "      <th>TypeName</th>\n",
       "      <th>Inches</th>\n",
       "      <th>ScreenResolution</th>\n",
       "      <th>Cpu</th>\n",
       "      <th>Ram</th>\n",
       "      <th>Memory</th>\n",
       "      <th>Gpu</th>\n",
       "      <th>OpSys</th>\n",
       "      <th>Weight</th>\n",
       "      <th>Price</th>\n",
       "      <th>Touchscreen</th>\n",
       "      <th>IPS</th>\n",
       "    </tr>\n",
       "  </thead>\n",
       "  <tbody>\n",
       "    <tr>\n",
       "      <th>916</th>\n",
       "      <td>HP</td>\n",
       "      <td>Notebook</td>\n",
       "      <td>13.3</td>\n",
       "      <td>Full HD 1920x1080</td>\n",
       "      <td>Intel Core i5 7200U 2.5GHz</td>\n",
       "      <td>8GB</td>\n",
       "      <td>256GB SSD</td>\n",
       "      <td>Intel HD Graphics 620</td>\n",
       "      <td>Windows 10</td>\n",
       "      <td>1.49kg</td>\n",
       "      <td>51148.800</td>\n",
       "      <td>0</td>\n",
       "      <td>0</td>\n",
       "    </tr>\n",
       "    <tr>\n",
       "      <th>819</th>\n",
       "      <td>Dell</td>\n",
       "      <td>Notebook</td>\n",
       "      <td>14.0</td>\n",
       "      <td>1366x768</td>\n",
       "      <td>Intel Core i5 6200U 2.3GHz</td>\n",
       "      <td>4GB</td>\n",
       "      <td>500GB HDD</td>\n",
       "      <td>Intel HD Graphics 520</td>\n",
       "      <td>Windows 10</td>\n",
       "      <td>1.76kg</td>\n",
       "      <td>40226.400</td>\n",
       "      <td>0</td>\n",
       "      <td>0</td>\n",
       "    </tr>\n",
       "    <tr>\n",
       "      <th>705</th>\n",
       "      <td>Dell</td>\n",
       "      <td>Notebook</td>\n",
       "      <td>15.6</td>\n",
       "      <td>Full HD 1920x1080</td>\n",
       "      <td>Intel Core i5 7200U 2.5GHz</td>\n",
       "      <td>8GB</td>\n",
       "      <td>256GB SSD</td>\n",
       "      <td>Intel HD Graphics 620</td>\n",
       "      <td>Windows 10</td>\n",
       "      <td>2.18kg</td>\n",
       "      <td>42357.600</td>\n",
       "      <td>0</td>\n",
       "      <td>0</td>\n",
       "    </tr>\n",
       "    <tr>\n",
       "      <th>925</th>\n",
       "      <td>Dell</td>\n",
       "      <td>Notebook</td>\n",
       "      <td>15.6</td>\n",
       "      <td>1366x768</td>\n",
       "      <td>Intel Core i5 6200U 2.3GHz</td>\n",
       "      <td>4GB</td>\n",
       "      <td>500GB HDD</td>\n",
       "      <td>Intel HD Graphics 520</td>\n",
       "      <td>Windows 10</td>\n",
       "      <td>1.95kg</td>\n",
       "      <td>38889.072</td>\n",
       "      <td>0</td>\n",
       "      <td>0</td>\n",
       "    </tr>\n",
       "    <tr>\n",
       "      <th>847</th>\n",
       "      <td>Asus</td>\n",
       "      <td>Ultrabook</td>\n",
       "      <td>13.3</td>\n",
       "      <td>IPS Panel Full HD 1920x1080</td>\n",
       "      <td>Intel Core i5 6200U 2.3GHz</td>\n",
       "      <td>8GB</td>\n",
       "      <td>512GB SSD</td>\n",
       "      <td>Nvidia GeForce 940M</td>\n",
       "      <td>Windows 10</td>\n",
       "      <td>1.45kg</td>\n",
       "      <td>54665.280</td>\n",
       "      <td>0</td>\n",
       "      <td>1</td>\n",
       "    </tr>\n",
       "  </tbody>\n",
       "</table>\n",
       "</div>"
      ],
      "text/plain": [
       "    Company   TypeName  Inches             ScreenResolution  \\\n",
       "916      HP   Notebook    13.3            Full HD 1920x1080   \n",
       "819    Dell   Notebook    14.0                     1366x768   \n",
       "705    Dell   Notebook    15.6            Full HD 1920x1080   \n",
       "925    Dell   Notebook    15.6                     1366x768   \n",
       "847    Asus  Ultrabook    13.3  IPS Panel Full HD 1920x1080   \n",
       "\n",
       "                            Cpu  Ram     Memory                    Gpu  \\\n",
       "916  Intel Core i5 7200U 2.5GHz  8GB  256GB SSD  Intel HD Graphics 620   \n",
       "819  Intel Core i5 6200U 2.3GHz  4GB  500GB HDD  Intel HD Graphics 520   \n",
       "705  Intel Core i5 7200U 2.5GHz  8GB  256GB SSD  Intel HD Graphics 620   \n",
       "925  Intel Core i5 6200U 2.3GHz  4GB  500GB HDD  Intel HD Graphics 520   \n",
       "847  Intel Core i5 6200U 2.3GHz  8GB  512GB SSD    Nvidia GeForce 940M   \n",
       "\n",
       "          OpSys  Weight      Price  Touchscreen  IPS  \n",
       "916  Windows 10  1.49kg  51148.800            0    0  \n",
       "819  Windows 10  1.76kg  40226.400            0    0  \n",
       "705  Windows 10  2.18kg  42357.600            0    0  \n",
       "925  Windows 10  1.95kg  38889.072            0    0  \n",
       "847  Windows 10  1.45kg  54665.280            0    1  "
      ]
     },
     "execution_count": 23,
     "metadata": {},
     "output_type": "execute_result"
    }
   ],
   "source": [
    "df.sample(5)"
   ]
  },
  {
   "cell_type": "code",
   "execution_count": 24,
   "metadata": {},
   "outputs": [
    {
     "data": {
      "text/plain": [
       "IPS\n",
       "0    938\n",
       "1    365\n",
       "Name: count, dtype: int64"
      ]
     },
     "execution_count": 24,
     "metadata": {},
     "output_type": "execute_result"
    }
   ],
   "source": [
    "df['IPS'].value_counts()"
   ]
  },
  {
   "cell_type": "code",
   "metadata": {
    "ExecuteTime": {
     "end_time": "2025-04-04T14:42:52.723097Z",
     "start_time": "2025-04-04T14:42:52.709539Z"
    }
   },
   "source": [
    "#Creating a temprory dataframe one will contain true y-resultion , and one will contain x-resolution with stext\n",
    "# n=1 ensures only one split takes at first occurence\n",
    "# expand=True esures that split will return dataframe instead of list\n",
    "s_res = df['ScreenResolution'].str.split('x',n=1,expand=True)"
   ],
   "outputs": [],
   "execution_count": 7
  },
  {
   "cell_type": "code",
   "execution_count": 34,
   "metadata": {},
   "outputs": [
    {
     "data": {
      "text/html": [
       "<div>\n",
       "<style scoped>\n",
       "    .dataframe tbody tr th:only-of-type {\n",
       "        vertical-align: middle;\n",
       "    }\n",
       "\n",
       "    .dataframe tbody tr th {\n",
       "        vertical-align: top;\n",
       "    }\n",
       "\n",
       "    .dataframe thead th {\n",
       "        text-align: right;\n",
       "    }\n",
       "</style>\n",
       "<table border=\"1\" class=\"dataframe\">\n",
       "  <thead>\n",
       "    <tr style=\"text-align: right;\">\n",
       "      <th></th>\n",
       "      <th>0</th>\n",
       "      <th>1</th>\n",
       "    </tr>\n",
       "  </thead>\n",
       "  <tbody>\n",
       "    <tr>\n",
       "      <th>0</th>\n",
       "      <td>IPS Panel Retina Display 2560</td>\n",
       "      <td>1600</td>\n",
       "    </tr>\n",
       "    <tr>\n",
       "      <th>1</th>\n",
       "      <td>1440</td>\n",
       "      <td>900</td>\n",
       "    </tr>\n",
       "    <tr>\n",
       "      <th>2</th>\n",
       "      <td>Full HD 1920</td>\n",
       "      <td>1080</td>\n",
       "    </tr>\n",
       "    <tr>\n",
       "      <th>3</th>\n",
       "      <td>IPS Panel Retina Display 2880</td>\n",
       "      <td>1800</td>\n",
       "    </tr>\n",
       "    <tr>\n",
       "      <th>4</th>\n",
       "      <td>IPS Panel Retina Display 2560</td>\n",
       "      <td>1600</td>\n",
       "    </tr>\n",
       "    <tr>\n",
       "      <th>...</th>\n",
       "      <td>...</td>\n",
       "      <td>...</td>\n",
       "    </tr>\n",
       "    <tr>\n",
       "      <th>1298</th>\n",
       "      <td>IPS Panel Full HD / Touchscreen 1920</td>\n",
       "      <td>1080</td>\n",
       "    </tr>\n",
       "    <tr>\n",
       "      <th>1299</th>\n",
       "      <td>IPS Panel Quad HD+ / Touchscreen 3200</td>\n",
       "      <td>1800</td>\n",
       "    </tr>\n",
       "    <tr>\n",
       "      <th>1300</th>\n",
       "      <td>1366</td>\n",
       "      <td>768</td>\n",
       "    </tr>\n",
       "    <tr>\n",
       "      <th>1301</th>\n",
       "      <td>1366</td>\n",
       "      <td>768</td>\n",
       "    </tr>\n",
       "    <tr>\n",
       "      <th>1302</th>\n",
       "      <td>1366</td>\n",
       "      <td>768</td>\n",
       "    </tr>\n",
       "  </tbody>\n",
       "</table>\n",
       "<p>1303 rows × 2 columns</p>\n",
       "</div>"
      ],
      "text/plain": [
       "                                          0     1\n",
       "0             IPS Panel Retina Display 2560  1600\n",
       "1                                      1440   900\n",
       "2                              Full HD 1920  1080\n",
       "3             IPS Panel Retina Display 2880  1800\n",
       "4             IPS Panel Retina Display 2560  1600\n",
       "...                                     ...   ...\n",
       "1298   IPS Panel Full HD / Touchscreen 1920  1080\n",
       "1299  IPS Panel Quad HD+ / Touchscreen 3200  1800\n",
       "1300                                   1366   768\n",
       "1301                                   1366   768\n",
       "1302                                   1366   768\n",
       "\n",
       "[1303 rows x 2 columns]"
      ]
     },
     "execution_count": 34,
     "metadata": {},
     "output_type": "execute_result"
    }
   ],
   "source": [
    "s_res"
   ]
  },
  {
   "cell_type": "code",
   "metadata": {
    "ExecuteTime": {
     "end_time": "2025-04-04T14:42:58.080293Z",
     "start_time": "2025-04-04T14:42:58.047012Z"
    }
   },
   "source": [
    "df['x_res'] = s_res[0]\n",
    "df['y_res'] = s_res[1]"
   ],
   "outputs": [],
   "execution_count": 8
  },
  {
   "cell_type": "code",
   "execution_count": 39,
   "metadata": {},
   "outputs": [
    {
     "data": {
      "text/html": [
       "<div>\n",
       "<style scoped>\n",
       "    .dataframe tbody tr th:only-of-type {\n",
       "        vertical-align: middle;\n",
       "    }\n",
       "\n",
       "    .dataframe tbody tr th {\n",
       "        vertical-align: top;\n",
       "    }\n",
       "\n",
       "    .dataframe thead th {\n",
       "        text-align: right;\n",
       "    }\n",
       "</style>\n",
       "<table border=\"1\" class=\"dataframe\">\n",
       "  <thead>\n",
       "    <tr style=\"text-align: right;\">\n",
       "      <th></th>\n",
       "      <th>Company</th>\n",
       "      <th>TypeName</th>\n",
       "      <th>Inches</th>\n",
       "      <th>ScreenResolution</th>\n",
       "      <th>Cpu</th>\n",
       "      <th>Ram</th>\n",
       "      <th>Memory</th>\n",
       "      <th>Gpu</th>\n",
       "      <th>OpSys</th>\n",
       "      <th>Weight</th>\n",
       "      <th>Price</th>\n",
       "      <th>Touchscreen</th>\n",
       "      <th>IPS</th>\n",
       "      <th>x_res</th>\n",
       "      <th>y_res</th>\n",
       "    </tr>\n",
       "  </thead>\n",
       "  <tbody>\n",
       "    <tr>\n",
       "      <th>781</th>\n",
       "      <td>Asus</td>\n",
       "      <td>Gaming</td>\n",
       "      <td>17.3</td>\n",
       "      <td>IPS Panel Full HD 1920x1080</td>\n",
       "      <td>Intel Core i7 6700HQ 2.6GHz</td>\n",
       "      <td>16GB</td>\n",
       "      <td>256GB SSD +  1TB HDD</td>\n",
       "      <td>Nvidia GeForce GTX 1070</td>\n",
       "      <td>Windows 10</td>\n",
       "      <td>4.3kg</td>\n",
       "      <td>125208.0000</td>\n",
       "      <td>0</td>\n",
       "      <td>1</td>\n",
       "      <td>IPS Panel Full HD 1920</td>\n",
       "      <td>1080</td>\n",
       "    </tr>\n",
       "    <tr>\n",
       "      <th>377</th>\n",
       "      <td>Dell</td>\n",
       "      <td>Notebook</td>\n",
       "      <td>15.6</td>\n",
       "      <td>1366x768</td>\n",
       "      <td>Intel Celeron Dual Core N3060 1.60GHz</td>\n",
       "      <td>4GB</td>\n",
       "      <td>500GB HDD</td>\n",
       "      <td>Intel HD Graphics 400</td>\n",
       "      <td>Windows 10</td>\n",
       "      <td>1.8kg</td>\n",
       "      <td>16463.5200</td>\n",
       "      <td>0</td>\n",
       "      <td>0</td>\n",
       "      <td>1366</td>\n",
       "      <td>768</td>\n",
       "    </tr>\n",
       "    <tr>\n",
       "      <th>341</th>\n",
       "      <td>Lenovo</td>\n",
       "      <td>Notebook</td>\n",
       "      <td>15.6</td>\n",
       "      <td>Full HD 1920x1080</td>\n",
       "      <td>AMD A12-Series 9720P 3.6GHz</td>\n",
       "      <td>12GB</td>\n",
       "      <td>2TB HDD</td>\n",
       "      <td>AMD Radeon 530</td>\n",
       "      <td>Windows 10</td>\n",
       "      <td>2.2kg</td>\n",
       "      <td>47898.7200</td>\n",
       "      <td>0</td>\n",
       "      <td>0</td>\n",
       "      <td>Full HD 1920</td>\n",
       "      <td>1080</td>\n",
       "    </tr>\n",
       "    <tr>\n",
       "      <th>127</th>\n",
       "      <td>Asus</td>\n",
       "      <td>Notebook</td>\n",
       "      <td>14.0</td>\n",
       "      <td>1366x768</td>\n",
       "      <td>AMD E-Series 6110 1.5GHz</td>\n",
       "      <td>4GB</td>\n",
       "      <td>64GB SSD</td>\n",
       "      <td>AMD Radeon R2</td>\n",
       "      <td>Windows 10 S</td>\n",
       "      <td>1.65kg</td>\n",
       "      <td>14811.3072</td>\n",
       "      <td>0</td>\n",
       "      <td>0</td>\n",
       "      <td>1366</td>\n",
       "      <td>768</td>\n",
       "    </tr>\n",
       "    <tr>\n",
       "      <th>392</th>\n",
       "      <td>Acer</td>\n",
       "      <td>Notebook</td>\n",
       "      <td>15.6</td>\n",
       "      <td>IPS Panel 1366x768</td>\n",
       "      <td>Intel Core i5 8250U 1.6GHz</td>\n",
       "      <td>12GB</td>\n",
       "      <td>1TB HDD</td>\n",
       "      <td>Nvidia GeForce MX130</td>\n",
       "      <td>Windows 10</td>\n",
       "      <td>2.2kg</td>\n",
       "      <td>36975.7872</td>\n",
       "      <td>0</td>\n",
       "      <td>1</td>\n",
       "      <td>IPS Panel 1366</td>\n",
       "      <td>768</td>\n",
       "    </tr>\n",
       "  </tbody>\n",
       "</table>\n",
       "</div>"
      ],
      "text/plain": [
       "    Company  TypeName  Inches             ScreenResolution  \\\n",
       "781    Asus    Gaming    17.3  IPS Panel Full HD 1920x1080   \n",
       "377    Dell  Notebook    15.6                     1366x768   \n",
       "341  Lenovo  Notebook    15.6            Full HD 1920x1080   \n",
       "127    Asus  Notebook    14.0                     1366x768   \n",
       "392    Acer  Notebook    15.6           IPS Panel 1366x768   \n",
       "\n",
       "                                       Cpu   Ram                Memory  \\\n",
       "781            Intel Core i7 6700HQ 2.6GHz  16GB  256GB SSD +  1TB HDD   \n",
       "377  Intel Celeron Dual Core N3060 1.60GHz   4GB             500GB HDD   \n",
       "341            AMD A12-Series 9720P 3.6GHz  12GB               2TB HDD   \n",
       "127               AMD E-Series 6110 1.5GHz   4GB              64GB SSD   \n",
       "392             Intel Core i5 8250U 1.6GHz  12GB               1TB HDD   \n",
       "\n",
       "                         Gpu         OpSys  Weight        Price  Touchscreen  \\\n",
       "781  Nvidia GeForce GTX 1070    Windows 10   4.3kg  125208.0000            0   \n",
       "377    Intel HD Graphics 400    Windows 10   1.8kg   16463.5200            0   \n",
       "341           AMD Radeon 530    Windows 10   2.2kg   47898.7200            0   \n",
       "127            AMD Radeon R2  Windows 10 S  1.65kg   14811.3072            0   \n",
       "392     Nvidia GeForce MX130    Windows 10   2.2kg   36975.7872            0   \n",
       "\n",
       "     IPS                   x_res y_res  \n",
       "781    1  IPS Panel Full HD 1920  1080  \n",
       "377    0                    1366   768  \n",
       "341    0            Full HD 1920  1080  \n",
       "127    0                    1366   768  \n",
       "392    1          IPS Panel 1366   768  "
      ]
     },
     "execution_count": 39,
     "metadata": {},
     "output_type": "execute_result"
    }
   ],
   "source": [
    "df.sample(5)"
   ]
  },
  {
   "cell_type": "code",
   "execution_count": 41,
   "metadata": {},
   "outputs": [
    {
     "data": {
      "text/plain": [
       "array(['IPS Panel Retina Display 2560', '1440', 'Full HD 1920',\n",
       "       'IPS Panel Retina Display 2880', '1366', 'IPS Panel Full HD 1920',\n",
       "       'IPS Panel Retina Display 2304',\n",
       "       'IPS Panel Full HD / Touchscreen 1920',\n",
       "       'Full HD / Touchscreen 1920', 'Touchscreen / Quad HD+ 3200',\n",
       "       'IPS Panel Touchscreen 1920', 'Touchscreen 2256',\n",
       "       'Quad HD+ / Touchscreen 3200', 'IPS Panel 1366',\n",
       "       'IPS Panel 4K Ultra HD / Touchscreen 3840',\n",
       "       'IPS Panel Full HD 2160', '4K Ultra HD / Touchscreen 3840',\n",
       "       'Touchscreen 2560', '1600', 'IPS Panel 4K Ultra HD 3840',\n",
       "       '4K Ultra HD 3840', 'Touchscreen 1366', 'IPS Panel Full HD 1366',\n",
       "       'IPS Panel 2560', 'IPS Panel Full HD 2560',\n",
       "       'IPS Panel Retina Display 2736', 'Touchscreen 2400', '2560',\n",
       "       'IPS Panel Quad HD+ 2560', 'IPS Panel Quad HD+ 3200',\n",
       "       'IPS Panel Quad HD+ / Touchscreen 3200',\n",
       "       'IPS Panel Touchscreen 1366', '1920',\n",
       "       'IPS Panel Touchscreen / 4K Ultra HD 3840',\n",
       "       'IPS Panel Touchscreen 2560', 'Touchscreen / Full HD 1920',\n",
       "       'Quad HD+ 3200', 'Touchscreen / 4K Ultra HD 3840',\n",
       "       'IPS Panel Touchscreen 2400'], dtype=object)"
      ]
     },
     "execution_count": 41,
     "metadata": {},
     "output_type": "execute_result"
    }
   ],
   "source": [
    "df['x_res'].unique()"
   ]
  },
  {
   "cell_type": "code",
   "metadata": {
    "ExecuteTime": {
     "end_time": "2025-04-04T14:43:04.265140Z",
     "start_time": "2025-04-04T14:43:04.254739Z"
    }
   },
   "source": [
    "df['x_res']=df['x_res'].str.findall(r'(\\d+\\.?\\d+)').apply(lambda x:x[0])"
   ],
   "outputs": [],
   "execution_count": 9
  },
  {
   "cell_type": "code",
   "execution_count": 45,
   "metadata": {},
   "outputs": [
    {
     "data": {
      "text/html": [
       "<div>\n",
       "<style scoped>\n",
       "    .dataframe tbody tr th:only-of-type {\n",
       "        vertical-align: middle;\n",
       "    }\n",
       "\n",
       "    .dataframe tbody tr th {\n",
       "        vertical-align: top;\n",
       "    }\n",
       "\n",
       "    .dataframe thead th {\n",
       "        text-align: right;\n",
       "    }\n",
       "</style>\n",
       "<table border=\"1\" class=\"dataframe\">\n",
       "  <thead>\n",
       "    <tr style=\"text-align: right;\">\n",
       "      <th></th>\n",
       "      <th>Company</th>\n",
       "      <th>TypeName</th>\n",
       "      <th>Inches</th>\n",
       "      <th>ScreenResolution</th>\n",
       "      <th>Cpu</th>\n",
       "      <th>Ram</th>\n",
       "      <th>Memory</th>\n",
       "      <th>Gpu</th>\n",
       "      <th>OpSys</th>\n",
       "      <th>Weight</th>\n",
       "      <th>Price</th>\n",
       "      <th>Touchscreen</th>\n",
       "      <th>IPS</th>\n",
       "      <th>x_res</th>\n",
       "      <th>y_res</th>\n",
       "    </tr>\n",
       "  </thead>\n",
       "  <tbody>\n",
       "    <tr>\n",
       "      <th>644</th>\n",
       "      <td>Acer</td>\n",
       "      <td>Notebook</td>\n",
       "      <td>15.6</td>\n",
       "      <td>1366x768</td>\n",
       "      <td>Intel Core i3 6006U 2GHz</td>\n",
       "      <td>4GB</td>\n",
       "      <td>500GB HDD</td>\n",
       "      <td>Intel HD Graphics 520</td>\n",
       "      <td>Windows 10</td>\n",
       "      <td>2.4kg</td>\n",
       "      <td>23976.0000</td>\n",
       "      <td>0</td>\n",
       "      <td>0</td>\n",
       "      <td>1366</td>\n",
       "      <td>768</td>\n",
       "    </tr>\n",
       "    <tr>\n",
       "      <th>1154</th>\n",
       "      <td>Dell</td>\n",
       "      <td>Notebook</td>\n",
       "      <td>15.6</td>\n",
       "      <td>IPS Panel Touchscreen / 4K Ultra HD 3840x2160</td>\n",
       "      <td>Intel Core i5 6300HQ 2.3GHz</td>\n",
       "      <td>8GB</td>\n",
       "      <td>256GB SSD</td>\n",
       "      <td>Nvidia GeForce 960M</td>\n",
       "      <td>Windows 10</td>\n",
       "      <td>2.04kg</td>\n",
       "      <td>119916.2304</td>\n",
       "      <td>1</td>\n",
       "      <td>1</td>\n",
       "      <td>3840</td>\n",
       "      <td>2160</td>\n",
       "    </tr>\n",
       "    <tr>\n",
       "      <th>631</th>\n",
       "      <td>Dell</td>\n",
       "      <td>Gaming</td>\n",
       "      <td>15.6</td>\n",
       "      <td>Full HD 1920x1080</td>\n",
       "      <td>Intel Core i7 7700HQ 2.8GHz</td>\n",
       "      <td>16GB</td>\n",
       "      <td>256GB SSD +  1TB HDD</td>\n",
       "      <td>Nvidia GeForce GTX 1050 Ti</td>\n",
       "      <td>Windows 10</td>\n",
       "      <td>2.62kg</td>\n",
       "      <td>78801.1200</td>\n",
       "      <td>0</td>\n",
       "      <td>0</td>\n",
       "      <td>1920</td>\n",
       "      <td>1080</td>\n",
       "    </tr>\n",
       "    <tr>\n",
       "      <th>387</th>\n",
       "      <td>Dell</td>\n",
       "      <td>Workstation</td>\n",
       "      <td>15.6</td>\n",
       "      <td>Full HD 1920x1080</td>\n",
       "      <td>Intel Core i5 6440HQ 2.6GHz</td>\n",
       "      <td>8GB</td>\n",
       "      <td>500GB HDD</td>\n",
       "      <td>AMD FirePro W5130M</td>\n",
       "      <td>Windows 10</td>\n",
       "      <td>2.23kg</td>\n",
       "      <td>72940.3200</td>\n",
       "      <td>0</td>\n",
       "      <td>0</td>\n",
       "      <td>1920</td>\n",
       "      <td>1080</td>\n",
       "    </tr>\n",
       "    <tr>\n",
       "      <th>748</th>\n",
       "      <td>Dell</td>\n",
       "      <td>Notebook</td>\n",
       "      <td>14.0</td>\n",
       "      <td>1366x768</td>\n",
       "      <td>Intel Core i5 7200U 2.5GHz</td>\n",
       "      <td>8GB</td>\n",
       "      <td>256GB SSD</td>\n",
       "      <td>Intel HD Graphics 620</td>\n",
       "      <td>Windows 10</td>\n",
       "      <td>1.6kg</td>\n",
       "      <td>60031.1088</td>\n",
       "      <td>0</td>\n",
       "      <td>0</td>\n",
       "      <td>1366</td>\n",
       "      <td>768</td>\n",
       "    </tr>\n",
       "  </tbody>\n",
       "</table>\n",
       "</div>"
      ],
      "text/plain": [
       "     Company     TypeName  Inches  \\\n",
       "644     Acer     Notebook    15.6   \n",
       "1154    Dell     Notebook    15.6   \n",
       "631     Dell       Gaming    15.6   \n",
       "387     Dell  Workstation    15.6   \n",
       "748     Dell     Notebook    14.0   \n",
       "\n",
       "                                   ScreenResolution  \\\n",
       "644                                        1366x768   \n",
       "1154  IPS Panel Touchscreen / 4K Ultra HD 3840x2160   \n",
       "631                               Full HD 1920x1080   \n",
       "387                               Full HD 1920x1080   \n",
       "748                                        1366x768   \n",
       "\n",
       "                              Cpu   Ram                Memory  \\\n",
       "644      Intel Core i3 6006U 2GHz   4GB             500GB HDD   \n",
       "1154  Intel Core i5 6300HQ 2.3GHz   8GB             256GB SSD   \n",
       "631   Intel Core i7 7700HQ 2.8GHz  16GB  256GB SSD +  1TB HDD   \n",
       "387   Intel Core i5 6440HQ 2.6GHz   8GB             500GB HDD   \n",
       "748    Intel Core i5 7200U 2.5GHz   8GB             256GB SSD   \n",
       "\n",
       "                             Gpu       OpSys  Weight        Price  \\\n",
       "644        Intel HD Graphics 520  Windows 10   2.4kg   23976.0000   \n",
       "1154         Nvidia GeForce 960M  Windows 10  2.04kg  119916.2304   \n",
       "631   Nvidia GeForce GTX 1050 Ti  Windows 10  2.62kg   78801.1200   \n",
       "387           AMD FirePro W5130M  Windows 10  2.23kg   72940.3200   \n",
       "748        Intel HD Graphics 620  Windows 10   1.6kg   60031.1088   \n",
       "\n",
       "      Touchscreen  IPS x_res y_res  \n",
       "644             0    0  1366   768  \n",
       "1154            1    1  3840  2160  \n",
       "631             0    0  1920  1080  \n",
       "387             0    0  1920  1080  \n",
       "748             0    0  1366   768  "
      ]
     },
     "execution_count": 45,
     "metadata": {},
     "output_type": "execute_result"
    }
   ],
   "source": [
    "df.sample(5)"
   ]
  },
  {
   "cell_type": "code",
   "execution_count": 49,
   "metadata": {},
   "outputs": [
    {
     "name": "stdout",
     "output_type": "stream",
     "text": [
      "<class 'pandas.core.frame.DataFrame'>\n",
      "RangeIndex: 1303 entries, 0 to 1302\n",
      "Data columns (total 15 columns):\n",
      " #   Column            Non-Null Count  Dtype  \n",
      "---  ------            --------------  -----  \n",
      " 0   Company           1303 non-null   object \n",
      " 1   TypeName          1303 non-null   object \n",
      " 2   Inches            1303 non-null   float64\n",
      " 3   ScreenResolution  1303 non-null   object \n",
      " 4   Cpu               1303 non-null   object \n",
      " 5   Ram               1303 non-null   object \n",
      " 6   Memory            1303 non-null   object \n",
      " 7   Gpu               1303 non-null   object \n",
      " 8   OpSys             1303 non-null   object \n",
      " 9   Weight            1303 non-null   object \n",
      " 10  Price             1303 non-null   float64\n",
      " 11  Touchscreen       1303 non-null   int64  \n",
      " 12  IPS               1303 non-null   int64  \n",
      " 13  x_res             1303 non-null   object \n",
      " 14  y_res             1303 non-null   object \n",
      "dtypes: float64(2), int64(2), object(11)\n",
      "memory usage: 152.8+ KB\n"
     ]
    }
   ],
   "source": [
    "df.info()"
   ]
  },
  {
   "cell_type": "code",
   "metadata": {
    "ExecuteTime": {
     "end_time": "2025-04-04T14:43:11.685668Z",
     "start_time": "2025-04-04T14:43:11.677867Z"
    }
   },
   "source": [
    "df['x_res']=df['x_res'].astype(int)\n",
    "df['y_res']=df['y_res'].astype(int)"
   ],
   "outputs": [],
   "execution_count": 10
  },
  {
   "cell_type": "code",
   "execution_count": 51,
   "metadata": {},
   "outputs": [
    {
     "name": "stdout",
     "output_type": "stream",
     "text": [
      "<class 'pandas.core.frame.DataFrame'>\n",
      "RangeIndex: 1303 entries, 0 to 1302\n",
      "Data columns (total 15 columns):\n",
      " #   Column            Non-Null Count  Dtype  \n",
      "---  ------            --------------  -----  \n",
      " 0   Company           1303 non-null   object \n",
      " 1   TypeName          1303 non-null   object \n",
      " 2   Inches            1303 non-null   float64\n",
      " 3   ScreenResolution  1303 non-null   object \n",
      " 4   Cpu               1303 non-null   object \n",
      " 5   Ram               1303 non-null   object \n",
      " 6   Memory            1303 non-null   object \n",
      " 7   Gpu               1303 non-null   object \n",
      " 8   OpSys             1303 non-null   object \n",
      " 9   Weight            1303 non-null   object \n",
      " 10  Price             1303 non-null   float64\n",
      " 11  Touchscreen       1303 non-null   int64  \n",
      " 12  IPS               1303 non-null   int64  \n",
      " 13  x_res             1303 non-null   int64  \n",
      " 14  y_res             1303 non-null   int64  \n",
      "dtypes: float64(2), int64(4), object(9)\n",
      "memory usage: 152.8+ KB\n"
     ]
    }
   ],
   "source": [
    "df.info()"
   ]
  },
  {
   "cell_type": "code",
   "metadata": {
    "ExecuteTime": {
     "end_time": "2025-04-04T14:43:15.377469Z",
     "start_time": "2025-04-04T14:43:15.348864Z"
    }
   },
   "source": [
    "df = df.drop(columns = ['ScreenResolution'])"
   ],
   "outputs": [],
   "execution_count": 11
  },
  {
   "cell_type": "code",
   "metadata": {
    "ExecuteTime": {
     "end_time": "2025-04-04T14:43:17.053336Z",
     "start_time": "2025-04-04T14:43:17.044324Z"
    }
   },
   "source": [
    "df['Price'] = df['Price'].astype(int)"
   ],
   "outputs": [],
   "execution_count": 12
  },
  {
   "cell_type": "code",
   "execution_count": 63,
   "metadata": {},
   "outputs": [
    {
     "name": "stdout",
     "output_type": "stream",
     "text": [
      "<class 'pandas.core.frame.DataFrame'>\n",
      "RangeIndex: 1303 entries, 0 to 1302\n",
      "Data columns (total 14 columns):\n",
      " #   Column       Non-Null Count  Dtype  \n",
      "---  ------       --------------  -----  \n",
      " 0   Company      1303 non-null   object \n",
      " 1   TypeName     1303 non-null   object \n",
      " 2   Inches       1303 non-null   float64\n",
      " 3   Cpu          1303 non-null   object \n",
      " 4   Ram          1303 non-null   object \n",
      " 5   Memory       1303 non-null   object \n",
      " 6   Gpu          1303 non-null   object \n",
      " 7   OpSys        1303 non-null   object \n",
      " 8   Weight       1303 non-null   object \n",
      " 9   Price        1303 non-null   int64  \n",
      " 10  Touchscreen  1303 non-null   int64  \n",
      " 11  IPS          1303 non-null   int64  \n",
      " 12  x_res        1303 non-null   int64  \n",
      " 13  y_res        1303 non-null   int64  \n",
      "dtypes: float64(1), int64(5), object(8)\n",
      "memory usage: 142.6+ KB\n"
     ]
    }
   ],
   "source": [
    "df.info()"
   ]
  },
  {
   "cell_type": "code",
   "metadata": {
    "ExecuteTime": {
     "end_time": "2025-04-04T14:43:20.385230Z",
     "start_time": "2025-04-04T14:43:20.366402Z"
    }
   },
   "source": [
    "df['PPI'] = (((df['x_res']**2) + (df['y_res']**2))**0.5)/df['Inches'].astype(float)"
   ],
   "outputs": [],
   "execution_count": 13
  },
  {
   "cell_type": "code",
   "metadata": {
    "ExecuteTime": {
     "end_time": "2025-04-04T14:43:22.075409Z",
     "start_time": "2025-04-04T14:43:22.033374Z"
    }
   },
   "source": [
    "df.drop(columns=['Inches' , 'x_res' , 'y_res'],inplace=True)"
   ],
   "outputs": [],
   "execution_count": 14
  },
  {
   "cell_type": "code",
   "execution_count": 71,
   "metadata": {},
   "outputs": [
    {
     "data": {
      "text/html": [
       "<div>\n",
       "<style scoped>\n",
       "    .dataframe tbody tr th:only-of-type {\n",
       "        vertical-align: middle;\n",
       "    }\n",
       "\n",
       "    .dataframe tbody tr th {\n",
       "        vertical-align: top;\n",
       "    }\n",
       "\n",
       "    .dataframe thead th {\n",
       "        text-align: right;\n",
       "    }\n",
       "</style>\n",
       "<table border=\"1\" class=\"dataframe\">\n",
       "  <thead>\n",
       "    <tr style=\"text-align: right;\">\n",
       "      <th></th>\n",
       "      <th>Company</th>\n",
       "      <th>TypeName</th>\n",
       "      <th>Cpu</th>\n",
       "      <th>Ram</th>\n",
       "      <th>Memory</th>\n",
       "      <th>Gpu</th>\n",
       "      <th>OpSys</th>\n",
       "      <th>Weight</th>\n",
       "      <th>Price</th>\n",
       "      <th>Touchscreen</th>\n",
       "      <th>IPS</th>\n",
       "      <th>PPI</th>\n",
       "    </tr>\n",
       "  </thead>\n",
       "  <tbody>\n",
       "    <tr>\n",
       "      <th>232</th>\n",
       "      <td>Lenovo</td>\n",
       "      <td>Gaming</td>\n",
       "      <td>Intel Core i7 7700HQ 2.8GHz</td>\n",
       "      <td>16GB</td>\n",
       "      <td>256GB SSD +  1TB HDD</td>\n",
       "      <td>Nvidia GeForce GTX 1060</td>\n",
       "      <td>Windows 10</td>\n",
       "      <td>3.2kg</td>\n",
       "      <td>79866</td>\n",
       "      <td>0</td>\n",
       "      <td>1</td>\n",
       "      <td>141.211998</td>\n",
       "    </tr>\n",
       "    <tr>\n",
       "      <th>170</th>\n",
       "      <td>Huawei</td>\n",
       "      <td>Ultrabook</td>\n",
       "      <td>Intel Core i5 7200U 2.5GHz</td>\n",
       "      <td>8GB</td>\n",
       "      <td>256GB SSD</td>\n",
       "      <td>Intel HD Graphics 620</td>\n",
       "      <td>Windows 10</td>\n",
       "      <td>1.05kg</td>\n",
       "      <td>71874</td>\n",
       "      <td>0</td>\n",
       "      <td>1</td>\n",
       "      <td>199.692071</td>\n",
       "    </tr>\n",
       "    <tr>\n",
       "      <th>1114</th>\n",
       "      <td>Lenovo</td>\n",
       "      <td>2 in 1 Convertible</td>\n",
       "      <td>Intel Atom x5-Z8550 1.44GHz</td>\n",
       "      <td>4GB</td>\n",
       "      <td>64GB Flash Storage</td>\n",
       "      <td>Intel HD Graphics 400</td>\n",
       "      <td>Android</td>\n",
       "      <td>0.69kg</td>\n",
       "      <td>29250</td>\n",
       "      <td>1</td>\n",
       "      <td>1</td>\n",
       "      <td>224.173809</td>\n",
       "    </tr>\n",
       "    <tr>\n",
       "      <th>780</th>\n",
       "      <td>Dell</td>\n",
       "      <td>Gaming</td>\n",
       "      <td>Intel Core i7 7700HQ 2.8GHz</td>\n",
       "      <td>32GB</td>\n",
       "      <td>1TB SSD +  1TB HDD</td>\n",
       "      <td>Nvidia GeForce GTX 1070M</td>\n",
       "      <td>Windows 10</td>\n",
       "      <td>4.42kg</td>\n",
       "      <td>191211</td>\n",
       "      <td>0</td>\n",
       "      <td>1</td>\n",
       "      <td>127.335675</td>\n",
       "    </tr>\n",
       "    <tr>\n",
       "      <th>85</th>\n",
       "      <td>Dell</td>\n",
       "      <td>Gaming</td>\n",
       "      <td>Intel Core i7 7700HQ 2.8GHz</td>\n",
       "      <td>16GB</td>\n",
       "      <td>128GB SSD +  1TB HDD</td>\n",
       "      <td>Nvidia GeForce GTX 1050 Ti</td>\n",
       "      <td>Windows 10</td>\n",
       "      <td>2.65kg</td>\n",
       "      <td>71874</td>\n",
       "      <td>0</td>\n",
       "      <td>1</td>\n",
       "      <td>141.211998</td>\n",
       "    </tr>\n",
       "  </tbody>\n",
       "</table>\n",
       "</div>"
      ],
      "text/plain": [
       "     Company            TypeName                          Cpu   Ram  \\\n",
       "232   Lenovo              Gaming  Intel Core i7 7700HQ 2.8GHz  16GB   \n",
       "170   Huawei           Ultrabook   Intel Core i5 7200U 2.5GHz   8GB   \n",
       "1114  Lenovo  2 in 1 Convertible  Intel Atom x5-Z8550 1.44GHz   4GB   \n",
       "780     Dell              Gaming  Intel Core i7 7700HQ 2.8GHz  32GB   \n",
       "85      Dell              Gaming  Intel Core i7 7700HQ 2.8GHz  16GB   \n",
       "\n",
       "                    Memory                         Gpu       OpSys  Weight  \\\n",
       "232   256GB SSD +  1TB HDD     Nvidia GeForce GTX 1060  Windows 10   3.2kg   \n",
       "170              256GB SSD       Intel HD Graphics 620  Windows 10  1.05kg   \n",
       "1114    64GB Flash Storage       Intel HD Graphics 400     Android  0.69kg   \n",
       "780     1TB SSD +  1TB HDD    Nvidia GeForce GTX 1070M  Windows 10  4.42kg   \n",
       "85    128GB SSD +  1TB HDD  Nvidia GeForce GTX 1050 Ti  Windows 10  2.65kg   \n",
       "\n",
       "       Price  Touchscreen  IPS         PPI  \n",
       "232    79866            0    1  141.211998  \n",
       "170    71874            0    1  199.692071  \n",
       "1114   29250            1    1  224.173809  \n",
       "780   191211            0    1  127.335675  \n",
       "85     71874            0    1  141.211998  "
      ]
     },
     "execution_count": 71,
     "metadata": {},
     "output_type": "execute_result"
    }
   ],
   "source": [
    "df.sample(5)"
   ]
  },
  {
   "cell_type": "code",
   "metadata": {
    "ExecuteTime": {
     "end_time": "2025-04-04T14:43:25.653988Z",
     "start_time": "2025-04-04T14:43:25.644425Z"
    }
   },
   "source": [
    "df['CPU name']=df['Cpu'].apply(lambda x:' '.join(x.split()[0:3]))"
   ],
   "outputs": [],
   "execution_count": 15
  },
  {
   "cell_type": "code",
   "execution_count": 91,
   "metadata": {},
   "outputs": [
    {
     "data": {
      "text/html": [
       "<div>\n",
       "<style scoped>\n",
       "    .dataframe tbody tr th:only-of-type {\n",
       "        vertical-align: middle;\n",
       "    }\n",
       "\n",
       "    .dataframe tbody tr th {\n",
       "        vertical-align: top;\n",
       "    }\n",
       "\n",
       "    .dataframe thead th {\n",
       "        text-align: right;\n",
       "    }\n",
       "</style>\n",
       "<table border=\"1\" class=\"dataframe\">\n",
       "  <thead>\n",
       "    <tr style=\"text-align: right;\">\n",
       "      <th></th>\n",
       "      <th>Company</th>\n",
       "      <th>TypeName</th>\n",
       "      <th>Cpu</th>\n",
       "      <th>Ram</th>\n",
       "      <th>Memory</th>\n",
       "      <th>Gpu</th>\n",
       "      <th>OpSys</th>\n",
       "      <th>Weight</th>\n",
       "      <th>Price</th>\n",
       "      <th>Touchscreen</th>\n",
       "      <th>IPS</th>\n",
       "      <th>PPI</th>\n",
       "      <th>CPU name</th>\n",
       "    </tr>\n",
       "  </thead>\n",
       "  <tbody>\n",
       "    <tr>\n",
       "      <th>1283</th>\n",
       "      <td>Asus</td>\n",
       "      <td>Notebook</td>\n",
       "      <td>Intel Core i7 6500U 2.5GHz</td>\n",
       "      <td>4GB</td>\n",
       "      <td>500GB HDD</td>\n",
       "      <td>Nvidia GeForce 920M</td>\n",
       "      <td>Windows 10</td>\n",
       "      <td>2.2kg</td>\n",
       "      <td>38378</td>\n",
       "      <td>0</td>\n",
       "      <td>0</td>\n",
       "      <td>100.454670</td>\n",
       "      <td>Intel Core i7</td>\n",
       "    </tr>\n",
       "    <tr>\n",
       "      <th>853</th>\n",
       "      <td>Lenovo</td>\n",
       "      <td>Ultrabook</td>\n",
       "      <td>Intel Core i7 7700HQ 2.8GHz</td>\n",
       "      <td>8GB</td>\n",
       "      <td>256GB SSD</td>\n",
       "      <td>Nvidia GeForce GT 940MX</td>\n",
       "      <td>Windows 10</td>\n",
       "      <td>1.96kg</td>\n",
       "      <td>101391</td>\n",
       "      <td>0</td>\n",
       "      <td>1</td>\n",
       "      <td>157.350512</td>\n",
       "      <td>Intel Core i7</td>\n",
       "    </tr>\n",
       "    <tr>\n",
       "      <th>130</th>\n",
       "      <td>Dell</td>\n",
       "      <td>Notebook</td>\n",
       "      <td>Intel Core i5 7200U 2.5GHz</td>\n",
       "      <td>8GB</td>\n",
       "      <td>1TB HDD</td>\n",
       "      <td>AMD Radeon R7 M445</td>\n",
       "      <td>Windows 10</td>\n",
       "      <td>2.36kg</td>\n",
       "      <td>34045</td>\n",
       "      <td>0</td>\n",
       "      <td>0</td>\n",
       "      <td>100.454670</td>\n",
       "      <td>Intel Core i5</td>\n",
       "    </tr>\n",
       "    <tr>\n",
       "      <th>1268</th>\n",
       "      <td>HP</td>\n",
       "      <td>Netbook</td>\n",
       "      <td>Intel Celeron Dual Core N3060 1.6GHz</td>\n",
       "      <td>2GB</td>\n",
       "      <td>32GB Flash Storage</td>\n",
       "      <td>Intel HD Graphics 400</td>\n",
       "      <td>Windows 10</td>\n",
       "      <td>1.17kg</td>\n",
       "      <td>11135</td>\n",
       "      <td>0</td>\n",
       "      <td>0</td>\n",
       "      <td>135.094211</td>\n",
       "      <td>Intel Celeron Dual</td>\n",
       "    </tr>\n",
       "    <tr>\n",
       "      <th>971</th>\n",
       "      <td>Dell</td>\n",
       "      <td>Ultrabook</td>\n",
       "      <td>Intel Core i7 6600U 2.6GHz</td>\n",
       "      <td>8GB</td>\n",
       "      <td>256GB SSD</td>\n",
       "      <td>Intel HD Graphics 520</td>\n",
       "      <td>Windows 10</td>\n",
       "      <td>1.5kg</td>\n",
       "      <td>104587</td>\n",
       "      <td>1</td>\n",
       "      <td>0</td>\n",
       "      <td>209.800683</td>\n",
       "      <td>Intel Core i7</td>\n",
       "    </tr>\n",
       "  </tbody>\n",
       "</table>\n",
       "</div>"
      ],
      "text/plain": [
       "     Company   TypeName                                   Cpu  Ram  \\\n",
       "1283    Asus   Notebook            Intel Core i7 6500U 2.5GHz  4GB   \n",
       "853   Lenovo  Ultrabook           Intel Core i7 7700HQ 2.8GHz  8GB   \n",
       "130     Dell   Notebook            Intel Core i5 7200U 2.5GHz  8GB   \n",
       "1268      HP    Netbook  Intel Celeron Dual Core N3060 1.6GHz  2GB   \n",
       "971     Dell  Ultrabook            Intel Core i7 6600U 2.6GHz  8GB   \n",
       "\n",
       "                  Memory                      Gpu       OpSys  Weight   Price  \\\n",
       "1283           500GB HDD      Nvidia GeForce 920M  Windows 10   2.2kg   38378   \n",
       "853            256GB SSD  Nvidia GeForce GT 940MX  Windows 10  1.96kg  101391   \n",
       "130              1TB HDD       AMD Radeon R7 M445  Windows 10  2.36kg   34045   \n",
       "1268  32GB Flash Storage    Intel HD Graphics 400  Windows 10  1.17kg   11135   \n",
       "971            256GB SSD    Intel HD Graphics 520  Windows 10   1.5kg  104587   \n",
       "\n",
       "      Touchscreen  IPS         PPI            CPU name  \n",
       "1283            0    0  100.454670       Intel Core i7  \n",
       "853             0    1  157.350512       Intel Core i7  \n",
       "130             0    0  100.454670       Intel Core i5  \n",
       "1268            0    0  135.094211  Intel Celeron Dual  \n",
       "971             1    0  209.800683       Intel Core i7  "
      ]
     },
     "execution_count": 91,
     "metadata": {},
     "output_type": "execute_result"
    }
   ],
   "source": [
    "df.sample(5)"
   ]
  },
  {
   "cell_type": "code",
   "metadata": {
    "ExecuteTime": {
     "end_time": "2025-04-04T14:43:30.333894Z",
     "start_time": "2025-04-04T14:43:30.318434Z"
    }
   },
   "source": [
    "def Fetch_Processor(text):\n",
    "    if text == 'Intel Core i7' or text == 'Intel Core i5' or text == 'Intel Core i3':\n",
    "        return text\n",
    "    else:\n",
    "        if text.split()[0] == 'Intel':\n",
    "            return 'Other Intel Processor'\n",
    "        else:\n",
    "            return'AMD Processor'"
   ],
   "outputs": [],
   "execution_count": 16
  },
  {
   "cell_type": "code",
   "metadata": {
    "ExecuteTime": {
     "end_time": "2025-04-04T14:43:32.749560Z",
     "start_time": "2025-04-04T14:43:32.740878Z"
    }
   },
   "source": [
    "df['CPU Brand'] = df['CPU name'].apply(Fetch_Processor)"
   ],
   "outputs": [],
   "execution_count": 17
  },
  {
   "cell_type": "code",
   "metadata": {
    "ExecuteTime": {
     "end_time": "2025-04-04T14:43:35.414636Z",
     "start_time": "2025-04-04T14:43:34.551491Z"
    }
   },
   "source": [
    "df['CPU Brand'].value_counts().plot(kind='bar')"
   ],
   "outputs": [
    {
     "data": {
      "text/plain": [
       "<Axes: xlabel='CPU Brand'>"
      ]
     },
     "execution_count": 18,
     "metadata": {},
     "output_type": "execute_result"
    },
    {
     "data": {
      "text/plain": [
       "<Figure size 640x480 with 1 Axes>"
      ],
      "image/png": "[encoded data removed]"
     },
     "metadata": {},
     "output_type": "display_data"
    }
   ],
   "execution_count": 18
  },
  {
   "cell_type": "code",
   "execution_count": 103,
   "metadata": {},
   "outputs": [
    {
     "data": {
      "text/plain": [
       "array(['Intel Core i5', 'Intel Core i7', 'AMD Processor', 'Intel Core i3',\n",
       "       'Other Intel Processor'], dtype=object)"
      ]
     },
     "execution_count": 103,
     "metadata": {},
     "output_type": "execute_result"
    }
   ],
   "source": [
    "df['CPU Brand'].unique()"
   ]
  },
  {
   "cell_type": "code",
   "metadata": {
    "ExecuteTime": {
     "end_time": "2025-04-04T14:43:41.678740Z",
     "start_time": "2025-04-04T14:43:41.652008Z"
    }
   },
   "source": [
    "df.drop(columns=['CPU name' , 'Cpu'],inplace = True)"
   ],
   "outputs": [],
   "execution_count": 19
  },
  {
   "cell_type": "code",
   "execution_count": 106,
   "metadata": {},
   "outputs": [
    {
     "data": {
      "text/html": [
       "<div>\n",
       "<style scoped>\n",
       "    .dataframe tbody tr th:only-of-type {\n",
       "        vertical-align: middle;\n",
       "    }\n",
       "\n",
       "    .dataframe tbody tr th {\n",
       "        vertical-align: top;\n",
       "    }\n",
       "\n",
       "    .dataframe thead th {\n",
       "        text-align: right;\n",
       "    }\n",
       "</style>\n",
       "<table border=\"1\" class=\"dataframe\">\n",
       "  <thead>\n",
       "    <tr style=\"text-align: right;\">\n",
       "      <th></th>\n",
       "      <th>Company</th>\n",
       "      <th>TypeName</th>\n",
       "      <th>Ram</th>\n",
       "      <th>Memory</th>\n",
       "      <th>Gpu</th>\n",
       "      <th>OpSys</th>\n",
       "      <th>Weight</th>\n",
       "      <th>Price</th>\n",
       "      <th>Touchscreen</th>\n",
       "      <th>IPS</th>\n",
       "      <th>PPI</th>\n",
       "      <th>CPU Brand</th>\n",
       "    </tr>\n",
       "  </thead>\n",
       "  <tbody>\n",
       "    <tr>\n",
       "      <th>336</th>\n",
       "      <td>Dell</td>\n",
       "      <td>Ultrabook</td>\n",
       "      <td>8GB</td>\n",
       "      <td>128GB SSD +  1TB HDD</td>\n",
       "      <td>Nvidia GeForce 940MX</td>\n",
       "      <td>Windows 10</td>\n",
       "      <td>1.9kg</td>\n",
       "      <td>55890</td>\n",
       "      <td>0</td>\n",
       "      <td>1</td>\n",
       "      <td>141.211998</td>\n",
       "      <td>Intel Core i5</td>\n",
       "    </tr>\n",
       "    <tr>\n",
       "      <th>398</th>\n",
       "      <td>Dell</td>\n",
       "      <td>Workstation</td>\n",
       "      <td>8GB</td>\n",
       "      <td>256GB SSD</td>\n",
       "      <td>Nvidia Quadro M1200</td>\n",
       "      <td>Windows 10</td>\n",
       "      <td>1.78kg</td>\n",
       "      <td>144495</td>\n",
       "      <td>1</td>\n",
       "      <td>0</td>\n",
       "      <td>282.423996</td>\n",
       "      <td>Intel Core i7</td>\n",
       "    </tr>\n",
       "    <tr>\n",
       "      <th>536</th>\n",
       "      <td>Dell</td>\n",
       "      <td>Notebook</td>\n",
       "      <td>8GB</td>\n",
       "      <td>256GB SSD</td>\n",
       "      <td>AMD Radeon 530</td>\n",
       "      <td>Windows 10</td>\n",
       "      <td>2.2kg</td>\n",
       "      <td>42486</td>\n",
       "      <td>0</td>\n",
       "      <td>0</td>\n",
       "      <td>141.211998</td>\n",
       "      <td>Intel Core i5</td>\n",
       "    </tr>\n",
       "    <tr>\n",
       "      <th>1209</th>\n",
       "      <td>Asus</td>\n",
       "      <td>Gaming</td>\n",
       "      <td>16GB</td>\n",
       "      <td>256GB SSD +  1TB HDD</td>\n",
       "      <td>Nvidia GeForce GTX 1070</td>\n",
       "      <td>Windows 10</td>\n",
       "      <td>2.2kg</td>\n",
       "      <td>130482</td>\n",
       "      <td>0</td>\n",
       "      <td>0</td>\n",
       "      <td>141.211998</td>\n",
       "      <td>Intel Core i7</td>\n",
       "    </tr>\n",
       "    <tr>\n",
       "      <th>1168</th>\n",
       "      <td>HP</td>\n",
       "      <td>Notebook</td>\n",
       "      <td>2GB</td>\n",
       "      <td>32GB Flash Storage</td>\n",
       "      <td>Intel HD Graphics 400</td>\n",
       "      <td>Windows 10</td>\n",
       "      <td>1.44kg</td>\n",
       "      <td>13266</td>\n",
       "      <td>0</td>\n",
       "      <td>0</td>\n",
       "      <td>111.935204</td>\n",
       "      <td>Other Intel Processor</td>\n",
       "    </tr>\n",
       "  </tbody>\n",
       "</table>\n",
       "</div>"
      ],
      "text/plain": [
       "     Company     TypeName   Ram                Memory  \\\n",
       "336     Dell    Ultrabook   8GB  128GB SSD +  1TB HDD   \n",
       "398     Dell  Workstation   8GB             256GB SSD   \n",
       "536     Dell     Notebook   8GB             256GB SSD   \n",
       "1209    Asus       Gaming  16GB  256GB SSD +  1TB HDD   \n",
       "1168      HP     Notebook   2GB    32GB Flash Storage   \n",
       "\n",
       "                          Gpu       OpSys  Weight   Price  Touchscreen  IPS  \\\n",
       "336      Nvidia GeForce 940MX  Windows 10   1.9kg   55890            0    1   \n",
       "398       Nvidia Quadro M1200  Windows 10  1.78kg  144495            1    0   \n",
       "536            AMD Radeon 530  Windows 10   2.2kg   42486            0    0   \n",
       "1209  Nvidia GeForce GTX 1070  Windows 10   2.2kg  130482            0    0   \n",
       "1168    Intel HD Graphics 400  Windows 10  1.44kg   13266            0    0   \n",
       "\n",
       "             PPI              CPU Brand  \n",
       "336   141.211998          Intel Core i5  \n",
       "398   282.423996          Intel Core i7  \n",
       "536   141.211998          Intel Core i5  \n",
       "1209  141.211998          Intel Core i7  \n",
       "1168  111.935204  Other Intel Processor  "
      ]
     },
     "execution_count": 106,
     "metadata": {},
     "output_type": "execute_result"
    }
   ],
   "source": [
    "df.sample(5)"
   ]
  },
  {
   "cell_type": "code",
   "execution_count": 107,
   "metadata": {},
   "outputs": [
    {
     "data": {
      "text/plain": [
       "array(['128GB SSD', '128GB Flash Storage', '256GB SSD', '512GB SSD',\n",
       "       '500GB HDD', '256GB Flash Storage', '1TB HDD',\n",
       "       '32GB Flash Storage', '128GB SSD +  1TB HDD',\n",
       "       '256GB SSD +  256GB SSD', '64GB Flash Storage',\n",
       "       '256GB SSD +  1TB HDD', '256GB SSD +  2TB HDD', '32GB SSD',\n",
       "       '2TB HDD', '64GB SSD', '1.0TB Hybrid', '512GB SSD +  1TB HDD',\n",
       "       '1TB SSD', '256GB SSD +  500GB HDD', '128GB SSD +  2TB HDD',\n",
       "       '512GB SSD +  512GB SSD', '16GB SSD', '16GB Flash Storage',\n",
       "       '512GB SSD +  256GB SSD', '512GB SSD +  2TB HDD',\n",
       "       '64GB Flash Storage +  1TB HDD', '180GB SSD', '1TB HDD +  1TB HDD',\n",
       "       '32GB HDD', '1TB SSD +  1TB HDD', '512GB Flash Storage',\n",
       "       '128GB HDD', '240GB SSD', '8GB SSD', '508GB Hybrid', '1.0TB HDD',\n",
       "       '512GB SSD +  1.0TB Hybrid', '256GB SSD +  1.0TB Hybrid'],\n",
       "      dtype=object)"
      ]
     },
     "execution_count": 107,
     "metadata": {},
     "output_type": "execute_result"
    }
   ],
   "source": [
    "df['Memory'].unique()"
   ]
  },
  {
   "cell_type": "code",
   "metadata": {
    "ExecuteTime": {
     "end_time": "2025-04-04T14:43:51.717558Z",
     "start_time": "2025-04-04T14:43:51.649965Z"
    }
   },
   "source": [
    "df['Memory']=df['Memory'].str.replace('GB','').str.replace('TB','000').astype(str).replace('\\.0','',regex=True)\n",
    "new = df['Memory'].str.split('+',n=1, expand = True)\n",
    "\n",
    "df['First'] = new[0] #first storage amount with storage type\n",
    "df['First'] = df['First'].str.strip() #spaces removed from front and back\n",
    "\n",
    "df['Second']=new[1] #second storage with storage type\n",
    "\n",
    "df['Layer1HDD'] = df['First'].apply(lambda x : 1 if 'HDD' in x else 0 ) \n",
    "df['Layer1SSD'] = df['First'].apply(lambda x : 1 if 'SSD' in x else 0 )\n",
    "df['Layer1Hybrid'] = df['First'].apply(lambda x : 1 if 'Hybrid' in x else 0 )\n",
    "df['Layer1Flash_Storage'] = df['First'].apply(lambda x : 1 if 'Flash_Storage' in x else 0 )\n",
    "\n",
    "df['First'] = df['First'].str.replace(r'\\D+', '', regex=True)   #removing non numeric charecters\n",
    "df['Second'].fillna('0',inplace= True) #replacing nan with 0\n",
    "df['First'].fillna('0',inplace= True)\n",
    "\n",
    "df['Layer2HDD'] = df['Second'].apply(lambda x : 1 if 'HDD' in x else 0 )\n",
    "df['Layer2SSD'] = df['Second'].apply(lambda x : 1 if 'SSD' in x else 0 )\n",
    "df['Layer2Hybrid'] = df['Second'].apply(lambda x : 1 if 'Hybrid' in x else 0 )\n",
    "df['Layer2Flash_Storage'] = df['Second'].apply(lambda x : 1 if 'Flash_Storage' in x else 0 )\n",
    "\n",
    "df['Second'] = df['Second'].str.replace(r'\\D+', '', regex=True)   # removing non numeric charecters\n",
    "\n",
    "df['First']=df['First'].astype(int)\n",
    "df['Second']=df['Second'].astype(int)\n",
    "\n",
    "df['HDD'] = df['First']*df['Layer1HDD']+df['Second']*df['Layer2HDD']\n",
    "df['SDD'] = df['First']*df['Layer1SSD']+df['Second']*df['Layer2SSD']\n",
    "df['Hybrid'] = df['First']*df['Layer1Hybrid']+df['Second']*df['Layer2Hybrid']\n",
    "df['Flash_Storage'] = df['First']*df['Layer1Flash_Storage']+df['Second']*df['Layer2Flash_Storage']\n",
    "\n",
    "df.drop(columns=['First', 'Second' , 'Layer1HDD' , 'Layer1SSD' , 'Layer1Hybrid' ,'Layer1Flash_Storage', 'Layer2HDD' , 'Layer2SSD' , 'Layer2Hybrid' ,'Layer2Flash_Storage'],inplace=True)"
   ],
   "outputs": [
    {
     "name": "stderr",
     "output_type": "stream",
     "text": [
      "<>:1: SyntaxWarning: invalid escape sequence '\\.'\n",
      "<>:1: SyntaxWarning: invalid escape sequence '\\.'\n",
      "C:\\Users\\dbzar\\AppData\\Local\\Temp\\ipykernel_9752\\1997277933.py:1: SyntaxWarning: invalid escape sequence '\\.'\n",
      "  df['Memory']=df['Memory'].str.replace('GB','').str.replace('TB','000').astype(str).replace('\\.0','',regex=True)\n",
      "C:\\Users\\dbzar\\AppData\\Local\\Temp\\ipykernel_9752\\1997277933.py:15: FutureWarning: A value is trying to be set on a copy of a DataFrame or Series through chained assignment using an inplace method.\n",
      "The behavior will change in pandas 3.0. This inplace method will never work because the intermediate object on which we are setting values always behaves as a copy.\n",
      "\n",
      "For example, when doing 'df[col].method(value, inplace=True)', try using 'df.method({col: value}, inplace=True)' or df[col] = df[col].method(value) instead, to perform the operation inplace on the original object.\n",
      "\n",
      "\n",
      "  df['Second'].fillna('0',inplace= True) #replacing nan with 0\n",
      "C:\\Users\\dbzar\\AppData\\Local\\Temp\\ipykernel_9752\\1997277933.py:16: FutureWarning: A value is trying to be set on a copy of a DataFrame or Series through chained assignment using an inplace method.\n",
      "The behavior will change in pandas 3.0. This inplace method will never work because the intermediate object on which we are setting values always behaves as a copy.\n",
      "\n",
      "For example, when doing 'df[col].method(value, inplace=True)', try using 'df.method({col: value}, inplace=True)' or df[col] = df[col].method(value) instead, to perform the operation inplace on the original object.\n",
      "\n",
      "\n",
      "  df['First'].fillna('0',inplace= True)\n"
     ]
    }
   ],
   "execution_count": 20
  },
  {
   "cell_type": "code",
   "metadata": {
    "ExecuteTime": {
     "end_time": "2025-04-04T14:44:00.861985Z",
     "start_time": "2025-04-04T14:44:00.818155Z"
    }
   },
   "source": [
    "df.sample(5)"
   ],
   "outputs": [
    {
     "data": {
      "text/plain": [
       "     Company     TypeName  Ram               Memory                      Gpu  \\\n",
       "950       HP  Workstation  8GB                8 SSD     Nvidia Quadro M1000M   \n",
       "167     Dell       Gaming  8GB  128 SSD +  1000 HDD  Nvidia GeForce GTX 1050   \n",
       "1288    Asus     Notebook  4GB              500 HDD        Intel HD Graphics   \n",
       "842       HP     Notebook  8GB             1000 HDD     Nvidia GeForce 930MX   \n",
       "278   Lenovo     Notebook  4GB             1000 HDD    Intel HD Graphics 520   \n",
       "\n",
       "           OpSys  Weight   Price  Touchscreen  IPS         PPI  \\\n",
       "950   Windows 10   2.0kg  119826            0    1  141.211998   \n",
       "167   Windows 10  2.56kg   56502            0    0  141.211998   \n",
       "1288  Windows 10   2.2kg   19660            0    0  100.454670   \n",
       "842   Windows 10  2.63kg   48484            0    0  106.113062   \n",
       "278   Windows 10   2.8kg   26053            0    0  106.113062   \n",
       "\n",
       "                  CPU Brand   HDD  SDD  Hybrid  Flash_Storage  \n",
       "950           Intel Core i7     0    8       0              0  \n",
       "167           Intel Core i7  1000  128       0              0  \n",
       "1288  Other Intel Processor   500    0       0              0  \n",
       "842           Intel Core i5  1000    0       0              0  \n",
       "278           Intel Core i3  1000    0       0              0  "
      ],
      "text/html": [
       "<div>\n",
       "<style scoped>\n",
       "    .dataframe tbody tr th:only-of-type {\n",
       "        vertical-align: middle;\n",
       "    }\n",
       "\n",
       "    .dataframe tbody tr th {\n",
       "        vertical-align: top;\n",
       "    }\n",
       "\n",
       "    .dataframe thead th {\n",
       "        text-align: right;\n",
       "    }\n",
       "</style>\n",
       "<table border=\"1\" class=\"dataframe\">\n",
       "  <thead>\n",
       "    <tr style=\"text-align: right;\">\n",
       "      <th></th>\n",
       "      <th>Company</th>\n",
       "      <th>TypeName</th>\n",
       "      <th>Ram</th>\n",
       "      <th>Memory</th>\n",
       "      <th>Gpu</th>\n",
       "      <th>OpSys</th>\n",
       "      <th>Weight</th>\n",
       "      <th>Price</th>\n",
       "      <th>Touchscreen</th>\n",
       "      <th>IPS</th>\n",
       "      <th>PPI</th>\n",
       "      <th>CPU Brand</th>\n",
       "      <th>HDD</th>\n",
       "      <th>SDD</th>\n",
       "      <th>Hybrid</th>\n",
       "      <th>Flash_Storage</th>\n",
       "    </tr>\n",
       "  </thead>\n",
       "  <tbody>\n",
       "    <tr>\n",
       "      <th>950</th>\n",
       "      <td>HP</td>\n",
       "      <td>Workstation</td>\n",
       "      <td>8GB</td>\n",
       "      <td>8 SSD</td>\n",
       "      <td>Nvidia Quadro M1000M</td>\n",
       "      <td>Windows 10</td>\n",
       "      <td>2.0kg</td>\n",
       "      <td>119826</td>\n",
       "      <td>0</td>\n",
       "      <td>1</td>\n",
       "      <td>141.211998</td>\n",
       "      <td>Intel Core i7</td>\n",
       "      <td>0</td>\n",
       "      <td>8</td>\n",
       "      <td>0</td>\n",
       "      <td>0</td>\n",
       "    </tr>\n",
       "    <tr>\n",
       "      <th>167</th>\n",
       "      <td>Dell</td>\n",
       "      <td>Gaming</td>\n",
       "      <td>8GB</td>\n",
       "      <td>128 SSD +  1000 HDD</td>\n",
       "      <td>Nvidia GeForce GTX 1050</td>\n",
       "      <td>Windows 10</td>\n",
       "      <td>2.56kg</td>\n",
       "      <td>56502</td>\n",
       "      <td>0</td>\n",
       "      <td>0</td>\n",
       "      <td>141.211998</td>\n",
       "      <td>Intel Core i7</td>\n",
       "      <td>1000</td>\n",
       "      <td>128</td>\n",
       "      <td>0</td>\n",
       "      <td>0</td>\n",
       "    </tr>\n",
       "    <tr>\n",
       "      <th>1288</th>\n",
       "      <td>Asus</td>\n",
       "      <td>Notebook</td>\n",
       "      <td>4GB</td>\n",
       "      <td>500 HDD</td>\n",
       "      <td>Intel HD Graphics</td>\n",
       "      <td>Windows 10</td>\n",
       "      <td>2.2kg</td>\n",
       "      <td>19660</td>\n",
       "      <td>0</td>\n",
       "      <td>0</td>\n",
       "      <td>100.454670</td>\n",
       "      <td>Other Intel Processor</td>\n",
       "      <td>500</td>\n",
       "      <td>0</td>\n",
       "      <td>0</td>\n",
       "      <td>0</td>\n",
       "    </tr>\n",
       "    <tr>\n",
       "      <th>842</th>\n",
       "      <td>HP</td>\n",
       "      <td>Notebook</td>\n",
       "      <td>8GB</td>\n",
       "      <td>1000 HDD</td>\n",
       "      <td>Nvidia GeForce 930MX</td>\n",
       "      <td>Windows 10</td>\n",
       "      <td>2.63kg</td>\n",
       "      <td>48484</td>\n",
       "      <td>0</td>\n",
       "      <td>0</td>\n",
       "      <td>106.113062</td>\n",
       "      <td>Intel Core i5</td>\n",
       "      <td>1000</td>\n",
       "      <td>0</td>\n",
       "      <td>0</td>\n",
       "      <td>0</td>\n",
       "    </tr>\n",
       "    <tr>\n",
       "      <th>278</th>\n",
       "      <td>Lenovo</td>\n",
       "      <td>Notebook</td>\n",
       "      <td>4GB</td>\n",
       "      <td>1000 HDD</td>\n",
       "      <td>Intel HD Graphics 520</td>\n",
       "      <td>Windows 10</td>\n",
       "      <td>2.8kg</td>\n",
       "      <td>26053</td>\n",
       "      <td>0</td>\n",
       "      <td>0</td>\n",
       "      <td>106.113062</td>\n",
       "      <td>Intel Core i3</td>\n",
       "      <td>1000</td>\n",
       "      <td>0</td>\n",
       "      <td>0</td>\n",
       "      <td>0</td>\n",
       "    </tr>\n",
       "  </tbody>\n",
       "</table>\n",
       "</div>"
      ]
     },
     "execution_count": 21,
     "metadata": {},
     "output_type": "execute_result"
    }
   ],
   "execution_count": 21
  },
  {
   "cell_type": "code",
   "metadata": {
    "ExecuteTime": {
     "end_time": "2025-04-04T14:44:11.888761Z",
     "start_time": "2025-04-04T14:44:11.878063Z"
    }
   },
   "source": [
    "df.drop(columns=['Memory'],inplace=True)"
   ],
   "outputs": [],
   "execution_count": 22
  },
  {
   "cell_type": "code",
   "execution_count": 156,
   "metadata": {},
   "outputs": [
    {
     "data": {
      "text/html": [
       "<div>\n",
       "<style scoped>\n",
       "    .dataframe tbody tr th:only-of-type {\n",
       "        vertical-align: middle;\n",
       "    }\n",
       "\n",
       "    .dataframe tbody tr th {\n",
       "        vertical-align: top;\n",
       "    }\n",
       "\n",
       "    .dataframe thead th {\n",
       "        text-align: right;\n",
       "    }\n",
       "</style>\n",
       "<table border=\"1\" class=\"dataframe\">\n",
       "  <thead>\n",
       "    <tr style=\"text-align: right;\">\n",
       "      <th></th>\n",
       "      <th>Company</th>\n",
       "      <th>TypeName</th>\n",
       "      <th>Ram</th>\n",
       "      <th>Gpu</th>\n",
       "      <th>OpSys</th>\n",
       "      <th>Weight</th>\n",
       "      <th>Price</th>\n",
       "      <th>Touchscreen</th>\n",
       "      <th>IPS</th>\n",
       "      <th>PPI</th>\n",
       "      <th>CPU Brand</th>\n",
       "      <th>HDD</th>\n",
       "      <th>SDD</th>\n",
       "      <th>Hybrid</th>\n",
       "      <th>Flash_Storage</th>\n",
       "    </tr>\n",
       "  </thead>\n",
       "  <tbody>\n",
       "    <tr>\n",
       "      <th>302</th>\n",
       "      <td>Lenovo</td>\n",
       "      <td>Notebook</td>\n",
       "      <td>6GB</td>\n",
       "      <td>Nvidia GeForce GTX 940M</td>\n",
       "      <td>Windows 10</td>\n",
       "      <td>2.8kg</td>\n",
       "      <td>34578</td>\n",
       "      <td>0</td>\n",
       "      <td>0</td>\n",
       "      <td>106.113062</td>\n",
       "      <td>Intel Core i5</td>\n",
       "      <td>1000</td>\n",
       "      <td>0</td>\n",
       "      <td>0</td>\n",
       "      <td>0</td>\n",
       "    </tr>\n",
       "  </tbody>\n",
       "</table>\n",
       "</div>"
      ],
      "text/plain": [
       "    Company  TypeName  Ram                      Gpu       OpSys Weight  Price  \\\n",
       "302  Lenovo  Notebook  6GB  Nvidia GeForce GTX 940M  Windows 10  2.8kg  34578   \n",
       "\n",
       "     Touchscreen  IPS         PPI      CPU Brand   HDD  SDD  Hybrid  \\\n",
       "302            0    0  106.113062  Intel Core i5  1000    0       0   \n",
       "\n",
       "     Flash_Storage  \n",
       "302              0  "
      ]
     },
     "execution_count": 156,
     "metadata": {},
     "output_type": "execute_result"
    }
   ],
   "source": [
    "df.sample()"
   ]
  },
  {
   "cell_type": "code",
   "metadata": {
    "ExecuteTime": {
     "end_time": "2025-04-04T14:44:15.950136Z",
     "start_time": "2025-04-04T14:44:15.933793Z"
    }
   },
   "source": [
    "df['Ram']=df['Ram'].str.replace('GB','')"
   ],
   "outputs": [],
   "execution_count": 23
  },
  {
   "cell_type": "code",
   "execution_count": 159,
   "metadata": {},
   "outputs": [
    {
     "data": {
      "text/html": [
       "<div>\n",
       "<style scoped>\n",
       "    .dataframe tbody tr th:only-of-type {\n",
       "        vertical-align: middle;\n",
       "    }\n",
       "\n",
       "    .dataframe tbody tr th {\n",
       "        vertical-align: top;\n",
       "    }\n",
       "\n",
       "    .dataframe thead th {\n",
       "        text-align: right;\n",
       "    }\n",
       "</style>\n",
       "<table border=\"1\" class=\"dataframe\">\n",
       "  <thead>\n",
       "    <tr style=\"text-align: right;\">\n",
       "      <th></th>\n",
       "      <th>Company</th>\n",
       "      <th>TypeName</th>\n",
       "      <th>Ram</th>\n",
       "      <th>Gpu</th>\n",
       "      <th>OpSys</th>\n",
       "      <th>Weight</th>\n",
       "      <th>Price</th>\n",
       "      <th>Touchscreen</th>\n",
       "      <th>IPS</th>\n",
       "      <th>PPI</th>\n",
       "      <th>CPU Brand</th>\n",
       "      <th>HDD</th>\n",
       "      <th>SDD</th>\n",
       "      <th>Hybrid</th>\n",
       "      <th>Flash_Storage</th>\n",
       "    </tr>\n",
       "  </thead>\n",
       "  <tbody>\n",
       "    <tr>\n",
       "      <th>146</th>\n",
       "      <td>HP</td>\n",
       "      <td>Ultrabook</td>\n",
       "      <td>8</td>\n",
       "      <td>Intel HD Graphics 515</td>\n",
       "      <td>Windows 10</td>\n",
       "      <td>0.97kg</td>\n",
       "      <td>107305</td>\n",
       "      <td>1</td>\n",
       "      <td>1</td>\n",
       "      <td>352.465147</td>\n",
       "      <td>Other Intel Processor</td>\n",
       "      <td>0</td>\n",
       "      <td>512</td>\n",
       "      <td>0</td>\n",
       "      <td>0</td>\n",
       "    </tr>\n",
       "  </tbody>\n",
       "</table>\n",
       "</div>"
      ],
      "text/plain": [
       "    Company   TypeName Ram                    Gpu       OpSys  Weight   Price  \\\n",
       "146      HP  Ultrabook   8  Intel HD Graphics 515  Windows 10  0.97kg  107305   \n",
       "\n",
       "     Touchscreen  IPS         PPI              CPU Brand  HDD  SDD  Hybrid  \\\n",
       "146            1    1  352.465147  Other Intel Processor    0  512       0   \n",
       "\n",
       "     Flash_Storage  \n",
       "146              0  "
      ]
     },
     "execution_count": 159,
     "metadata": {},
     "output_type": "execute_result"
    }
   ],
   "source": [
    "df.sample()"
   ]
  },
  {
   "cell_type": "code",
   "metadata": {
    "ExecuteTime": {
     "end_time": "2025-04-04T14:44:28.175734Z",
     "start_time": "2025-04-04T14:44:28.166410Z"
    }
   },
   "source": [
    "df['Weight']=df['Weight'].str.replace('Kg','')"
   ],
   "outputs": [],
   "execution_count": 24
  },
  {
   "cell_type": "code",
   "execution_count": 166,
   "metadata": {},
   "outputs": [
    {
     "data": {
      "text/html": [
       "<div>\n",
       "<style scoped>\n",
       "    .dataframe tbody tr th:only-of-type {\n",
       "        vertical-align: middle;\n",
       "    }\n",
       "\n",
       "    .dataframe tbody tr th {\n",
       "        vertical-align: top;\n",
       "    }\n",
       "\n",
       "    .dataframe thead th {\n",
       "        text-align: right;\n",
       "    }\n",
       "</style>\n",
       "<table border=\"1\" class=\"dataframe\">\n",
       "  <thead>\n",
       "    <tr style=\"text-align: right;\">\n",
       "      <th></th>\n",
       "      <th>Company</th>\n",
       "      <th>TypeName</th>\n",
       "      <th>Ram</th>\n",
       "      <th>Gpu</th>\n",
       "      <th>OpSys</th>\n",
       "      <th>Weight</th>\n",
       "      <th>Price</th>\n",
       "      <th>Touchscreen</th>\n",
       "      <th>IPS</th>\n",
       "      <th>PPI</th>\n",
       "      <th>CPU Brand</th>\n",
       "      <th>HDD</th>\n",
       "      <th>SDD</th>\n",
       "      <th>Hybrid</th>\n",
       "      <th>Flash_Storage</th>\n",
       "    </tr>\n",
       "  </thead>\n",
       "  <tbody>\n",
       "    <tr>\n",
       "      <th>1156</th>\n",
       "      <td>MSI</td>\n",
       "      <td>Gaming</td>\n",
       "      <td>16</td>\n",
       "      <td>Nvidia GeForce GTX 1050 Ti</td>\n",
       "      <td>Windows 10</td>\n",
       "      <td>2.7kg</td>\n",
       "      <td>79536</td>\n",
       "      <td>0</td>\n",
       "      <td>0</td>\n",
       "      <td>127.335675</td>\n",
       "      <td>Intel Core i7</td>\n",
       "      <td>1000</td>\n",
       "      <td>256</td>\n",
       "      <td>0</td>\n",
       "      <td>0</td>\n",
       "    </tr>\n",
       "  </tbody>\n",
       "</table>\n",
       "</div>"
      ],
      "text/plain": [
       "     Company TypeName Ram                         Gpu       OpSys Weight  \\\n",
       "1156     MSI   Gaming  16  Nvidia GeForce GTX 1050 Ti  Windows 10  2.7kg   \n",
       "\n",
       "      Price  Touchscreen  IPS         PPI      CPU Brand   HDD  SDD  Hybrid  \\\n",
       "1156  79536            0    0  127.335675  Intel Core i7  1000  256       0   \n",
       "\n",
       "      Flash_Storage  \n",
       "1156              0  "
      ]
     },
     "execution_count": 166,
     "metadata": {},
     "output_type": "execute_result"
    }
   ],
   "source": [
    "df.sample()"
   ]
  },
  {
   "cell_type": "code",
   "execution_count": 167,
   "metadata": {},
   "outputs": [
    {
     "data": {
      "text/plain": [
       "array(['Intel Iris Plus Graphics 640', 'Intel HD Graphics 6000',\n",
       "       'Intel HD Graphics 620', 'AMD Radeon Pro 455',\n",
       "       'Intel Iris Plus Graphics 650', 'AMD Radeon R5',\n",
       "       'Intel Iris Pro Graphics', 'Nvidia GeForce MX150',\n",
       "       'Intel UHD Graphics 620', 'Intel HD Graphics 520',\n",
       "       'AMD Radeon Pro 555', 'AMD Radeon R5 M430',\n",
       "       'Intel HD Graphics 615', 'AMD Radeon Pro 560',\n",
       "       'Nvidia GeForce 940MX', 'Intel HD Graphics 400',\n",
       "       'Nvidia GeForce GTX 1050', 'AMD Radeon R2', 'AMD Radeon 530',\n",
       "       'Nvidia GeForce 930MX', 'Intel HD Graphics',\n",
       "       'Intel HD Graphics 500', 'Nvidia GeForce 930MX ',\n",
       "       'Nvidia GeForce GTX 1060', 'Nvidia GeForce 150MX',\n",
       "       'Intel Iris Graphics 540', 'AMD Radeon RX 580',\n",
       "       'Nvidia GeForce 920MX', 'AMD Radeon R4 Graphics', 'AMD Radeon 520',\n",
       "       'Nvidia GeForce GTX 1070', 'Nvidia GeForce GTX 1050 Ti',\n",
       "       'Nvidia GeForce MX130', 'AMD R4 Graphics',\n",
       "       'Nvidia GeForce GTX 940MX', 'AMD Radeon RX 560',\n",
       "       'Nvidia GeForce 920M', 'AMD Radeon R7 M445', 'AMD Radeon RX 550',\n",
       "       'Nvidia GeForce GTX 1050M', 'Intel HD Graphics 515',\n",
       "       'AMD Radeon R5 M420', 'Intel HD Graphics 505',\n",
       "       'Nvidia GTX 980 SLI', 'AMD R17M-M1-70', 'Nvidia GeForce GTX 1080',\n",
       "       'Nvidia Quadro M1200', 'Nvidia GeForce 920MX ',\n",
       "       'Nvidia GeForce GTX 950M', 'AMD FirePro W4190M ',\n",
       "       'Nvidia GeForce GTX 980M', 'Intel Iris Graphics 550',\n",
       "       'Nvidia GeForce 930M', 'Intel HD Graphics 630',\n",
       "       'AMD Radeon R5 430', 'Nvidia GeForce GTX 940M',\n",
       "       'Intel HD Graphics 510', 'Intel HD Graphics 405',\n",
       "       'AMD Radeon RX 540', 'Nvidia GeForce GT 940MX',\n",
       "       'AMD FirePro W5130M', 'Nvidia Quadro M2200M', 'AMD Radeon R4',\n",
       "       'Nvidia Quadro M620', 'AMD Radeon R7 M460',\n",
       "       'Intel HD Graphics 530', 'Nvidia GeForce GTX 965M',\n",
       "       'Nvidia GeForce GTX1080', 'Nvidia GeForce GTX1050 Ti',\n",
       "       'Nvidia GeForce GTX 960M', 'AMD Radeon R2 Graphics',\n",
       "       'Nvidia Quadro M620M', 'Nvidia GeForce GTX 970M',\n",
       "       'Nvidia GeForce GTX 960<U+039C>', 'Intel Graphics 620',\n",
       "       'Nvidia GeForce GTX 960', 'AMD Radeon R5 520',\n",
       "       'AMD Radeon R7 M440', 'AMD Radeon R7', 'Nvidia Quadro M520M',\n",
       "       'Nvidia Quadro M2200', 'Nvidia Quadro M2000M',\n",
       "       'Intel HD Graphics 540', 'Nvidia Quadro M1000M', 'AMD Radeon 540',\n",
       "       'Nvidia GeForce GTX 1070M', 'Nvidia GeForce GTX1060',\n",
       "       'Intel HD Graphics 5300', 'AMD Radeon R5 M420X',\n",
       "       'AMD Radeon R7 Graphics', 'Nvidia GeForce 920',\n",
       "       'Nvidia GeForce 940M', 'Nvidia GeForce GTX 930MX',\n",
       "       'AMD Radeon R7 M465', 'AMD Radeon R3', 'Nvidia GeForce GTX 1050Ti',\n",
       "       'AMD Radeon R7 M365X', 'AMD Radeon R9 M385',\n",
       "       'Intel HD Graphics 620 ', 'Nvidia Quadro 3000M',\n",
       "       'Nvidia GeForce GTX 980 ', 'AMD Radeon R5 M330',\n",
       "       'AMD FirePro W4190M', 'AMD FirePro W6150M', 'AMD Radeon R5 M315',\n",
       "       'Nvidia Quadro M500M', 'AMD Radeon R7 M360',\n",
       "       'Nvidia Quadro M3000M', 'Nvidia GeForce 960M', 'ARM Mali T860 MP4'],\n",
       "      dtype=object)"
      ]
     },
     "execution_count": 167,
     "metadata": {},
     "output_type": "execute_result"
    }
   ],
   "source": [
    "df['Gpu'].unique()"
   ]
  },
  {
   "cell_type": "code",
   "metadata": {
    "ExecuteTime": {
     "end_time": "2025-04-04T14:44:36.299844Z",
     "start_time": "2025-04-04T14:44:36.288848Z"
    }
   },
   "source": [
    "df['GPU Brand']=df['Gpu'].apply(lambda x: x.split()[0])"
   ],
   "outputs": [],
   "execution_count": 25
  },
  {
   "cell_type": "code",
   "execution_count": 170,
   "metadata": {},
   "outputs": [
    {
     "data": {
      "text/html": [
       "<div>\n",
       "<style scoped>\n",
       "    .dataframe tbody tr th:only-of-type {\n",
       "        vertical-align: middle;\n",
       "    }\n",
       "\n",
       "    .dataframe tbody tr th {\n",
       "        vertical-align: top;\n",
       "    }\n",
       "\n",
       "    .dataframe thead th {\n",
       "        text-align: right;\n",
       "    }\n",
       "</style>\n",
       "<table border=\"1\" class=\"dataframe\">\n",
       "  <thead>\n",
       "    <tr style=\"text-align: right;\">\n",
       "      <th></th>\n",
       "      <th>Company</th>\n",
       "      <th>TypeName</th>\n",
       "      <th>Ram</th>\n",
       "      <th>Gpu</th>\n",
       "      <th>OpSys</th>\n",
       "      <th>Weight</th>\n",
       "      <th>Price</th>\n",
       "      <th>Touchscreen</th>\n",
       "      <th>IPS</th>\n",
       "      <th>PPI</th>\n",
       "      <th>CPU Brand</th>\n",
       "      <th>HDD</th>\n",
       "      <th>SDD</th>\n",
       "      <th>Hybrid</th>\n",
       "      <th>Flash_Storage</th>\n",
       "      <th>GPU Brand</th>\n",
       "    </tr>\n",
       "  </thead>\n",
       "  <tbody>\n",
       "    <tr>\n",
       "      <th>776</th>\n",
       "      <td>Lenovo</td>\n",
       "      <td>Notebook</td>\n",
       "      <td>16</td>\n",
       "      <td>Nvidia Quadro M2000M</td>\n",
       "      <td>Windows 7</td>\n",
       "      <td>2.5kg</td>\n",
       "      <td>126273</td>\n",
       "      <td>0</td>\n",
       "      <td>0</td>\n",
       "      <td>282.423996</td>\n",
       "      <td>Intel Core i7</td>\n",
       "      <td>0</td>\n",
       "      <td>512</td>\n",
       "      <td>0</td>\n",
       "      <td>0</td>\n",
       "      <td>Nvidia</td>\n",
       "    </tr>\n",
       "    <tr>\n",
       "      <th>15</th>\n",
       "      <td>Apple</td>\n",
       "      <td>Ultrabook</td>\n",
       "      <td>8</td>\n",
       "      <td>Intel Iris Plus Graphics 640</td>\n",
       "      <td>macOS</td>\n",
       "      <td>1.37kg</td>\n",
       "      <td>80908</td>\n",
       "      <td>0</td>\n",
       "      <td>1</td>\n",
       "      <td>226.983005</td>\n",
       "      <td>Intel Core i5</td>\n",
       "      <td>0</td>\n",
       "      <td>256</td>\n",
       "      <td>0</td>\n",
       "      <td>0</td>\n",
       "      <td>Intel</td>\n",
       "    </tr>\n",
       "    <tr>\n",
       "      <th>920</th>\n",
       "      <td>Dell</td>\n",
       "      <td>Notebook</td>\n",
       "      <td>4</td>\n",
       "      <td>AMD Radeon R5 M420</td>\n",
       "      <td>Windows 10</td>\n",
       "      <td>2.18kg</td>\n",
       "      <td>36496</td>\n",
       "      <td>0</td>\n",
       "      <td>0</td>\n",
       "      <td>100.454670</td>\n",
       "      <td>Intel Core i5</td>\n",
       "      <td>1000</td>\n",
       "      <td>0</td>\n",
       "      <td>0</td>\n",
       "      <td>0</td>\n",
       "      <td>AMD</td>\n",
       "    </tr>\n",
       "    <tr>\n",
       "      <th>987</th>\n",
       "      <td>Lenovo</td>\n",
       "      <td>Gaming</td>\n",
       "      <td>8</td>\n",
       "      <td>Nvidia GeForce GTX 1060</td>\n",
       "      <td>Windows 10</td>\n",
       "      <td>2.5kg</td>\n",
       "      <td>63349</td>\n",
       "      <td>0</td>\n",
       "      <td>1</td>\n",
       "      <td>141.211998</td>\n",
       "      <td>Intel Core i7</td>\n",
       "      <td>1000</td>\n",
       "      <td>128</td>\n",
       "      <td>0</td>\n",
       "      <td>0</td>\n",
       "      <td>Nvidia</td>\n",
       "    </tr>\n",
       "    <tr>\n",
       "      <th>1131</th>\n",
       "      <td>Lenovo</td>\n",
       "      <td>2 in 1 Convertible</td>\n",
       "      <td>8</td>\n",
       "      <td>Nvidia Quadro M500M</td>\n",
       "      <td>Windows 7</td>\n",
       "      <td>1.8kg</td>\n",
       "      <td>109244</td>\n",
       "      <td>1</td>\n",
       "      <td>1</td>\n",
       "      <td>157.350512</td>\n",
       "      <td>Intel Core i7</td>\n",
       "      <td>0</td>\n",
       "      <td>512</td>\n",
       "      <td>0</td>\n",
       "      <td>0</td>\n",
       "      <td>Nvidia</td>\n",
       "    </tr>\n",
       "  </tbody>\n",
       "</table>\n",
       "</div>"
      ],
      "text/plain": [
       "     Company            TypeName Ram                           Gpu  \\\n",
       "776   Lenovo            Notebook  16          Nvidia Quadro M2000M   \n",
       "15     Apple           Ultrabook   8  Intel Iris Plus Graphics 640   \n",
       "920     Dell            Notebook   4            AMD Radeon R5 M420   \n",
       "987   Lenovo              Gaming   8       Nvidia GeForce GTX 1060   \n",
       "1131  Lenovo  2 in 1 Convertible   8           Nvidia Quadro M500M   \n",
       "\n",
       "           OpSys  Weight   Price  Touchscreen  IPS         PPI      CPU Brand  \\\n",
       "776    Windows 7   2.5kg  126273            0    0  282.423996  Intel Core i7   \n",
       "15         macOS  1.37kg   80908            0    1  226.983005  Intel Core i5   \n",
       "920   Windows 10  2.18kg   36496            0    0  100.454670  Intel Core i5   \n",
       "987   Windows 10   2.5kg   63349            0    1  141.211998  Intel Core i7   \n",
       "1131   Windows 7   1.8kg  109244            1    1  157.350512  Intel Core i7   \n",
       "\n",
       "       HDD  SDD  Hybrid  Flash_Storage GPU Brand  \n",
       "776      0  512       0              0    Nvidia  \n",
       "15       0  256       0              0     Intel  \n",
       "920   1000    0       0              0       AMD  \n",
       "987   1000  128       0              0    Nvidia  \n",
       "1131     0  512       0              0    Nvidia  "
      ]
     },
     "execution_count": 170,
     "metadata": {},
     "output_type": "execute_result"
    }
   ],
   "source": [
    "df.sample(5)"
   ]
  },
  {
   "cell_type": "code",
   "execution_count": 171,
   "metadata": {},
   "outputs": [
    {
     "data": {
      "text/plain": [
       "GPU Brand\n",
       "Intel     722\n",
       "Nvidia    400\n",
       "AMD       180\n",
       "ARM         1\n",
       "Name: count, dtype: int64"
      ]
     },
     "execution_count": 171,
     "metadata": {},
     "output_type": "execute_result"
    }
   ],
   "source": [
    "df['GPU Brand'].value_counts()"
   ]
  },
  {
   "cell_type": "code",
   "metadata": {
    "ExecuteTime": {
     "end_time": "2025-04-04T14:44:40.993502Z",
     "start_time": "2025-04-04T14:44:40.981191Z"
    }
   },
   "source": [
    "df = df[df[\"GPU Brand\"]!='ARM']"
   ],
   "outputs": [],
   "execution_count": 26
  },
  {
   "cell_type": "code",
   "execution_count": 175,
   "metadata": {},
   "outputs": [
    {
     "data": {
      "text/html": [
       "<div>\n",
       "<style scoped>\n",
       "    .dataframe tbody tr th:only-of-type {\n",
       "        vertical-align: middle;\n",
       "    }\n",
       "\n",
       "    .dataframe tbody tr th {\n",
       "        vertical-align: top;\n",
       "    }\n",
       "\n",
       "    .dataframe thead th {\n",
       "        text-align: right;\n",
       "    }\n",
       "</style>\n",
       "<table border=\"1\" class=\"dataframe\">\n",
       "  <thead>\n",
       "    <tr style=\"text-align: right;\">\n",
       "      <th></th>\n",
       "      <th>Company</th>\n",
       "      <th>TypeName</th>\n",
       "      <th>Ram</th>\n",
       "      <th>Gpu</th>\n",
       "      <th>OpSys</th>\n",
       "      <th>Weight</th>\n",
       "      <th>Price</th>\n",
       "      <th>Touchscreen</th>\n",
       "      <th>IPS</th>\n",
       "      <th>PPI</th>\n",
       "      <th>CPU Brand</th>\n",
       "      <th>HDD</th>\n",
       "      <th>SDD</th>\n",
       "      <th>Hybrid</th>\n",
       "      <th>Flash_Storage</th>\n",
       "      <th>GPU Brand</th>\n",
       "    </tr>\n",
       "  </thead>\n",
       "  <tbody>\n",
       "    <tr>\n",
       "      <th>472</th>\n",
       "      <td>Google</td>\n",
       "      <td>Ultrabook</td>\n",
       "      <td>8</td>\n",
       "      <td>Intel HD Graphics 615</td>\n",
       "      <td>Chrome OS</td>\n",
       "      <td>1.1kg</td>\n",
       "      <td>67932</td>\n",
       "      <td>1</td>\n",
       "      <td>0</td>\n",
       "      <td>234.507400</td>\n",
       "      <td>Intel Core i5</td>\n",
       "      <td>0</td>\n",
       "      <td>128</td>\n",
       "      <td>0</td>\n",
       "      <td>0</td>\n",
       "      <td>Intel</td>\n",
       "    </tr>\n",
       "    <tr>\n",
       "      <th>1115</th>\n",
       "      <td>Dell</td>\n",
       "      <td>Ultrabook</td>\n",
       "      <td>8</td>\n",
       "      <td>Intel Iris Plus Graphics 640</td>\n",
       "      <td>Windows 10</td>\n",
       "      <td>1.23kg</td>\n",
       "      <td>73473</td>\n",
       "      <td>0</td>\n",
       "      <td>0</td>\n",
       "      <td>165.632118</td>\n",
       "      <td>Intel Core i7</td>\n",
       "      <td>0</td>\n",
       "      <td>256</td>\n",
       "      <td>0</td>\n",
       "      <td>0</td>\n",
       "      <td>Intel</td>\n",
       "    </tr>\n",
       "    <tr>\n",
       "      <th>843</th>\n",
       "      <td>Dell</td>\n",
       "      <td>Notebook</td>\n",
       "      <td>8</td>\n",
       "      <td>Intel HD Graphics 620</td>\n",
       "      <td>Windows 10</td>\n",
       "      <td>2.18kg</td>\n",
       "      <td>38041</td>\n",
       "      <td>0</td>\n",
       "      <td>0</td>\n",
       "      <td>100.454670</td>\n",
       "      <td>Intel Core i5</td>\n",
       "      <td>0</td>\n",
       "      <td>128</td>\n",
       "      <td>0</td>\n",
       "      <td>0</td>\n",
       "      <td>Intel</td>\n",
       "    </tr>\n",
       "    <tr>\n",
       "      <th>948</th>\n",
       "      <td>Dell</td>\n",
       "      <td>Notebook</td>\n",
       "      <td>4</td>\n",
       "      <td>AMD Radeon R7 M445</td>\n",
       "      <td>Windows 10</td>\n",
       "      <td>2.36kg</td>\n",
       "      <td>35111</td>\n",
       "      <td>0</td>\n",
       "      <td>0</td>\n",
       "      <td>106.113062</td>\n",
       "      <td>Intel Core i3</td>\n",
       "      <td>1000</td>\n",
       "      <td>0</td>\n",
       "      <td>0</td>\n",
       "      <td>0</td>\n",
       "      <td>AMD</td>\n",
       "    </tr>\n",
       "    <tr>\n",
       "      <th>927</th>\n",
       "      <td>HP</td>\n",
       "      <td>Notebook</td>\n",
       "      <td>8</td>\n",
       "      <td>Intel HD Graphics 520</td>\n",
       "      <td>Windows 10</td>\n",
       "      <td>2.31kg</td>\n",
       "      <td>62071</td>\n",
       "      <td>0</td>\n",
       "      <td>0</td>\n",
       "      <td>141.211998</td>\n",
       "      <td>Intel Core i5</td>\n",
       "      <td>0</td>\n",
       "      <td>256</td>\n",
       "      <td>0</td>\n",
       "      <td>0</td>\n",
       "      <td>Intel</td>\n",
       "    </tr>\n",
       "  </tbody>\n",
       "</table>\n",
       "</div>"
      ],
      "text/plain": [
       "     Company   TypeName Ram                           Gpu       OpSys  Weight  \\\n",
       "472   Google  Ultrabook   8         Intel HD Graphics 615   Chrome OS   1.1kg   \n",
       "1115    Dell  Ultrabook   8  Intel Iris Plus Graphics 640  Windows 10  1.23kg   \n",
       "843     Dell   Notebook   8         Intel HD Graphics 620  Windows 10  2.18kg   \n",
       "948     Dell   Notebook   4            AMD Radeon R7 M445  Windows 10  2.36kg   \n",
       "927       HP   Notebook   8         Intel HD Graphics 520  Windows 10  2.31kg   \n",
       "\n",
       "      Price  Touchscreen  IPS         PPI      CPU Brand   HDD  SDD  Hybrid  \\\n",
       "472   67932            1    0  234.507400  Intel Core i5     0  128       0   \n",
       "1115  73473            0    0  165.632118  Intel Core i7     0  256       0   \n",
       "843   38041            0    0  100.454670  Intel Core i5     0  128       0   \n",
       "948   35111            0    0  106.113062  Intel Core i3  1000    0       0   \n",
       "927   62071            0    0  141.211998  Intel Core i5     0  256       0   \n",
       "\n",
       "      Flash_Storage GPU Brand  \n",
       "472               0     Intel  \n",
       "1115              0     Intel  \n",
       "843               0     Intel  \n",
       "948               0       AMD  \n",
       "927               0     Intel  "
      ]
     },
     "execution_count": 175,
     "metadata": {},
     "output_type": "execute_result"
    }
   ],
   "source": [
    "df.sample(5)"
   ]
  },
  {
   "cell_type": "code",
   "execution_count": 176,
   "metadata": {},
   "outputs": [
    {
     "data": {
      "text/plain": [
       "array(['macOS', 'No OS', 'Windows 10', 'Mac OS X', 'Linux', 'Android',\n",
       "       'Windows 10 S', 'Chrome OS', 'Windows 7'], dtype=object)"
      ]
     },
     "execution_count": 176,
     "metadata": {},
     "output_type": "execute_result"
    }
   ],
   "source": [
    "df['OpSys'].unique()"
   ]
  },
  {
   "cell_type": "code",
   "metadata": {
    "ExecuteTime": {
     "end_time": "2025-04-04T14:44:47.841793Z",
     "start_time": "2025-04-04T14:44:47.820183Z"
    }
   },
   "source": [
    "def OS(inp):\n",
    "    if inp == 'Windows 10' or inp == 'Windows 10 S' or inp == 'Windows 7':\n",
    "        return 'Windows'\n",
    "    elif inp == 'macOS' or inp == 'macOS X':\n",
    "        return 'Mac'\n",
    "    else:\n",
    "        return 'Other/No OS/Linux'"
   ],
   "outputs": [],
   "execution_count": 27
  },
  {
   "cell_type": "code",
   "metadata": {
    "ExecuteTime": {
     "end_time": "2025-04-04T14:44:51.304331Z",
     "start_time": "2025-04-04T14:44:51.286804Z"
    }
   },
   "source": [
    "df['OS'] = df['OpSys'].apply(OS)"
   ],
   "outputs": [],
   "execution_count": 28
  },
  {
   "cell_type": "code",
   "execution_count": 184,
   "metadata": {},
   "outputs": [
    {
     "data": {
      "text/html": [
       "<div>\n",
       "<style scoped>\n",
       "    .dataframe tbody tr th:only-of-type {\n",
       "        vertical-align: middle;\n",
       "    }\n",
       "\n",
       "    .dataframe tbody tr th {\n",
       "        vertical-align: top;\n",
       "    }\n",
       "\n",
       "    .dataframe thead th {\n",
       "        text-align: right;\n",
       "    }\n",
       "</style>\n",
       "<table border=\"1\" class=\"dataframe\">\n",
       "  <thead>\n",
       "    <tr style=\"text-align: right;\">\n",
       "      <th></th>\n",
       "      <th>Company</th>\n",
       "      <th>TypeName</th>\n",
       "      <th>Ram</th>\n",
       "      <th>Gpu</th>\n",
       "      <th>OpSys</th>\n",
       "      <th>Weight</th>\n",
       "      <th>Price</th>\n",
       "      <th>Touchscreen</th>\n",
       "      <th>IPS</th>\n",
       "      <th>PPI</th>\n",
       "      <th>CPU Brand</th>\n",
       "      <th>HDD</th>\n",
       "      <th>SDD</th>\n",
       "      <th>Hybrid</th>\n",
       "      <th>Flash_Storage</th>\n",
       "      <th>GPU Brand</th>\n",
       "      <th>OS</th>\n",
       "    </tr>\n",
       "  </thead>\n",
       "  <tbody>\n",
       "    <tr>\n",
       "      <th>845</th>\n",
       "      <td>Dell</td>\n",
       "      <td>Notebook</td>\n",
       "      <td>4</td>\n",
       "      <td>AMD Radeon R5 M420</td>\n",
       "      <td>Windows 10</td>\n",
       "      <td>2.18kg</td>\n",
       "      <td>39373</td>\n",
       "      <td>0</td>\n",
       "      <td>0</td>\n",
       "      <td>141.211998</td>\n",
       "      <td>Intel Core i7</td>\n",
       "      <td>0</td>\n",
       "      <td>256</td>\n",
       "      <td>0</td>\n",
       "      <td>0</td>\n",
       "      <td>AMD</td>\n",
       "      <td>Windows</td>\n",
       "    </tr>\n",
       "    <tr>\n",
       "      <th>303</th>\n",
       "      <td>Lenovo</td>\n",
       "      <td>Notebook</td>\n",
       "      <td>8</td>\n",
       "      <td>Nvidia GeForce 940MX</td>\n",
       "      <td>No OS</td>\n",
       "      <td>2.2kg</td>\n",
       "      <td>29250</td>\n",
       "      <td>0</td>\n",
       "      <td>0</td>\n",
       "      <td>100.454670</td>\n",
       "      <td>Intel Core i5</td>\n",
       "      <td>2000</td>\n",
       "      <td>0</td>\n",
       "      <td>0</td>\n",
       "      <td>0</td>\n",
       "      <td>Nvidia</td>\n",
       "      <td>Other/No OS/Linux</td>\n",
       "    </tr>\n",
       "    <tr>\n",
       "      <th>661</th>\n",
       "      <td>Lenovo</td>\n",
       "      <td>Notebook</td>\n",
       "      <td>4</td>\n",
       "      <td>Intel HD Graphics 500</td>\n",
       "      <td>Windows 10</td>\n",
       "      <td>2.2kg</td>\n",
       "      <td>22324</td>\n",
       "      <td>0</td>\n",
       "      <td>0</td>\n",
       "      <td>100.454670</td>\n",
       "      <td>Other Intel Processor</td>\n",
       "      <td>500</td>\n",
       "      <td>0</td>\n",
       "      <td>0</td>\n",
       "      <td>0</td>\n",
       "      <td>Intel</td>\n",
       "      <td>Windows</td>\n",
       "    </tr>\n",
       "    <tr>\n",
       "      <th>1280</th>\n",
       "      <td>HP</td>\n",
       "      <td>Notebook</td>\n",
       "      <td>6</td>\n",
       "      <td>AMD Radeon R7 M440</td>\n",
       "      <td>Windows 10</td>\n",
       "      <td>2.04kg</td>\n",
       "      <td>29303</td>\n",
       "      <td>0</td>\n",
       "      <td>0</td>\n",
       "      <td>141.211998</td>\n",
       "      <td>AMD Processor</td>\n",
       "      <td>0</td>\n",
       "      <td>0</td>\n",
       "      <td>1000</td>\n",
       "      <td>0</td>\n",
       "      <td>AMD</td>\n",
       "      <td>Windows</td>\n",
       "    </tr>\n",
       "    <tr>\n",
       "      <th>195</th>\n",
       "      <td>HP</td>\n",
       "      <td>Notebook</td>\n",
       "      <td>8</td>\n",
       "      <td>Nvidia GeForce 930MX</td>\n",
       "      <td>Windows 10</td>\n",
       "      <td>2.5kg</td>\n",
       "      <td>48697</td>\n",
       "      <td>0</td>\n",
       "      <td>1</td>\n",
       "      <td>127.335675</td>\n",
       "      <td>Intel Core i5</td>\n",
       "      <td>1000</td>\n",
       "      <td>0</td>\n",
       "      <td>0</td>\n",
       "      <td>0</td>\n",
       "      <td>Nvidia</td>\n",
       "      <td>Windows</td>\n",
       "    </tr>\n",
       "  </tbody>\n",
       "</table>\n",
       "</div>"
      ],
      "text/plain": [
       "     Company  TypeName Ram                    Gpu       OpSys  Weight  Price  \\\n",
       "845     Dell  Notebook   4     AMD Radeon R5 M420  Windows 10  2.18kg  39373   \n",
       "303   Lenovo  Notebook   8   Nvidia GeForce 940MX       No OS   2.2kg  29250   \n",
       "661   Lenovo  Notebook   4  Intel HD Graphics 500  Windows 10   2.2kg  22324   \n",
       "1280      HP  Notebook   6     AMD Radeon R7 M440  Windows 10  2.04kg  29303   \n",
       "195       HP  Notebook   8   Nvidia GeForce 930MX  Windows 10   2.5kg  48697   \n",
       "\n",
       "      Touchscreen  IPS         PPI              CPU Brand   HDD  SDD  Hybrid  \\\n",
       "845             0    0  141.211998          Intel Core i7     0  256       0   \n",
       "303             0    0  100.454670          Intel Core i5  2000    0       0   \n",
       "661             0    0  100.454670  Other Intel Processor   500    0       0   \n",
       "1280            0    0  141.211998          AMD Processor     0    0    1000   \n",
       "195             0    1  127.335675          Intel Core i5  1000    0       0   \n",
       "\n",
       "      Flash_Storage GPU Brand                 OS  \n",
       "845               0       AMD            Windows  \n",
       "303               0    Nvidia  Other/No OS/Linux  \n",
       "661               0     Intel            Windows  \n",
       "1280              0       AMD            Windows  \n",
       "195               0    Nvidia            Windows  "
      ]
     },
     "execution_count": 184,
     "metadata": {},
     "output_type": "execute_result"
    }
   ],
   "source": [
    "df.sample(5)"
   ]
  },
  {
   "cell_type": "code",
   "execution_count": 183,
   "metadata": {},
   "outputs": [
    {
     "data": {
      "text/plain": [
       "array(['Mac', 'Other/No OS/Linux', 'Windows'], dtype=object)"
      ]
     },
     "execution_count": 183,
     "metadata": {},
     "output_type": "execute_result"
    }
   ],
   "source": [
    "df['OS'].unique()"
   ]
  },
  {
   "cell_type": "code",
   "metadata": {
    "ExecuteTime": {
     "end_time": "2025-04-04T14:44:56.211208Z",
     "start_time": "2025-04-04T14:44:56.202358Z"
    }
   },
   "source": [
    "df.drop(columns=['Gpu'],inplace=True)"
   ],
   "outputs": [],
   "execution_count": 29
  },
  {
   "cell_type": "code",
   "execution_count": 187,
   "metadata": {},
   "outputs": [
    {
     "data": {
      "text/html": [
       "<div>\n",
       "<style scoped>\n",
       "    .dataframe tbody tr th:only-of-type {\n",
       "        vertical-align: middle;\n",
       "    }\n",
       "\n",
       "    .dataframe tbody tr th {\n",
       "        vertical-align: top;\n",
       "    }\n",
       "\n",
       "    .dataframe thead th {\n",
       "        text-align: right;\n",
       "    }\n",
       "</style>\n",
       "<table border=\"1\" class=\"dataframe\">\n",
       "  <thead>\n",
       "    <tr style=\"text-align: right;\">\n",
       "      <th></th>\n",
       "      <th>Company</th>\n",
       "      <th>TypeName</th>\n",
       "      <th>Ram</th>\n",
       "      <th>OpSys</th>\n",
       "      <th>Weight</th>\n",
       "      <th>Price</th>\n",
       "      <th>Touchscreen</th>\n",
       "      <th>IPS</th>\n",
       "      <th>PPI</th>\n",
       "      <th>CPU Brand</th>\n",
       "      <th>HDD</th>\n",
       "      <th>SDD</th>\n",
       "      <th>Hybrid</th>\n",
       "      <th>Flash_Storage</th>\n",
       "      <th>GPU Brand</th>\n",
       "      <th>OS</th>\n",
       "    </tr>\n",
       "  </thead>\n",
       "  <tbody>\n",
       "    <tr>\n",
       "      <th>357</th>\n",
       "      <td>Dell</td>\n",
       "      <td>Gaming</td>\n",
       "      <td>8</td>\n",
       "      <td>Windows 10</td>\n",
       "      <td>2.65kg</td>\n",
       "      <td>53226</td>\n",
       "      <td>0</td>\n",
       "      <td>0</td>\n",
       "      <td>141.211998</td>\n",
       "      <td>Intel Core i5</td>\n",
       "      <td>1000</td>\n",
       "      <td>0</td>\n",
       "      <td>0</td>\n",
       "      <td>0</td>\n",
       "      <td>Nvidia</td>\n",
       "      <td>Windows</td>\n",
       "    </tr>\n",
       "  </tbody>\n",
       "</table>\n",
       "</div>"
      ],
      "text/plain": [
       "    Company TypeName Ram       OpSys  Weight  Price  Touchscreen  IPS  \\\n",
       "357    Dell   Gaming   8  Windows 10  2.65kg  53226            0    0   \n",
       "\n",
       "            PPI      CPU Brand   HDD  SDD  Hybrid  Flash_Storage GPU Brand  \\\n",
       "357  141.211998  Intel Core i5  1000    0       0              0    Nvidia   \n",
       "\n",
       "          OS  \n",
       "357  Windows  "
      ]
     },
     "execution_count": 187,
     "metadata": {},
     "output_type": "execute_result"
    }
   ],
   "source": [
    "df.sample()"
   ]
  },
  {
   "cell_type": "code",
   "metadata": {
    "ExecuteTime": {
     "end_time": "2025-04-04T14:45:01.441396Z",
     "start_time": "2025-04-04T14:45:01.426696Z"
    }
   },
   "source": [
    "df.drop(columns=['OpSys'],inplace=True)"
   ],
   "outputs": [],
   "execution_count": 30
  },
  {
   "cell_type": "code",
   "execution_count": 189,
   "metadata": {},
   "outputs": [
    {
     "data": {
      "text/html": [
       "<div>\n",
       "<style scoped>\n",
       "    .dataframe tbody tr th:only-of-type {\n",
       "        vertical-align: middle;\n",
       "    }\n",
       "\n",
       "    .dataframe tbody tr th {\n",
       "        vertical-align: top;\n",
       "    }\n",
       "\n",
       "    .dataframe thead th {\n",
       "        text-align: right;\n",
       "    }\n",
       "</style>\n",
       "<table border=\"1\" class=\"dataframe\">\n",
       "  <thead>\n",
       "    <tr style=\"text-align: right;\">\n",
       "      <th></th>\n",
       "      <th>Company</th>\n",
       "      <th>TypeName</th>\n",
       "      <th>Ram</th>\n",
       "      <th>Weight</th>\n",
       "      <th>Price</th>\n",
       "      <th>Touchscreen</th>\n",
       "      <th>IPS</th>\n",
       "      <th>PPI</th>\n",
       "      <th>CPU Brand</th>\n",
       "      <th>HDD</th>\n",
       "      <th>SDD</th>\n",
       "      <th>Hybrid</th>\n",
       "      <th>Flash_Storage</th>\n",
       "      <th>GPU Brand</th>\n",
       "      <th>OS</th>\n",
       "    </tr>\n",
       "  </thead>\n",
       "  <tbody>\n",
       "    <tr>\n",
       "      <th>497</th>\n",
       "      <td>HP</td>\n",
       "      <td>Notebook</td>\n",
       "      <td>8</td>\n",
       "      <td>1.48kg</td>\n",
       "      <td>93186</td>\n",
       "      <td>0</td>\n",
       "      <td>0</td>\n",
       "      <td>157.350512</td>\n",
       "      <td>Intel Core i7</td>\n",
       "      <td>0</td>\n",
       "      <td>1000</td>\n",
       "      <td>0</td>\n",
       "      <td>0</td>\n",
       "      <td>Intel</td>\n",
       "      <td>Windows</td>\n",
       "    </tr>\n",
       "  </tbody>\n",
       "</table>\n",
       "</div>"
      ],
      "text/plain": [
       "    Company  TypeName Ram  Weight  Price  Touchscreen  IPS         PPI  \\\n",
       "497      HP  Notebook   8  1.48kg  93186            0    0  157.350512   \n",
       "\n",
       "         CPU Brand  HDD   SDD  Hybrid  Flash_Storage GPU Brand       OS  \n",
       "497  Intel Core i7    0  1000       0              0     Intel  Windows  "
      ]
     },
     "execution_count": 189,
     "metadata": {},
     "output_type": "execute_result"
    }
   ],
   "source": [
    "df.sample()"
   ]
  },
  {
   "cell_type": "code",
   "metadata": {
    "ExecuteTime": {
     "end_time": "2025-04-04T14:45:05.608676Z",
     "start_time": "2025-04-04T14:45:05.587141Z"
    }
   },
   "source": [
    "df['Weight'] = df['Weight'].str.replace('kg','')"
   ],
   "outputs": [],
   "execution_count": 31
  },
  {
   "cell_type": "code",
   "execution_count": 196,
   "metadata": {},
   "outputs": [
    {
     "data": {
      "text/html": [
       "<div>\n",
       "<style scoped>\n",
       "    .dataframe tbody tr th:only-of-type {\n",
       "        vertical-align: middle;\n",
       "    }\n",
       "\n",
       "    .dataframe tbody tr th {\n",
       "        vertical-align: top;\n",
       "    }\n",
       "\n",
       "    .dataframe thead th {\n",
       "        text-align: right;\n",
       "    }\n",
       "</style>\n",
       "<table border=\"1\" class=\"dataframe\">\n",
       "  <thead>\n",
       "    <tr style=\"text-align: right;\">\n",
       "      <th></th>\n",
       "      <th>Company</th>\n",
       "      <th>TypeName</th>\n",
       "      <th>Ram</th>\n",
       "      <th>Weight</th>\n",
       "      <th>Price</th>\n",
       "      <th>Touchscreen</th>\n",
       "      <th>IPS</th>\n",
       "      <th>PPI</th>\n",
       "      <th>CPU Brand</th>\n",
       "      <th>HDD</th>\n",
       "      <th>SDD</th>\n",
       "      <th>Hybrid</th>\n",
       "      <th>Flash_Storage</th>\n",
       "      <th>GPU Brand</th>\n",
       "      <th>OS</th>\n",
       "    </tr>\n",
       "  </thead>\n",
       "  <tbody>\n",
       "    <tr>\n",
       "      <th>1136</th>\n",
       "      <td>HP</td>\n",
       "      <td>Workstation</td>\n",
       "      <td>8</td>\n",
       "      <td>3</td>\n",
       "      <td>210424</td>\n",
       "      <td>0</td>\n",
       "      <td>1</td>\n",
       "      <td>127.335675</td>\n",
       "      <td>Intel Core i7</td>\n",
       "      <td>0</td>\n",
       "      <td>256</td>\n",
       "      <td>0</td>\n",
       "      <td>0</td>\n",
       "      <td>Nvidia</td>\n",
       "      <td>Windows</td>\n",
       "    </tr>\n",
       "  </tbody>\n",
       "</table>\n",
       "</div>"
      ],
      "text/plain": [
       "     Company     TypeName Ram Weight   Price  Touchscreen  IPS         PPI  \\\n",
       "1136      HP  Workstation   8      3  210424            0    1  127.335675   \n",
       "\n",
       "          CPU Brand  HDD  SDD  Hybrid  Flash_Storage GPU Brand       OS  \n",
       "1136  Intel Core i7    0  256       0              0    Nvidia  Windows  "
      ]
     },
     "execution_count": 196,
     "metadata": {},
     "output_type": "execute_result"
    }
   ],
   "source": [
    "df.sample()"
   ]
  },
  {
   "cell_type": "code",
   "execution_count": 198,
   "metadata": {},
   "outputs": [
    {
     "name": "stdout",
     "output_type": "stream",
     "text": [
      "<class 'pandas.core.frame.DataFrame'>\n",
      "Index: 1302 entries, 0 to 1302\n",
      "Data columns (total 15 columns):\n",
      " #   Column         Non-Null Count  Dtype  \n",
      "---  ------         --------------  -----  \n",
      " 0   Company        1302 non-null   object \n",
      " 1   TypeName       1302 non-null   object \n",
      " 2   Ram            1302 non-null   object \n",
      " 3   Weight         1302 non-null   object \n",
      " 4   Price          1302 non-null   int64  \n",
      " 5   Touchscreen    1302 non-null   int64  \n",
      " 6   IPS            1302 non-null   int64  \n",
      " 7   PPI            1302 non-null   float64\n",
      " 8   CPU Brand      1302 non-null   object \n",
      " 9   HDD            1302 non-null   int64  \n",
      " 10  SDD            1302 non-null   int64  \n",
      " 11  Hybrid         1302 non-null   int64  \n",
      " 12  Flash_Storage  1302 non-null   int64  \n",
      " 13  GPU Brand      1302 non-null   object \n",
      " 14  OS             1302 non-null   object \n",
      "dtypes: float64(1), int64(7), object(7)\n",
      "memory usage: 162.8+ KB\n"
     ]
    }
   ],
   "source": [
    "df.info()"
   ]
  },
  {
   "cell_type": "code",
   "metadata": {
    "ExecuteTime": {
     "end_time": "2025-04-04T14:45:09.549190Z",
     "start_time": "2025-04-04T14:45:09.533936Z"
    }
   },
   "source": [
    "df['Ram']=df['Ram'].astype(int)"
   ],
   "outputs": [],
   "execution_count": 32
  },
  {
   "cell_type": "code",
   "metadata": {
    "ExecuteTime": {
     "end_time": "2025-04-04T14:45:12.318373Z",
     "start_time": "2025-04-04T14:45:12.268020Z"
    }
   },
   "source": [
    "df['Weight']=df['Weight'].astype(float)"
   ],
   "outputs": [],
   "execution_count": 33
  },
  {
   "cell_type": "code",
   "execution_count": 208,
   "metadata": {},
   "outputs": [
    {
     "data": {
      "text/html": [
       "<div>\n",
       "<style scoped>\n",
       "    .dataframe tbody tr th:only-of-type {\n",
       "        vertical-align: middle;\n",
       "    }\n",
       "\n",
       "    .dataframe tbody tr th {\n",
       "        vertical-align: top;\n",
       "    }\n",
       "\n",
       "    .dataframe thead th {\n",
       "        text-align: right;\n",
       "    }\n",
       "</style>\n",
       "<table border=\"1\" class=\"dataframe\">\n",
       "  <thead>\n",
       "    <tr style=\"text-align: right;\">\n",
       "      <th></th>\n",
       "      <th>Company</th>\n",
       "      <th>TypeName</th>\n",
       "      <th>Ram</th>\n",
       "      <th>Weight</th>\n",
       "      <th>Price</th>\n",
       "      <th>Touchscreen</th>\n",
       "      <th>IPS</th>\n",
       "      <th>PPI</th>\n",
       "      <th>CPU Brand</th>\n",
       "      <th>HDD</th>\n",
       "      <th>SDD</th>\n",
       "      <th>Hybrid</th>\n",
       "      <th>Flash_Storage</th>\n",
       "      <th>GPU Brand</th>\n",
       "      <th>OS</th>\n",
       "    </tr>\n",
       "  </thead>\n",
       "  <tbody>\n",
       "    <tr>\n",
       "      <th>497</th>\n",
       "      <td>HP</td>\n",
       "      <td>Notebook</td>\n",
       "      <td>8</td>\n",
       "      <td>1.48</td>\n",
       "      <td>93186</td>\n",
       "      <td>0</td>\n",
       "      <td>0</td>\n",
       "      <td>157.350512</td>\n",
       "      <td>Intel Core i7</td>\n",
       "      <td>0</td>\n",
       "      <td>1000</td>\n",
       "      <td>0</td>\n",
       "      <td>0</td>\n",
       "      <td>Intel</td>\n",
       "      <td>Windows</td>\n",
       "    </tr>\n",
       "  </tbody>\n",
       "</table>\n",
       "</div>"
      ],
      "text/plain": [
       "    Company  TypeName  Ram  Weight  Price  Touchscreen  IPS         PPI  \\\n",
       "497      HP  Notebook    8    1.48  93186            0    0  157.350512   \n",
       "\n",
       "         CPU Brand  HDD   SDD  Hybrid  Flash_Storage GPU Brand       OS  \n",
       "497  Intel Core i7    0  1000       0              0     Intel  Windows  "
      ]
     },
     "execution_count": 208,
     "metadata": {},
     "output_type": "execute_result"
    }
   ],
   "source": [
    "df.sample()"
   ]
  },
  {
   "cell_type": "code",
   "execution_count": 210,
   "metadata": {},
   "outputs": [
    {
     "name": "stdout",
     "output_type": "stream",
     "text": [
      "<class 'pandas.core.frame.DataFrame'>\n",
      "Index: 1302 entries, 0 to 1302\n",
      "Data columns (total 15 columns):\n",
      " #   Column         Non-Null Count  Dtype  \n",
      "---  ------         --------------  -----  \n",
      " 0   Company        1302 non-null   object \n",
      " 1   TypeName       1302 non-null   object \n",
      " 2   Ram            1302 non-null   int64  \n",
      " 3   Weight         1302 non-null   float64\n",
      " 4   Price          1302 non-null   int64  \n",
      " 5   Touchscreen    1302 non-null   int64  \n",
      " 6   IPS            1302 non-null   int64  \n",
      " 7   PPI            1302 non-null   float64\n",
      " 8   CPU Brand      1302 non-null   object \n",
      " 9   HDD            1302 non-null   int64  \n",
      " 10  SDD            1302 non-null   int64  \n",
      " 11  Hybrid         1302 non-null   int64  \n",
      " 12  Flash_Storage  1302 non-null   int64  \n",
      " 13  GPU Brand      1302 non-null   object \n",
      " 14  OS             1302 non-null   object \n",
      "dtypes: float64(2), int64(8), object(5)\n",
      "memory usage: 162.8+ KB\n"
     ]
    }
   ],
   "source": [
    "df.info()"
   ]
  },
  {
   "cell_type": "code",
   "metadata": {
    "ExecuteTime": {
     "end_time": "2025-04-04T14:45:17.845118Z",
     "start_time": "2025-04-04T14:45:17.825908Z"
    }
   },
   "source": [
    "df.select_dtypes(include=['number']).corr()['Price']"
   ],
   "outputs": [
    {
     "data": {
      "text/plain": [
       "Ram              0.742905\n",
       "Weight           0.209867\n",
       "Price            1.000000\n",
       "Touchscreen      0.192917\n",
       "IPS              0.253319\n",
       "PPI              0.475368\n",
       "HDD             -0.096892\n",
       "SDD              0.670660\n",
       "Hybrid           0.007942\n",
       "Flash_Storage         NaN\n",
       "Name: Price, dtype: float64"
      ]
     },
     "execution_count": 34,
     "metadata": {},
     "output_type": "execute_result"
    }
   ],
   "execution_count": 34
  },
  {
   "cell_type": "markdown",
   "metadata": {},
   "source": [
    "## 🔍 Feature Selection & Correlation Analysis  \n",
    "\n",
    "1. **Removing 'Hybrid' and 'Flash_Storage' columns** as they exhibit **low or no correlation** with the target variable **'Price'**.  \n",
    "2. **Investigating the impact of 'HDD'**:  \n",
    "   - Although HDD is expected to have a **positive correlation** with price, it currently shows a **negative correlation**.  \n",
    "   - We will **evaluate the model performance** with and without the 'HDD' feature.  \n",
    "   - If including 'HDD' leads to **lower accuracy**, we will **remove it** from the dataset.  \n"
   ]
  },
  {
   "cell_type": "code",
   "metadata": {
    "ExecuteTime": {
     "end_time": "2025-04-04T14:45:22.606303Z",
     "start_time": "2025-04-04T14:45:22.594945Z"
    }
   },
   "source": [
    "df.drop(columns=['Hybrid','Flash_Storage'],inplace=True)"
   ],
   "outputs": [],
   "execution_count": 35
  },
  {
   "cell_type": "code",
   "execution_count": 250,
   "metadata": {},
   "outputs": [
    {
     "data": {
      "text/html": [
       "<div>\n",
       "<style scoped>\n",
       "    .dataframe tbody tr th:only-of-type {\n",
       "        vertical-align: middle;\n",
       "    }\n",
       "\n",
       "    .dataframe tbody tr th {\n",
       "        vertical-align: top;\n",
       "    }\n",
       "\n",
       "    .dataframe thead th {\n",
       "        text-align: right;\n",
       "    }\n",
       "</style>\n",
       "<table border=\"1\" class=\"dataframe\">\n",
       "  <thead>\n",
       "    <tr style=\"text-align: right;\">\n",
       "      <th></th>\n",
       "      <th>Company</th>\n",
       "      <th>TypeName</th>\n",
       "      <th>Ram</th>\n",
       "      <th>Weight</th>\n",
       "      <th>Price</th>\n",
       "      <th>Touchscreen</th>\n",
       "      <th>IPS</th>\n",
       "      <th>PPI</th>\n",
       "      <th>CPU Brand</th>\n",
       "      <th>HDD</th>\n",
       "      <th>SDD</th>\n",
       "      <th>GPU Brand</th>\n",
       "      <th>OS</th>\n",
       "    </tr>\n",
       "  </thead>\n",
       "  <tbody>\n",
       "    <tr>\n",
       "      <th>265</th>\n",
       "      <td>Dell</td>\n",
       "      <td>2 in 1 Convertible</td>\n",
       "      <td>8</td>\n",
       "      <td>2.67</td>\n",
       "      <td>42570</td>\n",
       "      <td>1</td>\n",
       "      <td>0</td>\n",
       "      <td>141.211998</td>\n",
       "      <td>Intel Core i5</td>\n",
       "      <td>0</td>\n",
       "      <td>256</td>\n",
       "      <td>Intel</td>\n",
       "      <td>Windows</td>\n",
       "    </tr>\n",
       "  </tbody>\n",
       "</table>\n",
       "</div>"
      ],
      "text/plain": [
       "    Company            TypeName  Ram  Weight  Price  Touchscreen  IPS  \\\n",
       "265    Dell  2 in 1 Convertible    8    2.67  42570            1    0   \n",
       "\n",
       "            PPI      CPU Brand  HDD  SDD GPU Brand       OS  \n",
       "265  141.211998  Intel Core i5    0  256     Intel  Windows  "
      ]
     },
     "execution_count": 250,
     "metadata": {},
     "output_type": "execute_result"
    }
   ],
   "source": [
    "df.sample()"
   ]
  },
  {
   "cell_type": "code",
   "execution_count": 230,
   "metadata": {},
   "outputs": [
    {
     "data": {
      "text/plain": [
       "<Axes: xlabel='Price', ylabel='Count'>"
      ]
     },
     "execution_count": 230,
     "metadata": {},
     "output_type": "execute_result"
    },
    {
     "data": {
      "image/png": "[encoded data removed]",
      "text/plain": [
       "<Figure size 640x480 with 1 Axes>"
      ]
     },
     "metadata": {},
     "output_type": "display_data"
    }
   ],
   "source": [
    "sns.histplot(df['Price'],kde=True)"
   ]
  },
  {
   "cell_type": "markdown",
   "metadata": {},
   "source": [
    "**📊 Insight:**  \n",
    "Most laptops are priced between **₹30,000 - ₹70,000**, with fewer high-end models above **₹1,50,000**, indicating a **right-skewed price distribution**.\n"
   ]
  },
  {
   "cell_type": "code",
   "execution_count": 231,
   "metadata": {},
   "outputs": [
    {
     "data": {
      "text/plain": [
       "<Axes: xlabel='Company'>"
      ]
     },
     "execution_count": 231,
     "metadata": {},
     "output_type": "execute_result"
    },
    {
     "data": {
      "image/png": "[encoded data removed]",
      "text/plain": [
       "<Figure size 640x480 with 1 Axes>"
      ]
     },
     "metadata": {},
     "output_type": "display_data"
    }
   ],
   "source": [
    "df['Company'].value_counts().plot(kind='bar')"
   ]
  },
  {
   "cell_type": "markdown",
   "metadata": {},
   "source": [
    "## 📊 Laptop Brand Distribution Analysis  \n",
    "\n",
    "1. **Dell, Lenovo, and HP dominate the market**, with the highest number of laptops in the dataset.  \n",
    "2. **Asus and Acer follow as mid-tier brands**, contributing significantly but with a lower share than the top three.  \n",
    "3. **MSI, Toshiba, and Apple have a moderate presence**, likely targeting specific segments such as gaming and premium users.  \n",
    "4. **Brands like Samsung, Mediacom, Razer, and Microsoft hold a niche market share**, indicating their focus on specialized laptop categories.  \n",
    "5. **Lesser-known brands like Vero, Xiaomi, Chuwi, and Huawei have minimal representation**, suggesting lower availability or demand.  \n"
   ]
  },
  {
   "cell_type": "markdown",
   "metadata": {},
   "source": []
  },
  {
   "cell_type": "code",
   "execution_count": 235,
   "metadata": {},
   "outputs": [
    {
     "data": {
      "image/png": "[encoded data removed]",
      "text/plain": [
       "<Figure size 640x480 with 1 Axes>"
      ]
     },
     "metadata": {},
     "output_type": "display_data"
    }
   ],
   "source": [
    "sns.barplot(x=df['Company'],y=df['Price'])\n",
    "plt.xticks(rotation='vertical')\n",
    "plt.show()"
   ]
  },
  {
   "cell_type": "markdown",
   "metadata": {},
   "source": [
    "## 💰 Laptop Price Distribution by Brand  \n",
    "\n",
    "1. **Apple, Microsoft, Razer, and LG lead in premium pricing**, indicating their focus on high-end devices.  \n",
    "2. **Razer exhibits the highest price variance**, suggesting a wide range of models from mid-tier to extreme gaming laptops.  \n",
    "3. **HP, Dell, Asus, and Lenovo maintain mid-range pricing**, making them accessible for a broader audience.  \n",
    "4. **Budget-friendly brands like Acer, Chuwi, and Mediacom offer more affordable options**, with relatively lower price variations.  \n",
    "5. **Vero has the lowest average price**, signifying its presence in the entry-level segment.  \n"
   ]
  },
  {
   "cell_type": "code",
   "execution_count": 239,
   "metadata": {},
   "outputs": [
    {
     "data": {
      "text/plain": [
       "<Axes: xlabel='TypeName'>"
      ]
     },
     "execution_count": 239,
     "metadata": {},
     "output_type": "execute_result"
    },
    {
     "data": {
      "image/png": "[encoded data removed]",
      "text/plain": [
       "<Figure size 640x480 with 1 Axes>"
      ]
     },
     "metadata": {},
     "output_type": "display_data"
    }
   ],
   "source": [
    "df['TypeName'].value_counts().plot(kind='bar')"
   ]
  },
  {
   "cell_type": "markdown",
   "metadata": {},
   "source": [
    "## 💻 Laptop Distribution by Type  \n",
    "\n",
    "1. **Notebooks dominate the market**, being the most common category, likely due to their versatility and affordability.  \n",
    "2. **Gaming and Ultrabooks hold a significant share**, reflecting the rising demand for performance and portability.  \n",
    "3. **2-in-1 Convertibles are moderately popular**, catering to users who need flexibility between tablet and laptop modes.  \n",
    "4. **Workstations and Netbooks have minimal presence**, indicating niche usage, with workstations targeting professionals and netbooks being largely obsolete.  \n"
   ]
  },
  {
   "cell_type": "code",
   "execution_count": 240,
   "metadata": {},
   "outputs": [
    {
     "data": {
      "image/png": "[encoded data removed]",
      "text/plain": [
       "<Figure size 640x480 with 1 Axes>"
      ]
     },
     "metadata": {},
     "output_type": "display_data"
    }
   ],
   "source": [
    "sns.barplot(x=df['TypeName'],y=df['Price'])\n",
    "plt.xticks(rotation='vertical')\n",
    "plt.show()"
   ]
  },
  {
   "cell_type": "markdown",
   "metadata": {},
   "source": [
    "## 💰 Average Price of Laptops by Type  \n",
    "\n",
    "1. **Workstations are the most expensive**, averaging over ₹120,000, designed for professional tasks requiring high performance.  \n",
    "2. **Gaming laptops follow closely**, priced around ₹100,000, catering to performance-demanding users.  \n",
    "3. **Ultrabooks are premium yet portable**, averaging ₹85,000, appealing to business professionals.  \n",
    "4. **2-in-1 Convertibles are mid-range**, costing about ₹70,000, suitable for users needing flexibility.  \n",
    "5. **Notebooks and Netbooks are budget-friendly**, with Notebooks at ₹40,000 and Netbooks slightly cheaper but with lower specifications.  \n",
    "\n",
    "🔹 *Conclusion: The price varies significantly by laptop type, depending on the target audience and hardware specifications.* 🚀  \n"
   ]
  },
  {
   "cell_type": "code",
   "execution_count": 244,
   "metadata": {},
   "outputs": [
    {
     "data": {
      "text/plain": [
       "<Axes: xlabel='PPI', ylabel='Price'>"
      ]
     },
     "execution_count": 244,
     "metadata": {},
     "output_type": "execute_result"
    },
    {
     "data": {
      "image/png": "[encoded data removed]",
      "text/plain": [
       "<Figure size 640x480 with 1 Axes>"
      ]
     },
     "metadata": {},
     "output_type": "display_data"
    }
   ],
   "source": [
    "sns.scatterplot(x=df['PPI'],y=df['Price'])"
   ]
  },
  {
   "cell_type": "markdown",
   "metadata": {},
   "source": [
    "## 📊 Relationship Between PPI and Laptop Price  \n",
    "\n",
    "🔹 **Observation:**  \n",
    "1. Laptops with **higher PPI (Pixels Per Inch)** tend to have **higher price ranges**, but price variations exist across all PPIs.  \n",
    "2. The **majority of laptops fall between 100-200 PPI**, with prices ranging widely from budget to premium.  \n",
    "3. A few **high-PPI models (250+ PPI)** exceed ₹300,000, indicating premium displays are usually found in high-end laptops.  \n",
    "\n",
    "🔹 **Conclusion:**  \n",
    "- While higher PPI often correlates with higher prices, other factors like **brand, hardware, and specifications** significantly impact the overall cost.  \n",
    "- **Premium laptops** with high-resolution displays command a price premium.  \n",
    "\n",
    "💡 *If you need affordability, mid-range PPI (around 150) offers good balance!* ✅  \n"
   ]
  },
  {
   "cell_type": "code",
   "execution_count": 251,
   "metadata": {},
   "outputs": [
    {
     "data": {
      "text/plain": [
       "<Axes: xlabel='Touchscreen'>"
      ]
     },
     "execution_count": 251,
     "metadata": {},
     "output_type": "execute_result"
    },
    {
     "data": {
      "image/png": "[encoded data removed]",
      "text/plain": [
       "<Figure size 640x480 with 1 Axes>"
      ]
     },
     "metadata": {},
     "output_type": "display_data"
    }
   ],
   "source": [
    "df['Touchscreen'].value_counts().plot(kind='bar')"
   ]
  },
  {
   "cell_type": "markdown",
   "metadata": {},
   "source": [
    "## 📊 Touchscreen vs Non-Touchscreen Laptops  \n",
    "\n",
    "🔹 **Observation:**  \n",
    "1. The majority of laptops in the dataset are **non-touchscreen** (labeled as `0`), significantly outnumbering touchscreen models.  \n",
    "2. **Touchscreen laptops** (labeled as `1`) form a much smaller portion of the market.  \n",
    "\n",
    "🔹 **Conclusion:**  \n",
    "- Touchscreen laptops are **less common** compared to traditional non-touchscreen models.  \n",
    "- This could be due to **higher costs, different use cases, and consumer preferences** leaning towards non-touchscreen devices.  \n",
    "\n",
    "💡 *Touchscreens are great for 2-in-1 convertibles, but if you don’t need them, a non-touchscreen laptop may be more cost-effective!* ✅  \n"
   ]
  },
  {
   "cell_type": "code",
   "execution_count": 252,
   "metadata": {},
   "outputs": [
    {
     "data": {
      "text/plain": [
       "<Axes: xlabel='Touchscreen', ylabel='Price'>"
      ]
     },
     "execution_count": 252,
     "metadata": {},
     "output_type": "execute_result"
    },
    {
     "data": {
      "image/png": "[encoded data removed]",
      "text/plain": [
       "<Figure size 640x480 with 1 Axes>"
      ]
     },
     "metadata": {},
     "output_type": "display_data"
    }
   ],
   "source": [
    "sns.barplot(x=df['Touchscreen'],y=df['Price'])"
   ]
  },
  {
   "cell_type": "markdown",
   "metadata": {},
   "source": [
    "## 💰 Price Comparison: Touchscreen vs Non-Touchscreen Laptops  \n",
    "\n",
    "🔹 **Observation:**  \n",
    "1. **Touchscreen laptops** (`1`) are **more expensive**, with an average price **above ₹75,000**.  \n",
    "2. **Non-touchscreen laptops** (`0`) are **cheaper**, averaging around **₹55,000**.  \n",
    "3. There is a **visible error bar** in the touchscreen category, indicating some variation in pricing.  \n",
    "\n",
    "🔹 **Conclusion:**  \n",
    "- Touchscreen laptops generally cost **₹20,000+ more** than non-touchscreen ones.  \n",
    "- The added price may be due to **better displays, 2-in-1 functionality, and premium features**.  \n",
    "- If you **don’t need a touchscreen**, a non-touchscreen laptop can **save money** without sacrificing performance.  \n",
    "\n"
   ]
  },
  {
   "cell_type": "code",
   "execution_count": 254,
   "metadata": {},
   "outputs": [
    {
     "data": {
      "text/plain": [
       "<Axes: xlabel='IPS'>"
      ]
     },
     "execution_count": 254,
     "metadata": {},
     "output_type": "execute_result"
    },
    {
     "data": {
      "image/png": "[encoded data removed]",
      "text/plain": [
       "<Figure size 640x480 with 1 Axes>"
      ]
     },
     "metadata": {},
     "output_type": "display_data"
    }
   ],
   "source": [
    "df['IPS'].value_counts().plot(kind='bar')"
   ]
  },
  {
   "cell_type": "code",
   "execution_count": null,
   "metadata": {},
   "outputs": [],
   "source": []
  },
  {
   "cell_type": "markdown",
   "metadata": {},
   "source": [
    "## 📊 IPS Display vs Non-IPS Display: Laptop Count  \n",
    "\n",
    "🔹 **Observation:**  \n",
    "1. **Non-IPS laptops** (`0`) are **much more common** in the dataset.  \n",
    "2. **IPS laptops** (`1`) are significantly **fewer in number**.  \n",
    "\n",
    "🔹 **Possible Reasons:**  \n",
    "- **Non-IPS displays are cheaper**, making them a popular choice for budget and mid-range laptops.  \n",
    "- **IPS displays offer better colors and viewing angles**, but they cost more.  \n",
    "- Many **gaming and professional laptops** use **IPS panels** for better display quality.  \n"
   ]
  },
  {
   "cell_type": "code",
   "execution_count": 255,
   "metadata": {},
   "outputs": [
    {
     "data": {
      "text/plain": [
       "<Axes: xlabel='IPS', ylabel='Price'>"
      ]
     },
     "execution_count": 255,
     "metadata": {},
     "output_type": "execute_result"
    },
    {
     "data": {
      "image/png": "[encoded data removed]",
      "text/plain": [
       "<Figure size 640x480 with 1 Axes>"
      ]
     },
     "metadata": {},
     "output_type": "display_data"
    }
   ],
   "source": [
    "sns.barplot(x=df['IPS'],y=df['Price'])"
   ]
  },
  {
   "cell_type": "markdown",
   "metadata": {},
   "source": [
    "## 💰 IPS vs Non-IPS Display: Price Comparison  \n",
    "\n",
    "🔹 **Key Insights:**  \n",
    "1. **Non-IPS laptops (`0`) have a lower average price** (~₹55,000).  \n",
    "2. **IPS laptops (`1`) are more expensive**, with an average price of ~₹75,000.  \n",
    "3. The **price variation (error bars) is slightly higher** for IPS displays.  \n",
    "\n",
    "🔹 **Possible Reasons for Price Difference:**  \n",
    "- **IPS displays offer better visuals** (color accuracy, contrast, and viewing angles).  \n",
    "- IPS panels are **more expensive to manufacture** compared to TN or VA panels.  \n",
    "- **High-end laptops** with **better specifications often include IPS displays**.  \n",
    "\n",
    "💡 *If you want a **budget-friendly option**, go for a non-IPS laptop. But for **better display quality**, an IPS laptop is worth the investment!* ✅  "
   ]
  },
  {
   "cell_type": "markdown",
   "metadata": {},
   "source": []
  },
  {
   "cell_type": "code",
   "execution_count": 256,
   "metadata": {},
   "outputs": [
    {
     "data": {
      "text/plain": [
       "<Axes: xlabel='CPU Brand'>"
      ]
     },
     "execution_count": 256,
     "metadata": {},
     "output_type": "execute_result"
    },
    {
     "data": {
      "image/png": "[encoded data removed]",
      "text/plain": [
       "<Figure size 640x480 with 1 Axes>"
      ]
     },
     "metadata": {},
     "output_type": "display_data"
    }
   ],
   "source": [
    "df['CPU Brand'].value_counts().plot(kind='bar')"
   ]
  },
  {
   "cell_type": "markdown",
   "metadata": {},
   "source": [
    "## 🔥 CPU Popularity in Laptops  \n",
    "\n",
    "🔹 **Key Insights:**  \n",
    "1. **Intel dominates the market**, with Core i7 and Core i5 leading in popularity.  \n",
    "2. **Intel Core i7 is the most preferred processor**, followed by Core i5.  \n",
    "3. **Intel Core i3 and other Intel processors have moderate demand**, mainly for budget users.  \n",
    "4. **AMD processors have the lowest presence** in this dataset, possibly due to fewer AMD-based laptop options.  \n",
    "\n",
    "🔹 **Possible Reasons for Intel’s Popularity:**  \n",
    "- **Strong brand reputation** and dominance in the laptop market.  \n",
    "- **Better optimization** for performance and software compatibility.  \n",
    "- **Higher availability** in a wide range of laptop models.  \n",
    "\n",
    "💡 *If you're looking for **powerful performance**, go for an **Intel Core i7 or i5**. If you're on a **budget**, Intel Core i3 or AMD processors might be better options!* ✅  \n"
   ]
  },
  {
   "cell_type": "code",
   "execution_count": 261,
   "metadata": {},
   "outputs": [
    {
     "data": {
      "image/png": "[encoded data removed]",
      "text/plain": [
       "<Figure size 640x480 with 1 Axes>"
      ]
     },
     "metadata": {},
     "output_type": "display_data"
    }
   ],
   "source": [
    "sns.barplot(x=df['CPU Brand'],y=df['Price'])\n",
    "plt.xticks(rotation='vertical')\n",
    "plt.show()"
   ]
  },
  {
   "cell_type": "markdown",
   "metadata": {},
   "source": [
    "## 💰 CPU Brand vs. Laptop Price Analysis  \n",
    "\n",
    "🔹 **Key Takeaways:**  \n",
    "1. **Intel Core i7 laptops are the most expensive**, averaging above ₹80,000.  \n",
    "2. **Intel Core i5 laptops are mid-range**, with prices around ₹55,000.  \n",
    "3. **AMD, Intel Core i3, and Other Intel Processors fall in the budget segment**, averaging between ₹25,000 - ₹30,000.  \n",
    "4. **Price variation is higher in AMD and Other Intel processors**, possibly due to a wider range of models and configurations.  \n",
    "\n",
    "🔹 **Choosing the Right CPU Based on Budget:**  \n",
    "- **High performance (₹80,000+):** Intel Core i7  \n",
    "- **Balanced performance (₹50,000 - ₹60,000):** Intel Core i5  \n",
    "- **Budget-friendly (₹25,000 - ₹35,000):** Intel Core i3 or AMD  \n",
    "\n",
    "💡 *If you need a high-end laptop for gaming, editing, or heavy tasks, go for **Intel Core i7**. If you're looking for a budget-friendly option, **Intel Core i3 or AMD** might be the right choice!* ✅  \n"
   ]
  },
  {
   "cell_type": "code",
   "execution_count": 262,
   "metadata": {},
   "outputs": [
    {
     "data": {
      "text/plain": [
       "<Axes: xlabel='Ram'>"
      ]
     },
     "execution_count": 262,
     "metadata": {},
     "output_type": "execute_result"
    },
    {
     "data": {
      "image/png": "[encoded data removed]",
      "text/plain": [
       "<Figure size 640x480 with 1 Axes>"
      ]
     },
     "metadata": {},
     "output_type": "display_data"
    }
   ],
   "source": [
    "df['Ram'].value_counts().plot(kind='bar')"
   ]
  },
  {
   "cell_type": "markdown",
   "metadata": {},
   "source": [
    "## 📊 RAM Size Distribution in Laptops  \n",
    "\n",
    "🔹 **Key Observations:**  \n",
    "1. **8GB RAM is the most popular choice**, followed by **4GB and 16GB**.  \n",
    "2. **Very few laptops have 2GB, 6GB, 12GB, 24GB, 32GB, or 64GB RAM**, indicating they are either outdated (low RAM) or high-end professional models (large RAM).  \n",
    "3. **Most users prefer 8GB RAM**, likely due to its balance between performance and cost.  \n",
    "\n",
    "🔹 **Choosing the Right RAM for Your Needs:**  \n",
    "- **Basic usage (Browsing, MS Office, YouTube, etc.)** → 4GB or 6GB  \n",
    "- **Multitasking, casual gaming, and light editing** → 8GB  \n",
    "- **Professional work, video editing, and gaming** → 16GB or more  \n",
    "\n",
    "💡 *For most users, **8GB RAM is the sweet spot**, but if you’re into gaming or editing, consider **16GB+ RAM** for smooth performance!* 🚀✅  \n"
   ]
  },
  {
   "cell_type": "code",
   "execution_count": 263,
   "metadata": {},
   "outputs": [
    {
     "data": {
      "text/plain": [
       "<Axes: xlabel='Ram', ylabel='Price'>"
      ]
     },
     "execution_count": 263,
     "metadata": {},
     "output_type": "execute_result"
    },
    {
     "data": {
      "image/png": "[encoded data removed]",
      "text/plain": [
       "<Figure size 640x480 with 1 Axes>"
      ]
     },
     "metadata": {},
     "output_type": "display_data"
    }
   ],
   "source": [
    "sns.barplot(x=df['Ram'],y=df['Price'])"
   ]
  },
  {
   "cell_type": "markdown",
   "metadata": {},
   "source": [
    "## 📊 Laptop Price vs. RAM Analysis  \n",
    "\n",
    "### 🔍 Key Insights  \n",
    "- 💾 **RAM Capacity Correlates with Pricing** – Laptops with *32 GB+ RAM* are significantly more expensive.  \n",
    "- 📉 **8 GB & 16 GB RAM Configurations Dominate** – Optimal balance between cost and performance for mainstream users.  \n",
    "- ⚠ **Premium Models (24 GB+ RAM) Exhibit High Price Variability**, influenced by additional hardware specifications.  \n",
    "\n",
    "### ✅ RAM Recommendations by Use Case  \n",
    "- 🖥 **Basic Productivity (Browsing, Office Applications)** → *4-6 GB*  \n",
    "- 🎮 **Multitasking & Gaming** → *8-16 GB*  \n",
    "- 🏆 **Professional Workloads (Content Creation, AI/ML, High-End Gaming)** → *16-64 GB*  \n",
    "\n",
    "💡 *For most users, 8 GB RAM is sufficient, while power users should opt for 16 GB or more to ensure optimal performance.*  \n"
   ]
  },
  {
   "cell_type": "markdown",
   "metadata": {},
   "source": []
  },
  {
   "cell_type": "code",
   "execution_count": 264,
   "metadata": {},
   "outputs": [
    {
     "data": {
      "text/plain": [
       "<Axes: xlabel='GPU Brand'>"
      ]
     },
     "execution_count": 264,
     "metadata": {},
     "output_type": "execute_result"
    },
    {
     "data": {
      "image/png": "[encoded data removed]",
      "text/plain": [
       "<Figure size 640x480 with 1 Axes>"
      ]
     },
     "metadata": {},
     "output_type": "display_data"
    }
   ],
   "source": [
    "df['GPU Brand'].value_counts().plot(kind='bar')"
   ]
  },
  {
   "cell_type": "markdown",
   "metadata": {},
   "source": [
    "## 📊 GPU Brand Distribution  \n",
    "\n",
    "### 🔍 Key Insights  \n",
    "- 💾 **Intel GPUs dominate** – Highest presence in the dataset, likely integrated graphics.  \n",
    "- 🎮 **Nvidia GPUs hold a strong share** – Common in gaming and high-performance laptops.  \n",
    "- ⚠ **AMD GPUs have the lowest representation**, possibly due to market positioning.  \n",
    "\n",
    "💡 *Intel is the most common, but Nvidia is the preferred choice for performance-focused users.*  \n"
   ]
  },
  {
   "cell_type": "code",
   "execution_count": 269,
   "metadata": {},
   "outputs": [
    {
     "data": {
      "text/plain": [
       "<Axes: xlabel='GPU Brand', ylabel='Price'>"
      ]
     },
     "execution_count": 269,
     "metadata": {},
     "output_type": "execute_result"
    },
    {
     "data": {
      "image/png": "[encoded data removed]",
      "text/plain": [
       "<Figure size 640x480 with 1 Axes>"
      ]
     },
     "metadata": {},
     "output_type": "display_data"
    }
   ],
   "source": [
    "sns.barplot(x=df['GPU Brand'],y=df['Price'])\n"
   ]
  },
  {
   "cell_type": "markdown",
   "metadata": {},
   "source": [
    "## 📊 GPU Brand vs. Laptop Price  \n",
    "\n",
    "### 🔍 Key Insights  \n",
    "- 💾 **Nvidia GPUs are associated with the highest prices**, likely due to their use in gaming and high-performance laptops.  \n",
    "- 🎮 **Intel GPUs have moderate pricing**, suggesting a balance between affordability and performance.  \n",
    "- ⚠ **AMD GPUs show the lowest average price**, indicating a focus on budget-friendly and mid-range segments.  \n",
    "\n",
    "💡 *For high-end performance, Nvidia GPUs are the most expensive, while AMD offers cost-effective alternatives.*  \n"
   ]
  },
  {
   "cell_type": "code",
   "execution_count": 272,
   "metadata": {},
   "outputs": [
    {
     "data": {
      "text/plain": [
       "(array([0, 1, 2]),\n",
       " [Text(0, 0, 'Windows'), Text(1, 0, 'Other/No OS/Linux'), Text(2, 0, 'Mac')])"
      ]
     },
     "execution_count": 272,
     "metadata": {},
     "output_type": "execute_result"
    },
    {
     "data": {
      "image/png": "[encoded data removed]",
      "text/plain": [
       "<Figure size 640x480 with 1 Axes>"
      ]
     },
     "metadata": {},
     "output_type": "display_data"
    }
   ],
   "source": [
    "df['OS'].value_counts().plot(kind='bar')\n",
    "plt.xticks(rotation='horizontal')"
   ]
  },
  {
   "cell_type": "markdown",
   "metadata": {},
   "source": [
    "## 📊 Laptop Distribution by Operating System  \n",
    "\n",
    "### 🔍 Key Insights  \n",
    "- 💾 **Windows dominates the market**, with the highest number of laptops.  \n",
    "- 🖥 **Other OS/No OS/Linux has a small but notable presence**, often found in budget and developer-focused laptops.  \n",
    "- ⚠ **Mac laptops have the lowest representation**, likely due to their premium pricing and specific user base.  \n",
    "\n",
    "💡 *Windows remains the most widely used OS, while Mac is niche, and Linux appeals to a specialized audience.*  \n"
   ]
  },
  {
   "cell_type": "code",
   "execution_count": 273,
   "metadata": {},
   "outputs": [
    {
     "data": {
      "text/plain": [
       "<Axes: xlabel='OS', ylabel='Price'>"
      ]
     },
     "execution_count": 273,
     "metadata": {},
     "output_type": "execute_result"
    },
    {
     "data": {
      "image/png": "[encoded data removed]",
      "text/plain": [
       "<Figure size 640x480 with 1 Axes>"
      ]
     },
     "metadata": {},
     "output_type": "display_data"
    }
   ],
   "source": [
    "sns.barplot(x=df['OS'],y=df['Price'])"
   ]
  },
  {
   "cell_type": "markdown",
   "metadata": {},
   "source": [
    "## 📊 Operating System vs. Laptop Price  \n",
    "\n",
    "### 🔍 Key Insights  \n",
    "- 💾 **Mac laptops have the highest average price**, with significant price variability, indicating premium positioning.  \n",
    "- 🖥 **Windows laptops are moderately priced**, offering a balance between affordability and performance.  \n",
    "- ⚠ **Other OS/No OS/Linux laptops are the most budget-friendly**, often targeting developers and cost-conscious users.  \n",
    "\n",
    "💡 *MacBooks are premium-priced, Windows offers diverse pricing, while Linux-based systems are the most economical.*  \n"
   ]
  },
  {
   "cell_type": "markdown",
   "metadata": {},
   "source": []
  },
  {
   "cell_type": "code",
   "execution_count": 282,
   "metadata": {},
   "outputs": [
    {
     "data": {
      "text/plain": [
       "<seaborn.axisgrid.FacetGrid at 0x1b8de26b9d0>"
      ]
     },
     "execution_count": 282,
     "metadata": {},
     "output_type": "execute_result"
    },
    {
     "data": {
      "image/png": "[encoded data removed]",
      "text/plain": [
       "<Figure size 500x500 with 1 Axes>"
      ]
     },
     "metadata": {},
     "output_type": "display_data"
    }
   ],
   "source": [
    "sns.displot(df['Weight'])"
   ]
  },
  {
   "cell_type": "markdown",
   "metadata": {},
   "source": [
    "## 📊 Laptop Weight Distribution  \n",
    "\n",
    "### 🔍 Key Insights  \n",
    "- 💾 **Most laptops weigh between 1.5 kg and 2.5 kg**, indicating a standard range for mainstream models.  \n",
    "- 🖥 **Ultrabooks and lightweight models (<1.5 kg) are less common**, Except higher count near 1.3Kg. \n",
    "- ⚠ **Heavier laptops (3 kg+) exist but are rare**, likely representing gaming or workstation-class devices.  \n",
    "\n",
    "💡 *The majority of laptops fall in the 2 kg range, balancing portability and performance.*  \n"
   ]
  },
  {
   "cell_type": "code",
   "execution_count": 283,
   "metadata": {},
   "outputs": [
    {
     "data": {
      "text/plain": [
       "<Axes: xlabel='Weight', ylabel='Price'>"
      ]
     },
     "execution_count": 283,
     "metadata": {},
     "output_type": "execute_result"
    },
    {
     "data": {
      "image/png": "[encoded data removed]",
      "text/plain": [
       "<Figure size 640x480 with 1 Axes>"
      ]
     },
     "metadata": {},
     "output_type": "display_data"
    }
   ],
   "source": [
    "sns.scatterplot(x=df['Weight'],y=df['Price'])"
   ]
  },
  {
   "cell_type": "markdown",
   "metadata": {},
   "source": [
    "## 📊 Laptop Weight vs. Price  \n",
    "\n",
    "### 🔍 Key Insights  \n",
    "- 💾 **Most laptops weigh between 1 kg and 2.8 kg**, with a wide price distribution.  \n",
    "- 🎮 **Heavier laptops (3 kg+) tend to be more expensive**, likely representing gaming and workstation models.  \n",
    "- ⚠ **Lighter laptops (<1.5 kg) also show premium pricing**, indicating high-end ultrabooks.  \n",
    "-   **weak positive correlation between laptop weight and price**\n",
    "\n",
    "💡 *Both lightweight ultrabooks and heavy gaming laptops command premium prices, while mid-weight models dominate the affordable range.*  \n"
   ]
  },
  {
   "cell_type": "markdown",
   "metadata": {},
   "source": []
  },
  {
   "cell_type": "code",
   "execution_count": 285,
   "metadata": {},
   "outputs": [
    {
     "data": {
      "text/plain": [
       "<Axes: >"
      ]
     },
     "execution_count": 285,
     "metadata": {},
     "output_type": "execute_result"
    },
    {
     "data": {
      "image/png": "[encoded data removed]",
      "text/plain": [
       "<Figure size 640x480 with 2 Axes>"
      ]
     },
     "metadata": {},
     "output_type": "display_data"
    }
   ],
   "source": [
    "sns.heatmap(df.select_dtypes(include='number').corr())"
   ]
  },
  {
   "cell_type": "markdown",
   "metadata": {},
   "source": [
    "## 📊 Laptop Feature Correlation Heatmap  \n",
    "\n",
    "### 🔍 Key Insights  \n",
    "- 💾 **RAM and Price show a strong positive correlation**, indicating that higher RAM configurations lead to increased costs.  \n",
    "- 📈 **SSD has a negative correlation with HDD**, as laptops typically use one over the other.  \n",
    "- 🖥 **PPI (Pixel Density) positively correlates with Price**, highlighting that higher-resolution displays are more expensive.  \n",
    "- ⚠ **Weight has a moderate correlation with Price**, suggesting that heavier laptops (workstations/gaming) often cost more.  \n",
    "\n",
    "💡 *RAM, SSD, and high-resolution displays are key price drivers, while HDDs are inversely related to SSD usage.*  \n"
   ]
  },
  {
   "cell_type": "code",
   "execution_count": 289,
   "metadata": {},
   "outputs": [
    {
     "name": "stderr",
     "output_type": "stream",
     "text": [
      "C:\\Users\\dbzar\\AppData\\Local\\Temp\\ipykernel_7812\\3329408040.py:1: UserWarning: \n",
      "\n",
      "`distplot` is a deprecated function and will be removed in seaborn v0.14.0.\n",
      "\n",
      "Please adapt your code to use either `displot` (a figure-level function with\n",
      "similar flexibility) or `histplot` (an axes-level function for histograms).\n",
      "\n",
      "For a guide to updating your code to use the new functions, please see\n",
      "https://gist.github.com/mwaskom/de44147ed2974457ad6372750bbe5751\n",
      "\n",
      "  sns.distplot((df['Price']))\n"
     ]
    },
    {
     "data": {
      "text/plain": [
       "<Axes: xlabel='Price', ylabel='Density'>"
      ]
     },
     "execution_count": 289,
     "metadata": {},
     "output_type": "execute_result"
    },
    {
     "data": {
      "image/png": "[encoded data removed]",
      "text/plain": [
       "<Figure size 640x480 with 1 Axes>"
      ]
     },
     "metadata": {},
     "output_type": "display_data"
    }
   ],
   "source": [
    "sns.distplot((df['Price']))"
   ]
  },
  {
   "cell_type": "markdown",
   "metadata": {},
   "source": [
    "## 📊 Right-Skewed Price Distribution  \n",
    "\n",
    "### 🔍 Observations  \n",
    "- The **price distribution is right-skewed**, meaning most laptops are in the lower price range, with a few high-priced models causing a long tail.  \n",
    "- This skewness can **affect statistical modeling and machine learning algorithms**, leading to biased predictions.\n",
    "\n",
    "### 🔄 Normalization Approach  \n",
    "To improve the distribution, we will apply **log transformation or Box-Cox transformation** to make the data more normally distributed.\n",
    "\n",
    "### ✅ Benefits of Normalization  \n",
    "- **Enhances Model Performance** 🚀: Many algorithms (e.g., linear regression) assume normality for better accuracy.  \n",
    "- **Reduces Variance Impact** 📉: Helps manage outliers and stabilize variance.  \n",
    "- **Improves Interpretability** 📊: Easier to analyze relationships between variables.  \n",
    "\n",
    "💡 *By normalizing, we ensure robust statistical analysis and better predictive insights.*  \n"
   ]
  },
  {
   "cell_type": "code",
   "execution_count": 290,
   "metadata": {},
   "outputs": [
    {
     "name": "stderr",
     "output_type": "stream",
     "text": [
      "C:\\Users\\dbzar\\AppData\\Local\\Temp\\ipykernel_7812\\3556049916.py:1: UserWarning: \n",
      "\n",
      "`distplot` is a deprecated function and will be removed in seaborn v0.14.0.\n",
      "\n",
      "Please adapt your code to use either `displot` (a figure-level function with\n",
      "similar flexibility) or `histplot` (an axes-level function for histograms).\n",
      "\n",
      "For a guide to updating your code to use the new functions, please see\n",
      "https://gist.github.com/mwaskom/de44147ed2974457ad6372750bbe5751\n",
      "\n",
      "  sns.distplot(np.log(df['Price']))\n"
     ]
    },
    {
     "data": {
      "text/plain": [
       "<Axes: xlabel='Price', ylabel='Density'>"
      ]
     },
     "execution_count": 290,
     "metadata": {},
     "output_type": "execute_result"
    },
    {
     "data": {
      "image/png": "[encoded data removed]",
      "text/plain": [
       "<Figure size 640x480 with 1 Axes>"
      ]
     },
     "metadata": {},
     "output_type": "display_data"
    }
   ],
   "source": [
    "sns.distplot(np.log(df['Price']))"
   ]
  },
  {
   "cell_type": "markdown",
   "metadata": {},
   "source": [
    "## 🧩 Train-Test Split: Preparing Data for Model Training  \n"
   ]
  },
  {
   "cell_type": "code",
   "metadata": {
    "ExecuteTime": {
     "end_time": "2025-04-04T14:46:06.835022Z",
     "start_time": "2025-04-04T14:46:06.825467Z"
    }
   },
   "source": [
    "X = df.drop(columns=['Price'])\n",
    "y = np.log(df['Price'])"
   ],
   "outputs": [],
   "execution_count": 36
  },
  {
   "cell_type": "code",
   "execution_count": 293,
   "metadata": {},
   "outputs": [
    {
     "data": {
      "text/html": [
       "<div>\n",
       "<style scoped>\n",
       "    .dataframe tbody tr th:only-of-type {\n",
       "        vertical-align: middle;\n",
       "    }\n",
       "\n",
       "    .dataframe tbody tr th {\n",
       "        vertical-align: top;\n",
       "    }\n",
       "\n",
       "    .dataframe thead th {\n",
       "        text-align: right;\n",
       "    }\n",
       "</style>\n",
       "<table border=\"1\" class=\"dataframe\">\n",
       "  <thead>\n",
       "    <tr style=\"text-align: right;\">\n",
       "      <th></th>\n",
       "      <th>Company</th>\n",
       "      <th>TypeName</th>\n",
       "      <th>Ram</th>\n",
       "      <th>Weight</th>\n",
       "      <th>Touchscreen</th>\n",
       "      <th>IPS</th>\n",
       "      <th>PPI</th>\n",
       "      <th>CPU Brand</th>\n",
       "      <th>HDD</th>\n",
       "      <th>SDD</th>\n",
       "      <th>GPU Brand</th>\n",
       "      <th>OS</th>\n",
       "    </tr>\n",
       "  </thead>\n",
       "  <tbody>\n",
       "    <tr>\n",
       "      <th>499</th>\n",
       "      <td>Lenovo</td>\n",
       "      <td>Notebook</td>\n",
       "      <td>8</td>\n",
       "      <td>2.3</td>\n",
       "      <td>0</td>\n",
       "      <td>1</td>\n",
       "      <td>141.211998</td>\n",
       "      <td>Intel Core i5</td>\n",
       "      <td>0</td>\n",
       "      <td>256</td>\n",
       "      <td>Intel</td>\n",
       "      <td>Windows</td>\n",
       "    </tr>\n",
       "  </tbody>\n",
       "</table>\n",
       "</div>"
      ],
      "text/plain": [
       "    Company  TypeName  Ram  Weight  Touchscreen  IPS         PPI  \\\n",
       "499  Lenovo  Notebook    8     2.3            0    1  141.211998   \n",
       "\n",
       "         CPU Brand  HDD  SDD GPU Brand       OS  \n",
       "499  Intel Core i5    0  256     Intel  Windows  "
      ]
     },
     "execution_count": 293,
     "metadata": {},
     "output_type": "execute_result"
    }
   ],
   "source": [
    "X.sample()"
   ]
  },
  {
   "cell_type": "code",
   "execution_count": 295,
   "metadata": {},
   "outputs": [
    {
     "data": {
      "text/plain": [
       "829     10.403657\n",
       "1041     9.326433\n",
       "92      11.063132\n",
       "172      9.708871\n",
       "1267    10.667629\n",
       "Name: Price, dtype: float64"
      ]
     },
     "execution_count": 295,
     "metadata": {},
     "output_type": "execute_result"
    }
   ],
   "source": [
    "y.sample(5)"
   ]
  },
  {
   "cell_type": "code",
   "metadata": {
    "ExecuteTime": {
     "end_time": "2025-04-04T14:46:11.934174Z",
     "start_time": "2025-04-04T14:46:11.493227Z"
    }
   },
   "source": [
    "from sklearn.model_selection import train_test_split\n",
    "X_train, X_test, y_train, y_test = train_test_split(X, y, test_size=0.15, random_state=2)"
   ],
   "outputs": [],
   "execution_count": 37
  },
  {
   "cell_type": "code",
   "execution_count": 2,
   "metadata": {},
   "outputs": [
    {
     "ename": "NameError",
     "evalue": "name 'X_train' is not defined",
     "output_type": "error",
     "traceback": [
      "\u001B[1;31m---------------------------------------------------------------------------\u001B[0m",
      "\u001B[1;31mNameError\u001B[0m                                 Traceback (most recent call last)",
      "Cell \u001B[1;32mIn[2], line 1\u001B[0m\n\u001B[1;32m----> 1\u001B[0m \u001B[43mX_train\u001B[49m\u001B[38;5;241m.\u001B[39msample(\u001B[38;5;241m5\u001B[39m)\n",
      "\u001B[1;31mNameError\u001B[0m: name 'X_train' is not defined"
     ]
    }
   ],
   "source": [
    "X_train.sample(5)"
   ]
  },
  {
   "cell_type": "markdown",
   "metadata": {},
   "source": [
    "### 🔍 What is One-Hot Encoding?  \n",
    "One-Hot Encoding transforms categorical data into **binary vectors**, allowing machine learning models to process non-numeric features effectively.  \n",
    "\n",
    "### 🎯 Why Use It?  \n",
    "- **Prepares Data for Models** 🤖: Converts text labels into numerical form.  \n",
    "- **Prevents Ordinal Misinterpretation** 🚫: Avoids false ranking in categorical variables.  \n",
    "- **Enhances Algorithm Compatibility** 🔄: Works well with most ML models.  \n",
    "\n",
    "💡 *One-Hot Encoding is the brushstroke that paints categorical data into a machine-readable masterpiece!* 🎨  \n"
   ]
  },
  {
   "cell_type": "code",
   "metadata": {
    "ExecuteTime": {
     "end_time": "2025-04-04T14:46:17.131686Z",
     "start_time": "2025-04-04T14:46:16.947425Z"
    }
   },
   "source": [
    "from sklearn.compose import ColumnTransformer\n",
    "from sklearn.pipeline import Pipeline \n",
    "from sklearn.preprocessing import OneHotEncoder"
   ],
   "outputs": [],
   "execution_count": 38
  },
  {
   "cell_type": "code",
   "metadata": {
    "ExecuteTime": {
     "end_time": "2025-04-04T14:46:19.219224Z",
     "start_time": "2025-04-04T14:46:18.919428Z"
    }
   },
   "source": [
    "from sklearn.linear_model import LinearRegression, Ridge, Lasso\n",
    "from sklearn.neighbors import KNeighborsRegressor\n",
    "from sklearn.tree import DecisionTreeRegressor\n",
    "from sklearn.ensemble import RandomForestRegressor, GradientBoostingRegressor,AdaBoostRegressor, ExtraTreesRegressor\n",
    "from sklearn.svm import SVR\n",
    "from xgboost import XGBRegressor  \n",
    "from sklearn.metrics import r2_score, mean_absolute_error  "
   ],
   "outputs": [],
   "execution_count": 39
  },
  {
   "cell_type": "markdown",
   "metadata": {},
   "source": [
    "# 🚀 **Machine Learning Pipeline: One-Hot Encoding + Linear Regression**\n",
    "\n",
    "This **pipeline** automates feature **transformation** and **model training** using **`ColumnTransformer`**, **`OneHotEncoder`**, and **`LinearRegression`**.\n",
    "\n",
    "---\n",
    "\n",
    "## 🛠 **Step 1: Feature Transformation with `ColumnTransformer`**\n",
    "🔹 **Applies `OneHotEncoder()` to categorical variables**, converting them into numerical form.  \n",
    "🔹 `transformers` is a **list of transformations** applied to specific columns.\n",
    "\n",
    "### 🔑 **Key Components:**\n",
    "| Parameter | Description |\n",
    "|-----------|------------|\n",
    "| 🎯 **First Parameter** | Name of the transformation (`'col_tfm'`) |\n",
    "| 🔄 **Second Parameter** | `OneHotEncoder()`, applies categorical encoding |\n",
    "| 📌 **Third Parameter** | List of column indices `[0,1,7,10,11]` to transform |\n",
    "\n",
    "### ⚙ **One-Hot Encoder Settings:**\n",
    "✅ `sparse_output=False` → Returns a **NumPy array** instead of a sparse matrix.  \n",
    "✅ `drop='first'` → Drops the **first category** to prevent multicollinearity.  \n",
    "✅ `remainder='passthrough'` → Keeps **non-categorical columns unchanged**.  \n",
    "\n",
    "---\n",
    "\n",
    "## 📈 **Step 2: Model Training with `LinearRegression()`**\n",
    "🔹 `Step2` creates an instance of **Linear Regression**, which learns relationships between features and target values.\n",
    "\n",
    "---\n",
    "\n",
    "## 🔄 **Step 3: Automating with `Pipeline`**\n",
    "`Pipeline()` **simplifies preprocessing and model training** by executing a sequence of transformations **in order**.\n",
    "\n",
    "Execution of **transformation** and **modeltraining**\n",
    "pipe.fit(X_train, y_train)  \n",
    "\n",
    "## Evaluation of model\n",
    "📊 **R² Score (`r2_score`)** → Measures how well the model explains variance in the target; **closer to 1 means better accuracy**.  \n",
    "\n",
    "📉 **Mean Absolute Error (`MAE`)** → Calculates the **average absolute difference** between actual and predicted values; **lower is better**.  \n"
   ]
  },
  {
   "cell_type": "code",
   "execution_count": null,
   "metadata": {},
   "outputs": [
    {
     "name": "stdout",
     "output_type": "stream",
     "text": [
      "r2_score 0.8074755451106762\n",
      "MAE 0.2095356446444036\n"
     ]
    }
   ],
   "source": [
    "# Step1 = ColumnTransformer(transformers=[\n",
    "#     ('col_tfm',OneHotEncoder(sparse_output=False,drop='first'),[0,1,7,10,11])\n",
    "# ],remainder='passthrough')\n",
    "#\n",
    "# Step2 = LinearRegression()\n",
    "#\n",
    "# pipe = Pipeline([\n",
    "#     ('step1',Step1),\n",
    "#     ('step2',Step2)\n",
    "# ])\n",
    "#\n",
    "# pipe.fit(X_train,y_train)\n",
    "#\n",
    "# y_pred = pipe.predict(X_test)\n",
    "#\n",
    "# print('r2_score',r2_score(y_test,y_pred))\n",
    "# print('MAE',mean_absolute_error(y_test,y_pred))"
   ]
  },
  {
   "cell_type": "code",
   "execution_count": 44,
   "metadata": {},
   "outputs": [
    {
     "name": "stdout",
     "output_type": "stream",
     "text": [
      "r2_score 0.8130105322926247\n",
      "MAE 0.20948050730519963\n"
     ]
    }
   ],
   "source": [
    "# Step1 = ColumnTransformer(transformers=[\n",
    "#     ('col_tfm',OneHotEncoder(sparse_output=False,drop='first'),[0,1,7,10,11])\n",
    "# ],remainder='passthrough')\n",
    "#\n",
    "# Step2 =Ridge(alpha=10)\n",
    "#\n",
    "# pipe = Pipeline([\n",
    "#     ('step1',Step1),\n",
    "#     ('step2',Step2)\n",
    "# ])\n",
    "#\n",
    "# pipe.fit(X_train,y_train)\n",
    "#\n",
    "# y_pred = pipe.predict(X_test)\n",
    "#\n",
    "# print('r2_score',r2_score(y_test,y_pred))\n",
    "# print('MAE',mean_absolute_error(y_test,y_pred))"
   ]
  },
  {
   "cell_type": "code",
   "execution_count": 45,
   "metadata": {},
   "outputs": [
    {
     "name": "stdout",
     "output_type": "stream",
     "text": [
      "r2_score 0.8008098744042611\n",
      "MAE 0.1941532400099745\n"
     ]
    }
   ],
   "source": [
    "# Step1 = ColumnTransformer(transformers=[\n",
    "#     ('col_tfm',OneHotEncoder(sparse_output=False,drop='first'),[0,1,7,10,11])\n",
    "# ],remainder='passthrough')\n",
    "#\n",
    "# Step2 = KNeighborsRegressor(n_neighbors=3)\n",
    "#\n",
    "# pipe = Pipeline([\n",
    "#     ('step1',Step1),\n",
    "#     ('step2',Step2)\n",
    "# ])\n",
    "#\n",
    "# pipe.fit(X_train,y_train)\n",
    "#\n",
    "# y_pred = pipe.predict(X_test)\n",
    "#\n",
    "# print('r2_score',r2_score(y_test,y_pred))\n",
    "# print('MAE',mean_absolute_error(y_test,y_pred))"
   ]
  },
  {
   "cell_type": "code",
   "execution_count": 50,
   "metadata": {},
   "outputs": [
    {
     "name": "stdout",
     "output_type": "stream",
     "text": [
      "r2_score 0.8392319721146759\n",
      "MAE 0.18237271921544382\n"
     ]
    }
   ],
   "source": [
    "# Step1 = ColumnTransformer(transformers=[\n",
    "#     ('col_tfm',OneHotEncoder(sparse_output=False,drop='first'),[0,1,7,10,11])\n",
    "# ],remainder='passthrough')\n",
    "#\n",
    "# Step2 = DecisionTreeRegressor(max_depth=8)\n",
    "#\n",
    "# pipe = Pipeline([\n",
    "#     ('step1',Step1),\n",
    "#     ('step2',Step2)\n",
    "# ])\n",
    "#\n",
    "# pipe.fit(X_train,y_train)\n",
    "#\n",
    "# y_pred = pipe.predict(X_test)\n",
    "#\n",
    "# print('r2_score',r2_score(y_test,y_pred))\n",
    "# print('MAE',mean_absolute_error(y_test,y_pred))"
   ]
  },
  {
   "cell_type": "code",
   "execution_count": 51,
   "metadata": {},
   "outputs": [
    {
     "name": "stdout",
     "output_type": "stream",
     "text": [
      "r2_score 0.8081239550353497\n",
      "MAE 0.2027583737166636\n"
     ]
    }
   ],
   "source": [
    "# Step1 = ColumnTransformer(transformers=[\n",
    "#     ('col_tfm',OneHotEncoder(sparse_output=False,drop='first'),[0,1,7,10,11])\n",
    "# ],remainder='passthrough')\n",
    "#\n",
    "# Step2 = SVR(kernel='rbf',C=10000,epsilon=0.1)\n",
    "#\n",
    "# pipe = Pipeline([\n",
    "#     ('step1',Step1),\n",
    "#     ('step2',Step2)\n",
    "# ])\n",
    "#\n",
    "# pipe.fit(X_train,y_train)\n",
    "#\n",
    "# y_pred = pipe.predict(X_test)\n",
    "#\n",
    "# print('r2_score',r2_score(y_test,y_pred))\n",
    "# print('MAE',mean_absolute_error(y_test,y_pred))"
   ]
  },
  {
   "cell_type": "code",
   "metadata": {
    "ExecuteTime": {
     "end_time": "2025-04-04T18:23:25.983860Z",
     "start_time": "2025-04-04T18:23:24.462555Z"
    }
   },
   "source": [
    "Step1 = ColumnTransformer(transformers=[\n",
    "    ('col_tfm',OneHotEncoder(sparse_output=False,drop='first'),[0,1,7,10,11])\n",
    "],remainder='passthrough')\n",
    "\n",
    "Step2 = RandomForestRegressor(\n",
    "                            n_estimators=100,\n",
    "                            random_state=3,\n",
    "                            max_samples=0.5,\n",
    "                            max_features=0.75,\n",
    "                            max_depth=15\n",
    ")\n",
    "\n",
    "pipe = Pipeline([\n",
    "    ('step1',Step1),\n",
    "    ('step2',Step2)\n",
    "])\n",
    "\n",
    "pipe.fit(X_train,y_train)\n",
    "\n",
    "y_pred = pipe.predict(X_test)\n",
    "\n",
    "print('r2_score',r2_score(y_test,y_pred))\n",
    "print('MAE',mean_absolute_error(y_test,y_pred))"
   ],
   "outputs": [
    {
     "name": "stdout",
     "output_type": "stream",
     "text": [
      "r2_score 0.885961366883367\n",
      "MAE 0.15986297411872033\n"
     ]
    }
   ],
   "execution_count": 71
  },
  {
   "cell_type": "code",
   "execution_count": 55,
   "metadata": {},
   "outputs": [
    {
     "name": "stdout",
     "output_type": "stream",
     "text": [
      "r2_score 0.8866963622569379\n",
      "MAE 0.16071660646470737\n"
     ]
    }
   ],
   "source": [
    "# Step1 = ColumnTransformer(transformers=[\n",
    "#     ('col_tfm',OneHotEncoder(sparse_output=False,drop='first'),[0,1,7,10,11])\n",
    "# ],remainder='passthrough')\n",
    "#\n",
    "# Step2 = ExtraTreesRegressor(\n",
    "#                             n_estimators=100,\n",
    "#                             random_state=3,\n",
    "#                             max_samples=0.5,\n",
    "#                             max_features=0.75,\n",
    "#                             max_depth=15,\n",
    "#                             bootstrap=True\n",
    "# )\n",
    "#\n",
    "# pipe = Pipeline([\n",
    "#     ('step1',Step1),\n",
    "#     ('step2',Step2)\n",
    "# ])\n",
    "#\n",
    "# pipe.fit(X_train,y_train)\n",
    "#\n",
    "# y_pred = pipe.predict(X_test)\n",
    "#\n",
    "# print('r2_score',r2_score(y_test,y_pred))\n",
    "# print('MAE',mean_absolute_error(y_test,y_pred))"
   ]
  },
  {
   "cell_type": "code",
   "execution_count": 56,
   "metadata": {},
   "outputs": [
    {
     "name": "stdout",
     "output_type": "stream",
     "text": [
      "r2_score 0.8069400837470742\n",
      "MAE 0.22248207597950856\n"
     ]
    }
   ],
   "source": [
    "# Step1 = ColumnTransformer(transformers=[\n",
    "#     ('col_tfm',OneHotEncoder(sparse_output=False,drop='first'),[0,1,7,10,11])\n",
    "# ],remainder='passthrough')\n",
    "#\n",
    "# Step2 = AdaBoostRegressor(\n",
    "#                             n_estimators=100,\n",
    "#                             learning_rate=1.0\n",
    "# )\n",
    "#\n",
    "# pipe = Pipeline([\n",
    "#     ('step1',Step1),\n",
    "#     ('step2',Step2)\n",
    "# ])\n",
    "#\n",
    "# pipe.fit(X_train,y_train)\n",
    "#\n",
    "# y_pred = pipe.predict(X_test)\n",
    "#\n",
    "# print('r2_score',r2_score(y_test,y_pred))\n",
    "# print('MAE',mean_absolute_error(y_test,y_pred))"
   ]
  },
  {
   "cell_type": "code",
   "metadata": {
    "ExecuteTime": {
     "end_time": "2025-04-04T14:17:50.268697Z",
     "start_time": "2025-04-04T14:17:47.713938Z"
    }
   },
   "source": [
    "# Step1 = ColumnTransformer(transformers=[\n",
    "#     ('col_tfm',OneHotEncoder(sparse_output=False,drop='first'),[0,1,7,10,11])\n",
    "# ],remainder='passthrough')\n",
    "#\n",
    "# Step2 = GradientBoostingRegressor(\n",
    "#                             n_estimators=500\n",
    "# )\n",
    "#\n",
    "# pipe = Pipeline([\n",
    "#     ('step1',Step1),\n",
    "#     ('step2',Step2)\n",
    "# ])\n",
    "#\n",
    "# pipe.fit(X_train,y_train)\n",
    "#\n",
    "# y_pred = pipe.predict(X_test)\n",
    "#\n",
    "# print('r2_score',r2_score(y_test,y_pred))\n",
    "# print('MAE',mean_absolute_error(y_test,y_pred))"
   ],
   "outputs": [
    {
     "ename": "NameError",
     "evalue": "name 'ColumnTransformer' is not defined",
     "output_type": "error",
     "traceback": [
      "\u001B[1;31m---------------------------------------------------------------------------\u001B[0m",
      "\u001B[1;31mNameError\u001B[0m                                 Traceback (most recent call last)",
      "Cell \u001B[1;32mIn[1], line 1\u001B[0m\n\u001B[1;32m----> 1\u001B[0m Step1 \u001B[38;5;241m=\u001B[39m \u001B[43mColumnTransformer\u001B[49m(transformers\u001B[38;5;241m=\u001B[39m[\n\u001B[0;32m      2\u001B[0m     (\u001B[38;5;124m'\u001B[39m\u001B[38;5;124mcol_tfm\u001B[39m\u001B[38;5;124m'\u001B[39m,OneHotEncoder(sparse_output\u001B[38;5;241m=\u001B[39m\u001B[38;5;28;01mFalse\u001B[39;00m,drop\u001B[38;5;241m=\u001B[39m\u001B[38;5;124m'\u001B[39m\u001B[38;5;124mfirst\u001B[39m\u001B[38;5;124m'\u001B[39m),[\u001B[38;5;241m0\u001B[39m,\u001B[38;5;241m1\u001B[39m,\u001B[38;5;241m7\u001B[39m,\u001B[38;5;241m10\u001B[39m,\u001B[38;5;241m11\u001B[39m])\n\u001B[0;32m      3\u001B[0m ],remainder\u001B[38;5;241m=\u001B[39m\u001B[38;5;124m'\u001B[39m\u001B[38;5;124mpassthrough\u001B[39m\u001B[38;5;124m'\u001B[39m)\n\u001B[0;32m      5\u001B[0m Step2 \u001B[38;5;241m=\u001B[39m GradientBoostingRegressor(\n\u001B[0;32m      6\u001B[0m                             n_estimators\u001B[38;5;241m=\u001B[39m\u001B[38;5;241m500\u001B[39m\n\u001B[0;32m      7\u001B[0m )\n\u001B[0;32m      9\u001B[0m pipe \u001B[38;5;241m=\u001B[39m Pipeline([\n\u001B[0;32m     10\u001B[0m     (\u001B[38;5;124m'\u001B[39m\u001B[38;5;124mstep1\u001B[39m\u001B[38;5;124m'\u001B[39m,Step1),\n\u001B[0;32m     11\u001B[0m     (\u001B[38;5;124m'\u001B[39m\u001B[38;5;124mstep2\u001B[39m\u001B[38;5;124m'\u001B[39m,Step2)\n\u001B[0;32m     12\u001B[0m ])\n",
      "\u001B[1;31mNameError\u001B[0m: name 'ColumnTransformer' is not defined"
     ]
    }
   ],
   "execution_count": 1
  },
  {
   "cell_type": "code",
   "execution_count": 74,
   "metadata": {},
   "outputs": [
    {
     "name": "stdout",
     "output_type": "stream",
     "text": [
      "r2_score 0.8886238563070588\n",
      "MAE 0.15768670834066817\n"
     ]
    }
   ],
   "source": [
    "# Step1 = ColumnTransformer(transformers=[\n",
    "#     ('col_tfm',OneHotEncoder(sparse_output=False,drop='first'),[0,1,7,10,11])\n",
    "# ],remainder='passthrough')\n",
    "#\n",
    "# Step2 = XGBRegressor(n_estimators=50, max_depth = 5, learning_rate= 0.3)\n",
    "#\n",
    "# pipe = Pipeline([\n",
    "#     ('step1',Step1),\n",
    "#     ('step2',Step2)\n",
    "# ])\n",
    "#\n",
    "# pipe.fit(X_train,y_train)\n",
    "#\n",
    "# y_pred = pipe.predict(X_test)\n",
    "#\n",
    "# print('r2_score',r2_score(y_test,y_pred))\n",
    "# print('MAE',mean_absolute_error(y_test,y_pred))"
   ]
  },
  {
   "cell_type": "markdown",
   "metadata": {},
   "source": [
    "# Exporting Model"
   ]
  },
  {
   "cell_type": "code",
   "metadata": {
    "ExecuteTime": {
     "end_time": "2025-04-04T18:24:23.105923Z",
     "start_time": "2025-04-04T18:24:23.060327Z"
    }
   },
   "source": [
    "import pickle\n",
    "\n",
    "pickle.dump(df,open('df.pkl','wb'))\n",
    "pickle.dump(pipe,open('pipe.pkl','wb'))"
   ],
   "outputs": [],
   "execution_count": 72
  },
  {
   "cell_type": "code",
   "metadata": {
    "ExecuteTime": {
     "end_time": "2025-04-04T16:06:20.938538Z",
     "start_time": "2025-04-04T16:06:20.644366Z"
    }
   },
   "source": "print(df.dtypes)",
   "outputs": [
    {
     "name": "stdout",
     "output_type": "stream",
     "text": [
      "Company         object\n",
      "TypeName        object\n",
      "Ram              int64\n",
      "Weight         float64\n",
      "Price            int64\n",
      "Touchscreen      int64\n",
      "IPS              int64\n",
      "PPI            float64\n",
      "CPU Brand       object\n",
      "HDD              int64\n",
      "SDD              int64\n",
      "GPU Brand       object\n",
      "OS              object\n",
      "dtype: object\n"
     ]
    }
   ],
   "execution_count": 43
  },
  {
   "cell_type": "code",
   "metadata": {
    "ExecuteTime": {
     "end_time": "2025-04-04T14:37:52.716977Z",
     "start_time": "2025-04-04T14:37:51.424715Z"
    }
   },
   "source": "",
   "outputs": [
    {
     "ename": "NameError",
     "evalue": "name 'df' is not defined",
     "output_type": "error",
     "traceback": [
      "\u001B[1;31m---------------------------------------------------------------------------\u001B[0m",
      "\u001B[1;31mNameError\u001B[0m                                 Traceback (most recent call last)",
      "Cell \u001B[1;32mIn[1], line 1\u001B[0m\n\u001B[1;32m----> 1\u001B[0m \u001B[43mdf\u001B[49m\u001B[38;5;241m.\u001B[39msample()\n",
      "\u001B[1;31mNameError\u001B[0m: name 'df' is not defined"
     ]
    }
   ],
   "execution_count": 1
  },
  {
   "metadata": {},
   "cell_type": "code",
   "outputs": [],
   "execution_count": null,
   "source": ""
  }
 ],
 "metadata": {
  "kernelspec": {
   "display_name": "Python 3",
   "language": "python",
   "name": "python3"
  },
  "language_info": {
   "codemirror_mode": {
    "name": "ipython",
    "version": 3
   },
   "file_extension": ".py",
   "mimetype": "text/x-python",
   "name": "python",
   "nbconvert_exporter": "python",
   "pygments_lexer": "ipython3",
   "version": "3.13.2"
  }
 },
 "nbformat": 4,
 "nbformat_minor": 2
}
